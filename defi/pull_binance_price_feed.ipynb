{
 "cells": [
  {
   "cell_type": "code",
   "execution_count": 1,
   "id": "b85782d6",
   "metadata": {},
   "outputs": [],
   "source": [
    "import requests\n",
    "import zipfile\n",
    "import io\n",
    "import os\n",
    "import pandas as pd\n",
    "from datetime import datetime, timedelta\n",
    "import time"
   ]
  },
  {
   "cell_type": "markdown",
   "id": "18947a62",
   "metadata": {},
   "source": [
    "Binance API doc\n",
    "https://developers.binance.com/docs/binance-spot-api-docs/testnet/rest-api/market-data-endpoints#klinecandlestick-data"
   ]
  },
  {
   "cell_type": "code",
   "execution_count": 32,
   "id": "eba42774",
   "metadata": {},
   "outputs": [],
   "source": [
    "from dotenv import load_dotenv\n",
    "from dune_client.client import DuneClient"
   ]
  },
  {
   "cell_type": "code",
   "execution_count": 33,
   "id": "080c41a1",
   "metadata": {},
   "outputs": [],
   "source": [
    "def get_dune_client():\n",
    "    dotenv_path = \"/Users/zokum/local-Workspace/uf/uniswap-tvl-and-volume-breakdown-versions-and-chains/.env\"\n",
    "    load_dotenv(dotenv_path)\n",
    "    return DuneClient.from_env()"
   ]
  },
  {
   "cell_type": "code",
   "execution_count": 34,
   "id": "6a671364",
   "metadata": {},
   "outputs": [],
   "source": [
    "dune = get_dune_client()"
   ]
  },
  {
   "cell_type": "code",
   "execution_count": 43,
   "id": "a8511c04",
   "metadata": {},
   "outputs": [],
   "source": [
    "# Parameters\n",
    "symbol = \"ETHUSDT\" \n",
    "interval = \"1s\"\n",
    "start_date = datetime(2025, 1, 1)\n",
    "end_date = datetime(2025, 4, 30)\n",
    "output_folder = \"./price_1s\"\n",
    "os.makedirs(output_folder, exist_ok=True)"
   ]
  },
  {
   "cell_type": "code",
   "execution_count": 44,
   "id": "e3a9423b",
   "metadata": {},
   "outputs": [],
   "source": [
    "# Define the header based on Binance documentation\n",
    "columns = [\n",
    "    \"open_time\", \"open\", \"high\", \"low\", \"close\", \"volume\",\n",
    "    \"close_time\", \"quote_asset_volume\", \"number_of_trades\",\n",
    "    \"taker_buy_base_volume\", \"taker_buy_quote_volume\", \"ignore\"\n",
    "]"
   ]
  },
  {
   "cell_type": "code",
   "execution_count": 45,
   "id": "7140328b",
   "metadata": {},
   "outputs": [],
   "source": [
    "all_data = []"
   ]
  },
  {
   "cell_type": "code",
   "execution_count": 46,
   "id": "974c5b24",
   "metadata": {
    "scrolled": true
   },
   "outputs": [
    {
     "name": "stdout",
     "output_type": "stream",
     "text": [
      "✅ Downloaded 2025-01-01\n",
      "✅ Downloaded 2025-01-02\n",
      "✅ Downloaded 2025-01-03\n",
      "✅ Downloaded 2025-01-04\n",
      "✅ Downloaded 2025-01-05\n",
      "✅ Downloaded 2025-01-06\n",
      "✅ Downloaded 2025-01-07\n",
      "✅ Downloaded 2025-01-08\n",
      "✅ Downloaded 2025-01-09\n",
      "✅ Downloaded 2025-01-10\n",
      "✅ Downloaded 2025-01-11\n",
      "✅ Downloaded 2025-01-12\n",
      "✅ Downloaded 2025-01-13\n",
      "✅ Downloaded 2025-01-14\n",
      "✅ Downloaded 2025-01-15\n",
      "✅ Downloaded 2025-01-16\n",
      "✅ Downloaded 2025-01-17\n",
      "✅ Downloaded 2025-01-18\n",
      "✅ Downloaded 2025-01-19\n",
      "✅ Downloaded 2025-01-20\n",
      "✅ Downloaded 2025-01-21\n",
      "✅ Downloaded 2025-01-22\n",
      "✅ Downloaded 2025-01-23\n",
      "✅ Downloaded 2025-01-24\n",
      "✅ Downloaded 2025-01-25\n",
      "✅ Downloaded 2025-01-26\n",
      "✅ Downloaded 2025-01-27\n",
      "✅ Downloaded 2025-01-28\n",
      "✅ Downloaded 2025-01-29\n",
      "✅ Downloaded 2025-01-30\n",
      "✅ Downloaded 2025-01-31\n",
      "✅ Downloaded 2025-02-01\n",
      "✅ Downloaded 2025-02-02\n",
      "✅ Downloaded 2025-02-03\n",
      "✅ Downloaded 2025-02-04\n",
      "✅ Downloaded 2025-02-05\n",
      "✅ Downloaded 2025-02-06\n",
      "✅ Downloaded 2025-02-07\n",
      "✅ Downloaded 2025-02-08\n",
      "✅ Downloaded 2025-02-09\n",
      "✅ Downloaded 2025-02-10\n",
      "✅ Downloaded 2025-02-11\n",
      "✅ Downloaded 2025-02-12\n",
      "✅ Downloaded 2025-02-13\n",
      "✅ Downloaded 2025-02-14\n",
      "✅ Downloaded 2025-02-15\n",
      "✅ Downloaded 2025-02-16\n",
      "✅ Downloaded 2025-02-17\n",
      "✅ Downloaded 2025-02-18\n",
      "✅ Downloaded 2025-02-19\n",
      "✅ Downloaded 2025-02-20\n",
      "✅ Downloaded 2025-02-21\n",
      "✅ Downloaded 2025-02-22\n",
      "✅ Downloaded 2025-02-23\n",
      "✅ Downloaded 2025-02-24\n",
      "✅ Downloaded 2025-02-25\n",
      "✅ Downloaded 2025-02-26\n",
      "✅ Downloaded 2025-02-27\n",
      "✅ Downloaded 2025-02-28\n",
      "✅ Downloaded 2025-03-01\n",
      "✅ Downloaded 2025-03-02\n",
      "✅ Downloaded 2025-03-03\n",
      "✅ Downloaded 2025-03-04\n",
      "✅ Downloaded 2025-03-05\n",
      "✅ Downloaded 2025-03-06\n",
      "✅ Downloaded 2025-03-07\n",
      "✅ Downloaded 2025-03-08\n",
      "✅ Downloaded 2025-03-09\n",
      "✅ Downloaded 2025-03-10\n",
      "✅ Downloaded 2025-03-11\n",
      "✅ Downloaded 2025-03-12\n",
      "✅ Downloaded 2025-03-13\n",
      "✅ Downloaded 2025-03-14\n",
      "✅ Downloaded 2025-03-15\n",
      "✅ Downloaded 2025-03-16\n",
      "✅ Downloaded 2025-03-17\n",
      "✅ Downloaded 2025-03-18\n",
      "✅ Downloaded 2025-03-19\n",
      "✅ Downloaded 2025-03-20\n",
      "✅ Downloaded 2025-03-21\n",
      "✅ Downloaded 2025-03-22\n",
      "✅ Downloaded 2025-03-23\n",
      "✅ Downloaded 2025-03-24\n",
      "✅ Downloaded 2025-03-25\n",
      "✅ Downloaded 2025-03-26\n",
      "✅ Downloaded 2025-03-27\n",
      "✅ Downloaded 2025-03-28\n",
      "✅ Downloaded 2025-03-29\n",
      "✅ Downloaded 2025-03-30\n",
      "✅ Downloaded 2025-03-31\n",
      "✅ Downloaded 2025-04-01\n",
      "✅ Downloaded 2025-04-02\n",
      "✅ Downloaded 2025-04-03\n",
      "✅ Downloaded 2025-04-04\n",
      "✅ Downloaded 2025-04-05\n",
      "✅ Downloaded 2025-04-06\n",
      "✅ Downloaded 2025-04-07\n",
      "✅ Downloaded 2025-04-08\n",
      "✅ Downloaded 2025-04-09\n",
      "✅ Downloaded 2025-04-10\n",
      "✅ Downloaded 2025-04-11\n",
      "✅ Downloaded 2025-04-12\n",
      "✅ Downloaded 2025-04-13\n",
      "✅ Downloaded 2025-04-14\n",
      "✅ Downloaded 2025-04-15\n",
      "✅ Downloaded 2025-04-16\n",
      "✅ Downloaded 2025-04-17\n",
      "✅ Downloaded 2025-04-18\n",
      "✅ Downloaded 2025-04-19\n",
      "✅ Downloaded 2025-04-20\n",
      "✅ Downloaded 2025-04-21\n",
      "✅ Downloaded 2025-04-22\n",
      "✅ Downloaded 2025-04-23\n",
      "✅ Downloaded 2025-04-24\n",
      "✅ Downloaded 2025-04-25\n",
      "✅ Downloaded 2025-04-26\n",
      "✅ Downloaded 2025-04-27\n",
      "✅ Downloaded 2025-04-28\n",
      "✅ Downloaded 2025-04-29\n",
      "❌ Failed on 2025-04-30: 404 Client Error: Not Found for url: https://data.binance.vision/data/spot/daily/klines/ETHUSDT/1s/ETHUSDT-1s-2025-04-30.zip\n"
     ]
    }
   ],
   "source": [
    "current_date = start_date\n",
    "while current_date <= end_date:\n",
    "    date_str = current_date.strftime(\"%Y-%m-%d\")\n",
    "    filename = f\"{symbol}-{interval}-{date_str}.zip\"\n",
    "    url = f\"https://data.binance.vision/data/spot/daily/klines/{symbol}/{interval}/{filename}\"\n",
    "    try:\n",
    "        res = requests.get(url)\n",
    "        res.raise_for_status()\n",
    "        with zipfile.ZipFile(io.BytesIO(res.content)) as z:\n",
    "            extracted_file = z.namelist()[0]\n",
    "            with z.open(extracted_file) as f:\n",
    "                lines = f.read().decode(\"utf-8\").splitlines()\n",
    "                daily_data = [line.split(\",\") for line in lines]\n",
    "                all_data.extend(daily_data)\n",
    "        print(f\"✅ Downloaded {date_str}\")\n",
    "    except Exception as e:\n",
    "        print(f\"❌ Failed on {date_str}: {e}\")\n",
    "    current_date += timedelta(days=1)\n",
    "    \n",
    "    time.sleep(0.1) "
   ]
  },
  {
   "cell_type": "code",
   "execution_count": 47,
   "id": "7760d7af",
   "metadata": {},
   "outputs": [],
   "source": [
    "# Create dataframe\n",
    "df = pd.DataFrame(all_data, columns=columns)\n",
    "\n",
    "# Convert microsecond timestamps to datetime\n",
    "df[\"open_time\"] = pd.to_datetime(df[\"open_time\"].astype(\"int64\") // 1_000_000, unit=\"s\")\n",
    "df[\"close_time\"] = pd.to_datetime(df[\"close_time\"].astype(\"int64\") // 1_000_000, unit=\"s\")"
   ]
  },
  {
   "cell_type": "code",
   "execution_count": 48,
   "id": "f9ccbc35",
   "metadata": {},
   "outputs": [
    {
     "data": {
      "text/html": [
       "<div>\n",
       "<style scoped>\n",
       "    .dataframe tbody tr th:only-of-type {\n",
       "        vertical-align: middle;\n",
       "    }\n",
       "\n",
       "    .dataframe tbody tr th {\n",
       "        vertical-align: top;\n",
       "    }\n",
       "\n",
       "    .dataframe thead th {\n",
       "        text-align: right;\n",
       "    }\n",
       "</style>\n",
       "<table border=\"1\" class=\"dataframe\">\n",
       "  <thead>\n",
       "    <tr style=\"text-align: right;\">\n",
       "      <th></th>\n",
       "      <th>open_time</th>\n",
       "      <th>open</th>\n",
       "      <th>high</th>\n",
       "      <th>low</th>\n",
       "      <th>close</th>\n",
       "      <th>volume</th>\n",
       "      <th>close_time</th>\n",
       "      <th>quote_asset_volume</th>\n",
       "      <th>number_of_trades</th>\n",
       "      <th>taker_buy_base_volume</th>\n",
       "      <th>taker_buy_quote_volume</th>\n",
       "      <th>ignore</th>\n",
       "    </tr>\n",
       "  </thead>\n",
       "  <tbody>\n",
       "    <tr>\n",
       "      <th>0</th>\n",
       "      <td>2025-01-01 00:00:00</td>\n",
       "      <td>3337.78000000</td>\n",
       "      <td>3337.78000000</td>\n",
       "      <td>3337.78000000</td>\n",
       "      <td>3337.78000000</td>\n",
       "      <td>0.27470000</td>\n",
       "      <td>2025-01-01 00:00:00</td>\n",
       "      <td>916.88816600</td>\n",
       "      <td>4</td>\n",
       "      <td>0.00000000</td>\n",
       "      <td>0.00000000</td>\n",
       "      <td>0</td>\n",
       "    </tr>\n",
       "    <tr>\n",
       "      <th>1</th>\n",
       "      <td>2025-01-01 00:00:01</td>\n",
       "      <td>3337.78000000</td>\n",
       "      <td>3337.79000000</td>\n",
       "      <td>3337.78000000</td>\n",
       "      <td>3337.78000000</td>\n",
       "      <td>0.51770000</td>\n",
       "      <td>2025-01-01 00:00:01</td>\n",
       "      <td>1727.96873500</td>\n",
       "      <td>6</td>\n",
       "      <td>0.00290000</td>\n",
       "      <td>9.67959100</td>\n",
       "      <td>0</td>\n",
       "    </tr>\n",
       "    <tr>\n",
       "      <th>2</th>\n",
       "      <td>2025-01-01 00:00:02</td>\n",
       "      <td>3337.79000000</td>\n",
       "      <td>3337.79000000</td>\n",
       "      <td>3337.78000000</td>\n",
       "      <td>3337.78000000</td>\n",
       "      <td>0.01500000</td>\n",
       "      <td>2025-01-01 00:00:02</td>\n",
       "      <td>50.06680000</td>\n",
       "      <td>2</td>\n",
       "      <td>0.01000000</td>\n",
       "      <td>33.37790000</td>\n",
       "      <td>0</td>\n",
       "    </tr>\n",
       "    <tr>\n",
       "      <th>3</th>\n",
       "      <td>2025-01-01 00:00:03</td>\n",
       "      <td>3337.78000000</td>\n",
       "      <td>3337.78000000</td>\n",
       "      <td>3337.41000000</td>\n",
       "      <td>3337.41000000</td>\n",
       "      <td>0.97980000</td>\n",
       "      <td>2025-01-01 00:00:03</td>\n",
       "      <td>3270.18997700</td>\n",
       "      <td>25</td>\n",
       "      <td>0.10880000</td>\n",
       "      <td>363.11129600</td>\n",
       "      <td>0</td>\n",
       "    </tr>\n",
       "    <tr>\n",
       "      <th>4</th>\n",
       "      <td>2025-01-01 00:00:04</td>\n",
       "      <td>3337.42000000</td>\n",
       "      <td>3337.42000000</td>\n",
       "      <td>3337.42000000</td>\n",
       "      <td>3337.42000000</td>\n",
       "      <td>0.00750000</td>\n",
       "      <td>2025-01-01 00:00:04</td>\n",
       "      <td>25.03065000</td>\n",
       "      <td>2</td>\n",
       "      <td>0.00750000</td>\n",
       "      <td>25.03065000</td>\n",
       "      <td>0</td>\n",
       "    </tr>\n",
       "  </tbody>\n",
       "</table>\n",
       "</div>"
      ],
      "text/plain": [
       "            open_time           open           high            low  \\\n",
       "0 2025-01-01 00:00:00  3337.78000000  3337.78000000  3337.78000000   \n",
       "1 2025-01-01 00:00:01  3337.78000000  3337.79000000  3337.78000000   \n",
       "2 2025-01-01 00:00:02  3337.79000000  3337.79000000  3337.78000000   \n",
       "3 2025-01-01 00:00:03  3337.78000000  3337.78000000  3337.41000000   \n",
       "4 2025-01-01 00:00:04  3337.42000000  3337.42000000  3337.42000000   \n",
       "\n",
       "           close      volume          close_time quote_asset_volume  \\\n",
       "0  3337.78000000  0.27470000 2025-01-01 00:00:00       916.88816600   \n",
       "1  3337.78000000  0.51770000 2025-01-01 00:00:01      1727.96873500   \n",
       "2  3337.78000000  0.01500000 2025-01-01 00:00:02        50.06680000   \n",
       "3  3337.41000000  0.97980000 2025-01-01 00:00:03      3270.18997700   \n",
       "4  3337.42000000  0.00750000 2025-01-01 00:00:04        25.03065000   \n",
       "\n",
       "  number_of_trades taker_buy_base_volume taker_buy_quote_volume ignore  \n",
       "0                4            0.00000000             0.00000000      0  \n",
       "1                6            0.00290000             9.67959100      0  \n",
       "2                2            0.01000000            33.37790000      0  \n",
       "3               25            0.10880000           363.11129600      0  \n",
       "4                2            0.00750000            25.03065000      0  "
      ]
     },
     "execution_count": 48,
     "metadata": {},
     "output_type": "execute_result"
    }
   ],
   "source": [
    "df.head()"
   ]
  },
  {
   "cell_type": "code",
   "execution_count": 49,
   "id": "95c6eace",
   "metadata": {},
   "outputs": [
    {
     "data": {
      "text/plain": [
       "(10166379, 12)"
      ]
     },
     "execution_count": 49,
     "metadata": {},
     "output_type": "execute_result"
    }
   ],
   "source": [
    "df.shape"
   ]
  },
  {
   "cell_type": "code",
   "execution_count": 50,
   "id": "c547aa16",
   "metadata": {},
   "outputs": [],
   "source": [
    "# Truncate columns if desired\n",
    "df_mod = df[[\"close_time\", \"close\"]]"
   ]
  },
  {
   "cell_type": "code",
   "execution_count": 51,
   "id": "24b9f555",
   "metadata": {},
   "outputs": [
    {
     "name": "stderr",
     "output_type": "stream",
     "text": [
      "/var/folders/d7/px4831yx38d7k85rs8_2n93r0000gn/T/ipykernel_2564/3874359909.py:1: SettingWithCopyWarning: \n",
      "A value is trying to be set on a copy of a slice from a DataFrame.\n",
      "Try using .loc[row_indexer,col_indexer] = value instead\n",
      "\n",
      "See the caveats in the documentation: https://pandas.pydata.org/pandas-docs/stable/user_guide/indexing.html#returning-a-view-versus-a-copy\n",
      "  df_mod['close'] = pd.to_numeric(df_mod['close'], errors='coerce')\n"
     ]
    }
   ],
   "source": [
    "df_mod['close'] = pd.to_numeric(df_mod['close'], errors='coerce')"
   ]
  },
  {
   "cell_type": "code",
   "execution_count": 52,
   "id": "4da2d974",
   "metadata": {},
   "outputs": [
    {
     "name": "stdout",
     "output_type": "stream",
     "text": [
      "close_time    datetime64[ns]\n",
      "close                float64\n",
      "dtype: object\n"
     ]
    }
   ],
   "source": [
    "print(df_mod.dtypes)"
   ]
  },
  {
   "cell_type": "code",
   "execution_count": 53,
   "id": "903f15bb",
   "metadata": {},
   "outputs": [
    {
     "data": {
      "text/html": [
       "<div>\n",
       "<style scoped>\n",
       "    .dataframe tbody tr th:only-of-type {\n",
       "        vertical-align: middle;\n",
       "    }\n",
       "\n",
       "    .dataframe tbody tr th {\n",
       "        vertical-align: top;\n",
       "    }\n",
       "\n",
       "    .dataframe thead th {\n",
       "        text-align: right;\n",
       "    }\n",
       "</style>\n",
       "<table border=\"1\" class=\"dataframe\">\n",
       "  <thead>\n",
       "    <tr style=\"text-align: right;\">\n",
       "      <th></th>\n",
       "      <th>close_time</th>\n",
       "      <th>close</th>\n",
       "    </tr>\n",
       "  </thead>\n",
       "  <tbody>\n",
       "    <tr>\n",
       "      <th>0</th>\n",
       "      <td>2025-01-01 00:00:00</td>\n",
       "      <td>3337.78</td>\n",
       "    </tr>\n",
       "    <tr>\n",
       "      <th>1</th>\n",
       "      <td>2025-01-01 00:00:01</td>\n",
       "      <td>3337.78</td>\n",
       "    </tr>\n",
       "    <tr>\n",
       "      <th>2</th>\n",
       "      <td>2025-01-01 00:00:02</td>\n",
       "      <td>3337.78</td>\n",
       "    </tr>\n",
       "    <tr>\n",
       "      <th>3</th>\n",
       "      <td>2025-01-01 00:00:03</td>\n",
       "      <td>3337.41</td>\n",
       "    </tr>\n",
       "    <tr>\n",
       "      <th>4</th>\n",
       "      <td>2025-01-01 00:00:04</td>\n",
       "      <td>3337.42</td>\n",
       "    </tr>\n",
       "    <tr>\n",
       "      <th>...</th>\n",
       "      <td>...</td>\n",
       "      <td>...</td>\n",
       "    </tr>\n",
       "    <tr>\n",
       "      <th>10166374</th>\n",
       "      <td>2025-04-29 23:59:55</td>\n",
       "      <td>1798.38</td>\n",
       "    </tr>\n",
       "    <tr>\n",
       "      <th>10166375</th>\n",
       "      <td>2025-04-29 23:59:56</td>\n",
       "      <td>1798.07</td>\n",
       "    </tr>\n",
       "    <tr>\n",
       "      <th>10166376</th>\n",
       "      <td>2025-04-29 23:59:57</td>\n",
       "      <td>1797.88</td>\n",
       "    </tr>\n",
       "    <tr>\n",
       "      <th>10166377</th>\n",
       "      <td>2025-04-29 23:59:58</td>\n",
       "      <td>1797.81</td>\n",
       "    </tr>\n",
       "    <tr>\n",
       "      <th>10166378</th>\n",
       "      <td>2025-04-29 23:59:59</td>\n",
       "      <td>1797.81</td>\n",
       "    </tr>\n",
       "  </tbody>\n",
       "</table>\n",
       "<p>10166379 rows × 2 columns</p>\n",
       "</div>"
      ],
      "text/plain": [
       "                  close_time    close\n",
       "0        2025-01-01 00:00:00  3337.78\n",
       "1        2025-01-01 00:00:01  3337.78\n",
       "2        2025-01-01 00:00:02  3337.78\n",
       "3        2025-01-01 00:00:03  3337.41\n",
       "4        2025-01-01 00:00:04  3337.42\n",
       "...                      ...      ...\n",
       "10166374 2025-04-29 23:59:55  1798.38\n",
       "10166375 2025-04-29 23:59:56  1798.07\n",
       "10166376 2025-04-29 23:59:57  1797.88\n",
       "10166377 2025-04-29 23:59:58  1797.81\n",
       "10166378 2025-04-29 23:59:59  1797.81\n",
       "\n",
       "[10166379 rows x 2 columns]"
      ]
     },
     "execution_count": 53,
     "metadata": {},
     "output_type": "execute_result"
    }
   ],
   "source": [
    "df_mod"
   ]
  },
  {
   "cell_type": "code",
   "execution_count": 54,
   "id": "fa90738f",
   "metadata": {},
   "outputs": [],
   "source": [
    "# # Save to CSV\n",
    "# df_mod.to_csv(os.path.join(output_folder, \"ethusdc_1s_jan1_apr29.csv\"), index=False)\n",
    "# print(\"✅ CSV saved and ready for upload!\")"
   ]
  },
  {
   "cell_type": "code",
   "execution_count": 55,
   "id": "798f7079",
   "metadata": {},
   "outputs": [],
   "source": [
    "# df_mod_csv = df_mod.to_csv(index=False)"
   ]
  },
  {
   "cell_type": "code",
   "execution_count": null,
   "id": "6c76458f",
   "metadata": {},
   "outputs": [],
   "source": []
  },
  {
   "cell_type": "code",
   "execution_count": 56,
   "id": "d1960c5c",
   "metadata": {},
   "outputs": [
    {
     "data": {
      "text/plain": [
       "CreateTableResult(example_query='select * from dune.uniswap_fnd.binance_ethusdt_1s_1jan2025_29apr2025 limit 10', full_name='dune.uniswap_fnd.binance_ethusdt_1s_1jan2025_29apr2025', namespace='uniswap_fnd', table_name='binance_ethusdt_1s_1jan2025_29apr2025')"
      ]
     },
     "execution_count": 56,
     "metadata": {},
     "output_type": "execute_result"
    }
   ],
   "source": [
    "dune.create_table(\n",
    "        namespace=\"uniswap_fnd\",\n",
    "        table_name=\"binance_ethusdt_1s_1jan2025_29apr2025\",\n",
    "        description=\"Binance ETH USDT 1s price feed\",\n",
    "        schema= [\n",
    "            {\"name\": \"close_time\", \"type\": \"timestamp\"},\n",
    "            {\"name\": \"close\", \"type\": \"double\"}\n",
    "        ],\n",
    "        is_private=False\n",
    ")"
   ]
  },
  {
   "cell_type": "code",
   "execution_count": 57,
   "id": "098973dc",
   "metadata": {},
   "outputs": [
    {
     "name": "stdout",
     "output_type": "stream",
     "text": [
      "Inserting rows 0 to 2000000\n",
      "Inserting rows 2000000 to 4000000\n",
      "Inserting rows 4000000 to 6000000\n",
      "Inserting rows 6000000 to 8000000\n",
      "Inserting rows 8000000 to 10000000\n",
      "Inserting rows 10000000 to 10166379\n"
     ]
    }
   ],
   "source": [
    "chunk_size = 2_000_000\n",
    "for i in range(0, len(df_mod), chunk_size):\n",
    "    chunk = df_mod.iloc[i:i + chunk_size]\n",
    "    chunk_csv = chunk.to_csv(index=False)\n",
    "    print(f\"Inserting rows {i} to {i + len(chunk)}\")\n",
    "    dune.insert_table(\n",
    "        namespace=\"uniswap_fnd\",\n",
    "        table_name=\"binance_ethusdt_1s_1jan2025_29apr2025\",\n",
    "        data=chunk_csv,\n",
    "        content_type=\"text/csv\"\n",
    "    )"
   ]
  },
  {
   "cell_type": "code",
   "execution_count": null,
   "id": "d72bf113",
   "metadata": {},
   "outputs": [],
   "source": [
    "# # Upload to Dune -- file less than 200MB\n",
    "# upload_success = dune.upload_csv(\n",
    "#     table_name=\"binance_ethusdc_1s_1jan2025_29apr2025\",\n",
    "#     data=df_mod_csv,\n",
    "#     is_private=True\n",
    "# )\n",
    "# print(\"Upload status:\", upload_success)"
   ]
  },
  {
   "cell_type": "code",
   "execution_count": null,
   "id": "29716ec6",
   "metadata": {},
   "outputs": [],
   "source": []
  },
  {
   "cell_type": "code",
   "execution_count": null,
   "id": "9ac728cf",
   "metadata": {},
   "outputs": [],
   "source": []
  }
 ],
 "metadata": {
  "kernelspec": {
   "display_name": "Python 3 (ipykernel)",
   "language": "python",
   "name": "python3"
  },
  "language_info": {
   "codemirror_mode": {
    "name": "ipython",
    "version": 3
   },
   "file_extension": ".py",
   "mimetype": "text/x-python",
   "name": "python",
   "nbconvert_exporter": "python",
   "pygments_lexer": "ipython3",
   "version": "3.9.7"
  }
 },
 "nbformat": 4,
 "nbformat_minor": 5
}
