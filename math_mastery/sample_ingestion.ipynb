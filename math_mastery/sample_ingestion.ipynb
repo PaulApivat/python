{
 "cells": [
  {
   "cell_type": "code",
   "execution_count": 2,
   "id": "aee4e480",
   "metadata": {},
   "outputs": [
    {
     "data": {
      "text/html": [
       "<div>\n",
       "<style scoped>\n",
       "    .dataframe tbody tr th:only-of-type {\n",
       "        vertical-align: middle;\n",
       "    }\n",
       "\n",
       "    .dataframe tbody tr th {\n",
       "        vertical-align: top;\n",
       "    }\n",
       "\n",
       "    .dataframe thead th {\n",
       "        text-align: right;\n",
       "    }\n",
       "</style>\n",
       "<table border=\"1\" class=\"dataframe\">\n",
       "  <thead>\n",
       "    <tr style=\"text-align: right;\">\n",
       "      <th></th>\n",
       "      <th>DAY</th>\n",
       "      <th>SYMBOL</th>\n",
       "      <th>TOTAL_BORROWS</th>\n",
       "      <th>TOTAL_LIQUIDITY</th>\n",
       "      <th>UTILIZATION_RATE</th>\n",
       "    </tr>\n",
       "  </thead>\n",
       "  <tbody>\n",
       "    <tr>\n",
       "      <th>0</th>\n",
       "      <td>2022-08-22 00:00:00.000</td>\n",
       "      <td>USDC</td>\n",
       "      <td>2.425417e+08</td>\n",
       "      <td>1.163221e+09</td>\n",
       "      <td>0.208509</td>\n",
       "    </tr>\n",
       "    <tr>\n",
       "      <th>1</th>\n",
       "      <td>2023-01-02 00:00:00.000</td>\n",
       "      <td>USDC</td>\n",
       "      <td>3.111558e+08</td>\n",
       "      <td>7.383175e+08</td>\n",
       "      <td>0.421439</td>\n",
       "    </tr>\n",
       "    <tr>\n",
       "      <th>2</th>\n",
       "      <td>2022-09-17 00:00:00.000</td>\n",
       "      <td>USDC</td>\n",
       "      <td>2.565786e+08</td>\n",
       "      <td>1.266680e+09</td>\n",
       "      <td>0.202560</td>\n",
       "    </tr>\n",
       "    <tr>\n",
       "      <th>3</th>\n",
       "      <td>2021-03-22 00:00:00.000</td>\n",
       "      <td>USDC</td>\n",
       "      <td>5.319800e+08</td>\n",
       "      <td>6.128774e+08</td>\n",
       "      <td>0.868004</td>\n",
       "    </tr>\n",
       "    <tr>\n",
       "      <th>4</th>\n",
       "      <td>2021-03-08 00:00:00.000</td>\n",
       "      <td>USDC</td>\n",
       "      <td>4.163633e+08</td>\n",
       "      <td>4.268364e+08</td>\n",
       "      <td>0.975463</td>\n",
       "    </tr>\n",
       "  </tbody>\n",
       "</table>\n",
       "</div>"
      ],
      "text/plain": [
       "                       DAY SYMBOL  TOTAL_BORROWS  TOTAL_LIQUIDITY  \\\n",
       "0  2022-08-22 00:00:00.000   USDC   2.425417e+08     1.163221e+09   \n",
       "1  2023-01-02 00:00:00.000   USDC   3.111558e+08     7.383175e+08   \n",
       "2  2022-09-17 00:00:00.000   USDC   2.565786e+08     1.266680e+09   \n",
       "3  2021-03-22 00:00:00.000   USDC   5.319800e+08     6.128774e+08   \n",
       "4  2021-03-08 00:00:00.000   USDC   4.163633e+08     4.268364e+08   \n",
       "\n",
       "   UTILIZATION_RATE  \n",
       "0          0.208509  \n",
       "1          0.421439  \n",
       "2          0.202560  \n",
       "3          0.868004  \n",
       "4          0.975463  "
      ]
     },
     "execution_count": 2,
     "metadata": {},
     "output_type": "execute_result"
    }
   ],
   "source": [
    "import pandas as pd \n",
    "\n",
    "df = pd.read_csv(\"./raw/flipside_aave_util.csv\")\n",
    "\n",
    "df.head()"
   ]
  },
  {
   "cell_type": "code",
   "execution_count": null,
   "id": "efe0260c",
   "metadata": {},
   "outputs": [],
   "source": []
  }
 ],
 "metadata": {
  "kernelspec": {
   "display_name": "Python 3 (ipykernel)",
   "language": "python",
   "name": "python3"
  },
  "language_info": {
   "codemirror_mode": {
    "name": "ipython",
    "version": 3
   },
   "file_extension": ".py",
   "mimetype": "text/x-python",
   "name": "python",
   "nbconvert_exporter": "python",
   "pygments_lexer": "ipython3",
   "version": "3.9.12"
  }
 },
 "nbformat": 4,
 "nbformat_minor": 5
}
