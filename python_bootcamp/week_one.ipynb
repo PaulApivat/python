{
 "cells": [
  {
   "cell_type": "code",
   "execution_count": 1,
   "metadata": {},
   "outputs": [
    {
     "data": {
      "text/plain": [
       "'hello'"
      ]
     },
     "execution_count": 1,
     "metadata": {},
     "output_type": "execute_result"
    }
   ],
   "source": [
    "'hello'"
   ]
  },
  {
   "cell_type": "code",
   "execution_count": 2,
   "metadata": {},
   "outputs": [
    {
     "data": {
      "text/plain": [
       "float"
      ]
     },
     "execution_count": 2,
     "metadata": {},
     "output_type": "execute_result"
    }
   ],
   "source": [
    "five_string = 5\n",
    "five_string = '5'\n",
    "five_string = [5]\n",
    "five_string = 5.5\n",
    "\n",
    "#five_string = {1,2,3}\n",
    "type(five_string)"
   ]
  },
  {
   "cell_type": "markdown",
   "metadata": {},
   "source": [
    "Markdown cell"
   ]
  },
  {
   "cell_type": "code",
   "execution_count": 3,
   "metadata": {},
   "outputs": [
    {
     "name": "stdout",
     "output_type": "stream",
     "text": [
      "{\"id\":\"f8a2949c-152c-42f0-a026-42e1a20846b3\",\"text\":\"Q is the only letter in the alphabet that does not appear in the name of any of the United States!\",\"source\":\"djtech.net\",\"source_url\":\"http:\\/\\/www.djtech.net\\/humor\\/useless_facts.htm\",\"language\":\"en\",\"permalink\":\"https:\\/\\/uselessfacts.jsph.pl\\/f8a2949c-152c-42f0-a026-42e1a20846b3\"}\n"
     ]
    }
   ],
   "source": [
    "import requests \n",
    "\n",
    "response = requests.get('https://uselessfacts.jsph.pl/random.json?language=en')\n",
    "\n",
    "print(response.text)"
   ]
  },
  {
   "cell_type": "markdown",
   "metadata": {},
   "source": [
    "Below we go through a variation of the above code. In this example, we define our **query parameters** in a separate dictionary. These are then passed as an argument to the **params** parameter of requests.get().\n",
    "\n",
    "We also use response.json() instead of response.text() to get the response as a *dictionary*.\n",
    "\n",
    "Python dictionaries have a .get() method that can be used to grab a particular element, such as 'text' (depending on the API we are consuming)"
   ]
  },
  {
   "cell_type": "code",
   "execution_count": 4,
   "metadata": {},
   "outputs": [
    {
     "name": "stdout",
     "output_type": "stream",
     "text": [
      "{'id': 'ffe12317-5c54-47f7-acb7-1be133c41d85', 'text': 'Texas is also the only state that is allowed to fly its state flag at the same height as the U.S. flag.', 'source': 'djtech.net', 'source_url': 'http://www.djtech.net/humor/useless_facts.htm', 'language': 'en', 'permalink': 'https://uselessfacts.jsph.pl/ffe12317-5c54-47f7-acb7-1be133c41d85'}\n",
      "<class 'dict'>\n",
      "Texas is also the only state that is allowed to fly its state flag at the same height as the U.S. flag.\n"
     ]
    }
   ],
   "source": [
    "# dictionary for multiple api parameters\n",
    "query_params={\n",
    "    'language': 'en'\n",
    "}\n",
    "\n",
    "response = requests.get('https://uselessfacts.jsph.pl/random.json',params=query_params)\n",
    "\n",
    "print(response.json())\n",
    "\n",
    "# print type of json() object\n",
    "print(type(response.json()))\n",
    "\n",
    "# get specific text from json with get()\n",
    "print(response.json().get('text'))\n"
   ]
  },
  {
   "cell_type": "markdown",
   "metadata": {},
   "source": [
    "# Data Structures\n",
    "\n",
    "In python, the most essential Data Structures are :\n",
    "- lists\n",
    "- sets\n",
    "- dictionaries\n",
    "\n",
    "Once we get into intermediate levels, we'll look at objects and object oriented programming. "
   ]
  },
  {
   "cell_type": "code",
   "execution_count": 12,
   "metadata": {},
   "outputs": [
    {
     "name": "stdout",
     "output_type": "stream",
     "text": [
      "['Paul', 'You']\n",
      "Paul\n",
      "['Paul', 'You', 'Jimmy']\n",
      "['Paul', 'You', 'Jimmy', ['hello'], 5]\n"
     ]
    }
   ],
   "source": [
    "# literal list\n",
    "data = ['Paul', 'You']\n",
    "\n",
    "print(data)\n",
    "print(data[0])\n",
    "\n",
    "data.append('Jimmy')\n",
    "print(data)\n",
    "\n",
    "data.append(['hello'])\n",
    "data.append(5)\n",
    "print(data)\n",
    "\n",
    "# in general some people prefer to keep a list as one type of data, but optional"
   ]
  },
  {
   "cell_type": "markdown",
   "metadata": {},
   "source": [
    "# Introduction to Slicing with Lists\n",
    "\n",
    "first number - starting position (inclusive).  \n",
    "second number - stopping position (exclusive).  \n",
    "third number - step.  "
   ]
  },
  {
   "cell_type": "code",
   "execution_count": 18,
   "metadata": {},
   "outputs": [
    {
     "data": {
      "text/plain": [
       "['Jimmy', 'Monica']"
      ]
     },
     "execution_count": 18,
     "metadata": {},
     "output_type": "execute_result"
    }
   ],
   "source": [
    "data = ['Caleb', 'Jimmy', 'Sam', 'Monica']\n",
    "\n",
    "# first number = starting position (inclusive)\n",
    "# second number is stopping position (exclusive) (up to 3, but not including)\n",
    "data[1:3]\n",
    "\n",
    "# if you leave off first number, it default starts at the beginning\n",
    "data[:3]\n",
    "\n",
    "# if you leave off the last number, it defaults grabs everything from the first number\n",
    "data[1:]\n",
    "\n",
    "# a colon copies and returns a new list\n",
    "data[:]\n",
    "\n",
    "# adding a third number defines a 'step' to skip over\n",
    "# 1:4 goes Jimmy -> Monica,\n",
    "# adding 1:4:2 Jimmy skips Sam, to go to Monica\n",
    "data[1:4:2]"
   ]
  },
  {
   "cell_type": "markdown",
   "metadata": {},
   "source": [
    "# Dictionaries and Sets"
   ]
  },
  {
   "cell_type": "code",
   "execution_count": 22,
   "metadata": {},
   "outputs": [
    {
     "name": "stdout",
     "output_type": "stream",
     "text": [
      "{'Sam', 'Monica', 'Jimmy', 'Caleb'}\n",
      "{'Caleb': 4, 'Jimmy': 10, 'Sam': 12, 'Monica': 20}\n",
      "4\n"
     ]
    }
   ],
   "source": [
    "# sets naturally remove duplicate data\n",
    "\n",
    "data = {'Caleb', 'Jimmy', 'Sam', 'Monica', 'Caleb'}\n",
    "\n",
    "# dictionaries will use the most recent key (see Caleb)\n",
    "data_dictionary = {\n",
    "    'Caleb': 5,\n",
    "    'Jimmy': 10,\n",
    "    'Sam': 12, \n",
    "    'Monica': 20, \n",
    "    'Caleb': 4\n",
    "}\n",
    "\n",
    "print(data)\n",
    "print(data_dictionary)\n",
    "\n",
    "# dictionaries immediately convertable from JSON\n",
    "print(data_dictionary.get('Caleb'))"
   ]
  },
  {
   "cell_type": "markdown",
   "metadata": {},
   "source": [
    "# Control flows - Loops and Conditionals\n",
    "\n",
    "Iteration - One time through the loop.  "
   ]
  },
  {
   "cell_type": "code",
   "execution_count": 7,
   "metadata": {},
   "outputs": [
    {
     "name": "stdout",
     "output_type": "stream",
     "text": [
      "a\n",
      "b\n",
      "c\n",
      "d\n",
      "e\n",
      "a\n",
      "b\n",
      "c\n",
      "d\n",
      "e\n"
     ]
    }
   ],
   "source": [
    "data = ['a', 'b', 'c', 'd', 'e']\n",
    "\n",
    "# index: exclusive of 10\n",
    "for i in range(5):\n",
    "    print(data[i])\n",
    "    #increased here\n",
    "\n",
    "# to avoid hardcoding 5\n",
    "for i in range(len(data)):\n",
    "    print(data[i])"
   ]
  },
  {
   "cell_type": "code",
   "execution_count": 9,
   "metadata": {},
   "outputs": [
    {
     "name": "stdout",
     "output_type": "stream",
     "text": [
      "Jimmy\n",
      "Caleb\n",
      "Monica\n",
      "Sam\n"
     ]
    }
   ],
   "source": [
    "data = ['a', 'b', 'c', 'd', 'e']\n",
    "data = {'Caleb', 'Jimmy', 'Sam', 'Monica', 'Caleb'}\n",
    "\n",
    "\n",
    "# work with any iterable directly directly\n",
    "for letters in data:\n",
    "    print(letters)\n",
    "\n",
    "# iterables can be lists, sets, range, \n",
    "# __iter__() "
   ]
  },
  {
   "cell_type": "code",
   "execution_count": 10,
   "metadata": {},
   "outputs": [
    {
     "name": "stdout",
     "output_type": "stream",
     "text": [
      "0 a\n",
      "1 b\n",
      "2 c\n",
      "3 d\n",
      "4 e\n"
     ]
    }
   ],
   "source": [
    "# if we want index and data, we use enumerate\n",
    "data = ['a', 'b', 'c', 'd', 'e']\n",
    "\n",
    "for index, letter in enumerate(data):\n",
    "    print(index, letter)"
   ]
  },
  {
   "cell_type": "code",
   "execution_count": 14,
   "metadata": {},
   "outputs": [
    {
     "name": "stdout",
     "output_type": "stream",
     "text": [
      "0 1 2 3 4 5 6 7 8 9  \n",
      "a b c d e  \n",
      "0 a 1 b 2 c 3 d 4 e "
     ]
    }
   ],
   "source": [
    "# all loops\n",
    "data = ['a', 'b', 'c', 'd', 'e']\n",
    "\n",
    "# range\n",
    "for i in range(10):\n",
    "    print(i, end=\" \")\n",
    "\n",
    "print(\" \")\n",
    "# iterable directly\n",
    "for letter in data:\n",
    "    print(letter, end=\" \")\n",
    "\n",
    "print(\" \")\n",
    "# enumerate\n",
    "for i, letter in enumerate(data):\n",
    "    print(i, letter, end=\" \")"
   ]
  },
  {
   "cell_type": "markdown",
   "metadata": {},
   "source": [
    "### While Loop"
   ]
  },
  {
   "cell_type": "code",
   "execution_count": 19,
   "metadata": {},
   "outputs": [
    {
     "name": "stdout",
     "output_type": "stream",
     "text": [
      "a b c d e it wasnt stop or special\n",
      "printing data...\n",
      "it wasnt stop or special\n",
      "printing data...\n"
     ]
    }
   ],
   "source": [
    "data = ['a', 'b', 'c', 'd', 'e']\n",
    "\n",
    "i = 0\n",
    "\n",
    "while i < len(data):\n",
    "    print(data[i], end=\" \")\n",
    "    i += 1\n",
    "\n",
    "# breaking out of while loop\n",
    "while True:\n",
    "    x = input()\n",
    "    if x == \"stop\":\n",
    "        break\n",
    "    elif x == \"special\":\n",
    "        continue \n",
    "    else:\n",
    "        print(\"it wasnt stop or special\")\n",
    "    print(\"printing data...\")"
   ]
  },
  {
   "cell_type": "markdown",
   "metadata": {},
   "source": [
    "## Loop through Dictionary"
   ]
  },
  {
   "cell_type": "code",
   "execution_count": 22,
   "metadata": {},
   "outputs": [
    {
     "name": "stdout",
     "output_type": "stream",
     "text": [
      "{'Caleb': 4, 'Jimmy': 10, 'Sam': 12, 'Monica': 20}\n",
      "Caleb 4\n",
      "Jimmy 10\n",
      "we found 12\n"
     ]
    }
   ],
   "source": [
    "data_dictionary = {\n",
    "    'Caleb': 5,\n",
    "    'Jimmy': 10,\n",
    "    'Sam': 12, \n",
    "    'Monica': 20, \n",
    "    'Caleb': 4\n",
    "}\n",
    "\n",
    "print(data_dictionary)\n",
    "\n",
    "for key, value in data_dictionary.items():\n",
    "    if value == 12:\n",
    "        print('we found 12')\n",
    "        break\n",
    "    print(key, value)"
   ]
  }
 ],
 "metadata": {
  "kernelspec": {
   "display_name": "Python 3",
   "language": "python",
   "name": "python3"
  },
  "language_info": {
   "codemirror_mode": {
    "name": "ipython",
    "version": 3
   },
   "file_extension": ".py",
   "mimetype": "text/x-python",
   "name": "python",
   "nbconvert_exporter": "python",
   "pygments_lexer": "ipython3",
   "version": "3.8.5"
  }
 },
 "nbformat": 4,
 "nbformat_minor": 4
}
