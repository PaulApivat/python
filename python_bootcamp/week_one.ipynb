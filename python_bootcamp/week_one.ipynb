{
 "cells": [
  {
   "cell_type": "code",
   "execution_count": 2,
   "metadata": {},
   "outputs": [
    {
     "data": {
      "text/plain": [
       "'hello'"
      ]
     },
     "execution_count": 2,
     "metadata": {},
     "output_type": "execute_result"
    }
   ],
   "source": [
    "'hello'"
   ]
  },
  {
   "cell_type": "code",
   "execution_count": 1,
   "metadata": {},
   "outputs": [
    {
     "data": {
      "text/plain": [
       "float"
      ]
     },
     "execution_count": 1,
     "metadata": {},
     "output_type": "execute_result"
    }
   ],
   "source": [
    "five_string = 5\n",
    "five_string = '5'\n",
    "five_string = [5]\n",
    "five_string = 5.5\n",
    "\n",
    "#five_string = {1,2,3}\n",
    "type(five_string)"
   ]
  },
  {
   "cell_type": "markdown",
   "metadata": {},
   "source": [
    "Markdown cell"
   ]
  },
  {
   "cell_type": "code",
   "execution_count": 12,
   "metadata": {},
   "outputs": [
    {
     "name": "stdout",
     "output_type": "stream",
     "text": [
      "{\"id\":\"7016c1ec-c8c6-42c5-895e-6223f55e5929\",\"text\":\"In a lifetime the average human produces enough quarts of spit to fill 2 swimming pools.\",\"source\":\"djtech.net\",\"source_url\":\"http:\\/\\/www.djtech.net\\/humor\\/useless_facts.htm\",\"language\":\"en\",\"permalink\":\"https:\\/\\/uselessfacts.jsph.pl\\/7016c1ec-c8c6-42c5-895e-6223f55e5929\"}\n"
     ]
    }
   ],
   "source": [
    "import requests \n",
    "\n",
    "response = requests.get('https://uselessfacts.jsph.pl/random.json?language=en')\n",
    "\n",
    "print(response.text)"
   ]
  },
  {
   "cell_type": "code",
   "execution_count": 18,
   "metadata": {},
   "outputs": [
    {
     "name": "stdout",
     "output_type": "stream",
     "text": [
      "{'id': 'e771775b-b5b4-4a2f-8477-f7724a40e0df', 'text': 'You can be fined up to $1,000 for whistling on Sunday in Salt Lake City, Utah.', 'source': 'djtech.net', 'source_url': 'http://www.djtech.net/humor/useless_facts.htm', 'language': 'en', 'permalink': 'https://uselessfacts.jsph.pl/e771775b-b5b4-4a2f-8477-f7724a40e0df'}\n",
      "<class 'dict'>\n",
      "You can be fined up to $1,000 for whistling on Sunday in Salt Lake City, Utah.\n"
     ]
    }
   ],
   "source": [
    "# dictionary for multiple api parameters\n",
    "query_params={\n",
    "    'language': 'en'\n",
    "}\n",
    "\n",
    "response = requests.get('https://uselessfacts.jsph.pl/random.json',params=query_params)\n",
    "\n",
    "print(response.json())\n",
    "\n",
    "# print type of json() object\n",
    "print(type(response.json()))\n",
    "\n",
    "# get specific text from json with get()\n",
    "print(response.json().get('text'))\n"
   ]
  }
 ],
 "metadata": {
  "kernelspec": {
   "display_name": "Python 3",
   "language": "python",
   "name": "python3"
  },
  "language_info": {
   "codemirror_mode": {
    "name": "ipython",
    "version": 3
   },
   "file_extension": ".py",
   "mimetype": "text/x-python",
   "name": "python",
   "nbconvert_exporter": "python",
   "pygments_lexer": "ipython3",
   "version": "3.8.5"
  }
 },
 "nbformat": 4,
 "nbformat_minor": 4
}
