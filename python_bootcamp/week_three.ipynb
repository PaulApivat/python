{
 "cells": [
  {
   "cell_type": "code",
   "execution_count": null,
   "metadata": {},
   "outputs": [],
   "source": []
  },
  {
   "cell_type": "markdown",
   "metadata": {},
   "source": [
    "## Welcome to week 3!"
   ]
  },
  {
   "cell_type": "code",
   "execution_count": null,
   "metadata": {},
   "outputs": [],
   "source": [
    "grades = set()\n",
    "print(\"to get set type: \", type(grades))\n",
    "\n",
    "grades1 = {}\n",
    "print(\"Dictionary literal \", type(grades1))"
   ]
  },
  {
   "cell_type": "code",
   "execution_count": null,
   "metadata": {},
   "outputs": [],
   "source": [
    "grades = {\n",
    "    'Kayla': {\n",
    "        'math': [90, 80, 30, 20], \n",
    "        'science': [94, 93, 95, 34], \n",
    "        'history': [12, 23, 23, 45], \n",
    "        'reading': [54, 23, 23, 54]\n",
    "    }, \n",
    "    'Caleb': {\n",
    "        'math': [60, 80, 33, 20], \n",
    "        'science': [94, 93, 66, 34], \n",
    "        'history': [12, 22, 23, 55], \n",
    "        'reading': [54, 19, 23, 54]\n",
    "    }, \n",
    "    'David': {\n",
    "        'math': [22, 44, 33, 77], \n",
    "        'science': [88, 66, 55, 88], \n",
    "        'history': [56, 67, 34, 54], \n",
    "        'reading': [77, 22, 65, 34]\n",
    "    }\n",
    "}\n",
    "\n",
    "print(grades)\n",
    "print(grades['Caleb'])\n",
    "print(grades['Caleb']['math'])\n",
    "print(grades['Caleb']['math'][1])\n",
    "\n",
    "# catch error\n",
    "try:\n",
    "    print(grades['Paul'])\n",
    "except KeyError as k:\n",
    "    print(\"ERROR with key. Doesn't exists\", k)\n",
    "\n",
    "# for-loop with try-catch error\n",
    "# prints out 'David' and 'Caleb' values, skipping over 'Margot' \n",
    "for name in ['David', 'Margot', 'Caleb']:\n",
    "    try:\n",
    "        print(grades[name])\n",
    "    except KeyError as k:\n",
    "        print(\"ERROR with key. Doesn't exists\", k)\n"
   ]
  },
  {
   "cell_type": "code",
   "execution_count": null,
   "metadata": {},
   "outputs": [],
   "source": [
    "# try alternative method of getting values from dictionary\n",
    "grades = {\n",
    "    'Kayla': {\n",
    "        'math': [90, 80, 30, 20], \n",
    "        'science': [94, 93, 95, 34], \n",
    "        'history': [12, 23, 23, 45], \n",
    "        'reading': [54, 23, 23, 54]\n",
    "    }, \n",
    "    'Caleb': {\n",
    "        'math': [60, 80, 33, 20], \n",
    "        'science': [94, 93, 66, 34], \n",
    "        'history': [12, 22, 23, 55], \n",
    "        'reading': [54, 19, 23, 54]\n",
    "    }, \n",
    "    'David': {\n",
    "        'math': [22, 44, 33, 77], \n",
    "        'science': [88, 66, 55, 88], \n",
    "        'history': [56, 67, 34, 54], \n",
    "        'reading': [77, 22, 65, 34]\n",
    "    }\n",
    "}\n",
    "\n",
    "# different method of getting values from dictionary\n",
    "print(grades.get('David'))\n",
    "print(grades.get('David', {}).get('math'))\n",
    "\n",
    "# instead of exception handling try-except use .get() \n",
    "# results in None\n",
    "print(grades.get('Margot'))\n",
    "\n",
    "print(grades.get('Margot', {}).get('math'))\n",
    "\n",
    "# depends on whether you WANT an Exception thrown\n",
    "# for name in ['David', 'Margot', 'Caleb']:\n",
    "\n",
    "# change to AttributeError or Exception for more generality\n",
    "try:\n",
    "    grades.get('Caleb').get('math')\n",
    "    print(grades.get('Caleb').get('math'))\n",
    "except Exception as k: \n",
    "    print(k, \"key does not exist\")"
   ]
  },
  {
   "cell_type": "markdown",
   "metadata": {},
   "source": [
    "# Iterate through a dictionary"
   ]
  },
  {
   "cell_type": "code",
   "execution_count": null,
   "metadata": {},
   "outputs": [],
   "source": [
    "\n",
    "\n",
    "drinks_in_storage = {\n",
    "    \"grape\": 5, \n",
    "    \"black cherry\": 3, \n",
    "    \"cola\": 4\n",
    "}\n",
    "\n",
    "for drink, val in drinks_in_storage.items():\n",
    "    print(drink, val)\n",
    "\n",
    "drink_purchased = [['grape', 3], ['black cherry', 1], ['cola', 5], ['orange', 12]]\n",
    "print(drink_purchased)\n",
    "\n",
    "for drink in drink_purchased:\n",
    "    if drinks_in_storage.get(drink[0]):\n",
    "        drinks_in_storage[drink[0]] += drink[1]\n",
    "    else:\n",
    "        drinks_in_storage[drink[0]] = drink[1]\n",
    "\n",
    "# see that drinks_in_storage added 'orange':12 to the dictionary\n",
    "print(drinks_in_storage) \n"
   ]
  },
  {
   "cell_type": "code",
   "execution_count": null,
   "metadata": {},
   "outputs": [],
   "source": [
    "from collections import defaultdict\n",
    "\n",
    "drinks_in_storage = {\n",
    "    \"grape\": 5, \n",
    "    \"black cherry\": 3, \n",
    "    \"cola\": 4\n",
    "}\n",
    "\n",
    "drinks_in_storage = defaultdict(int, drinks_in_storage)\n",
    "\n",
    "drink_purchased = [['grape', 3], ['black cherry', 1], ['cola', 5], ['orange', 12]]\n",
    "\n",
    "for drink in drink_purchased:\n",
    "        drinks_in_storage[drink[0]] += drink[1]\n",
    "\n",
    "print(drinks_in_storage)\n",
    "\n",
    "for drink, val in drinks_in_storage.items():\n",
    "    print(f'{val} {drink} drinks')"
   ]
  },
  {
   "cell_type": "code",
   "execution_count": null,
   "metadata": {},
   "outputs": [],
   "source": [
    "# note: while loop in ipynb on vs code crashes\n",
    "\n",
    "favorite_drinks = {}\n",
    "\n",
    "\n",
    "while True:\n",
    "    drink = input(\"Enter drink name: \")\n",
    "    amount = int(input(\"How many?: \"))\n",
    "\n",
    "    favorite_drinks[drink] = amount\n",
    "    print(favorite_drinks)"
   ]
  },
  {
   "cell_type": "code",
   "execution_count": 48,
   "metadata": {},
   "outputs": [
    {
     "name": "stdout",
     "output_type": "stream",
     "text": [
      "{'grape': 5, 'black cherry': 3, 'cola': 10, 'coconut': 5, 'root beer': 4, 'lime': 4}\n"
     ]
    }
   ],
   "source": [
    "my_drinks = {\n",
    "    'grape': 5, \n",
    "    'black cherry': 3, \n",
    "    'cola': 4\n",
    "}\n",
    "\n",
    "her_drinks = {\n",
    "    'coconut': 5, \n",
    "    'root beer': 4,\n",
    "    'lime': 4,\n",
    "    'cola': 10\n",
    "}\n",
    "\n",
    "# pass in a dictionary to another dictionary\n",
    "my_drinks.update(her_drinks)\n",
    "print(my_drinks)"
   ]
  },
  {
   "cell_type": "code",
   "execution_count": 49,
   "metadata": {},
   "outputs": [
    {
     "data": {
      "text/plain": [
       "'3.8.5'"
      ]
     },
     "execution_count": 49,
     "metadata": {},
     "output_type": "execute_result"
    }
   ],
   "source": [
    "import platform \n",
    "\n",
    "platform.python_version()"
   ]
  },
  {
   "cell_type": "code",
   "execution_count": 50,
   "metadata": {},
   "outputs": [
    {
     "name": "stdout",
     "output_type": "stream",
     "text": [
      "python is 3.8.5\n"
     ]
    }
   ],
   "source": [
    "# show a union between two dictionaries, require python 3.9 \n",
    "\n",
    "import platform \n",
    "\n",
    "# checks if second digit of python version is greater than 9\n",
    "if int(platform.python_version()[2]) >= 9:\n",
    "    my_drinks = {\n",
    "        'grape': 5, \n",
    "        'black cherry': 3, \n",
    "        'cola': 4\n",
    "    }\n",
    "\n",
    "    her_drinks = {\n",
    "        'coconut': 5, \n",
    "        'root beer': 4,\n",
    "        'lime': 4,\n",
    "        'cola': 10\n",
    "    }\n",
    "    print(my_drinks | her_drinks)\n",
    "else:\n",
    "    print(\"python is\", platform.python_version())"
   ]
  },
  {
   "cell_type": "code",
   "execution_count": 53,
   "metadata": {},
   "outputs": [
    {
     "name": "stdout",
     "output_type": "stream",
     "text": [
      "{'cola', 'black cherry', 'grape'} {'cola', 'lime'}\n",
      "Union {'cola', 'grape', 'lime', 'black cherry'}\n",
      "Intersection {'cola'}\n",
      "Difference {'black cherry', 'grape'}\n",
      "Symmetric Difference {'grape', 'black cherry', 'lime'}\n"
     ]
    }
   ],
   "source": [
    "my_drinks = {'grape', 'cola', 'black cherry'}\n",
    "her_drinks = {'lime', 'cola'}\n",
    "\n",
    "# position if not retained in a set\n",
    "print(my_drinks, her_drinks)\n",
    "\n",
    "# 4 operations to know about\n",
    "\n",
    "# union\n",
    "print(\"Union\", my_drinks | her_drinks)\n",
    "\n",
    "\n",
    "# intersection\n",
    "print(\"Intersection\", my_drinks & her_drinks)\n",
    "\n",
    "# difference\n",
    "print(\"Difference\", my_drinks - her_drinks)\n",
    "\n",
    "\n",
    "# symmetric difference\n",
    "print(\"Symmetric Difference\", my_drinks ^ her_drinks)\n"
   ]
  }
 ],
 "metadata": {
  "interpreter": {
   "hash": "aee8b7b246df8f9039afb4144a1f6fd8d2ca17a180786b69acc140d282b71a49"
  },
  "kernelspec": {
   "display_name": "Python 3.8.5 64-bit",
   "language": "python",
   "name": "python3"
  },
  "language_info": {
   "codemirror_mode": {
    "name": "ipython",
    "version": 3
   },
   "file_extension": ".py",
   "mimetype": "text/x-python",
   "name": "python",
   "nbconvert_exporter": "python",
   "pygments_lexer": "ipython3",
   "version": "3.8.5"
  },
  "orig_nbformat": 4
 },
 "nbformat": 4,
 "nbformat_minor": 2
}
