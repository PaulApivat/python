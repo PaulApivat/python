{
 "cells": [
  {
   "cell_type": "code",
   "execution_count": null,
   "metadata": {},
   "outputs": [],
   "source": [
    "import requests\n",
    "\n",
    "response = requests.get('https://raw.githubusercontent.com/CalebCurry/python/master/netflix_titles.csv')\n",
    "\n",
    "#print(response.text)\n",
    "#data = response.text.split(',')\n",
    "\n",
    "data = response.text.split('\\r\\n')\n",
    "\n",
    "#print(data)\n",
    "\n",
    "for row in data:\n",
    "    for element in row.split(','):\n",
    "        print(element)"
   ]
  },
  {
   "cell_type": "markdown",
   "metadata": {},
   "source": [
    "## CSV Files\n",
    "\n",
    "Using `csv` module is easier than doing it manually above.\n",
    "Use `pwd` in terminal to find the path towards `netflix_titles.csv` and use that path."
   ]
  },
  {
   "cell_type": "code",
   "execution_count": null,
   "metadata": {},
   "outputs": [],
   "source": [
    "import csv\n",
    "\n",
    "with open('/Users/paulapivat/Desktop/RCode/python/python_bootcamp/netflix_titles.csv', newline='') as f:\n",
    "    reader = csv.reader(f)\n",
    "    for row in reader:\n",
    "        print(row[2])\n"
   ]
  },
  {
   "cell_type": "markdown",
   "metadata": {},
   "source": [
    "## Pandas\n",
    "\n",
    "Another option."
   ]
  },
  {
   "cell_type": "code",
   "execution_count": null,
   "metadata": {},
   "outputs": [],
   "source": [
    "import pandas as pd\n",
    "\n",
    "df = pd.read_csv('https://raw.githubusercontent.com/CalebCurry/python/master/netflix_titles.csv')\n",
    "\n",
    "df.head()"
   ]
  },
  {
   "cell_type": "markdown",
   "metadata": {},
   "source": [
    "## csv with requests.get()\n",
    "\n",
    "src - https://stackoverflow.com/questions/18897029/read-csv-file-from-url-into-python-3-x-csv-error-iterator-should-return-str"
   ]
  },
  {
   "cell_type": "markdown",
   "metadata": {},
   "source": [
    "## csv with requests.get()\n",
    "\n",
    "src - https://stackoverflow.com/questions/18897029/read-csv-file-from-url-into-python-3-x-csv-error-iterator-should-return-str"
   ]
  },
  {
   "cell_type": "code",
   "execution_count": null,
   "metadata": {},
   "outputs": [],
   "source": [
    "import csv\n",
    "import codecs\n",
    "\n",
    "response = requests.get('https://raw.githubusercontent.com/CalebCurry/python/master/netflix_titles.csv')\n",
    "r = response.iter_lines()\n",
    "\n",
    "reader = csv.reader(codecs.iterdecode(r, 'utf-8'))\n",
    "for row in reader:\n",
    "    print(row[2])"
   ]
  },
  {
   "cell_type": "markdown",
   "metadata": {},
   "source": [
    "## Web scraping - Beautiful Soup\n",
    "\n",
    "This is an option for working with websites when there is no API or the API does not give he needed options.\n",
    "Another tool is html requests."
   ]
  },
  {
   "cell_type": "code",
   "execution_count": null,
   "metadata": {},
   "outputs": [],
   "source": [
    "# we can try using requests before using beautiful soup\n",
    "# requests can help us get HTML\n",
    "# beautiful soup is used when working with html tags\n",
    "\n",
    "import requests\n",
    "from bs4 import BeautifulSoup\n",
    "\n",
    "response = requests.get('https://www.crummy.com/software/BeautifulSoup/bs4/doc/')\n",
    "#print(response.text)\n",
    "\n",
    "soup = BeautifulSoup(response.text, 'html.parser')\n",
    "\n",
    "# work with html tags\n",
    "\n",
    "#print(soup.p) <- first paragraph\n",
    "#print(soup.find_all('p'))  <- find all paragraphs\n",
    "#print(soup.title.string)\n",
    "#print(soup.h3)   <- specific tag\n",
    "\n",
    "# what Beautiful Soup returns is an iterable\n",
    "for p in soup.find_all('p'):\n",
    "    print(p)\n"
   ]
  },
  {
   "cell_type": "code",
   "execution_count": null,
   "metadata": {},
   "outputs": [],
   "source": [
    "# Grab any wikipedia article, parse, grab image and display\n",
    "\n",
    "import requests\n",
    "from bs4 import BeautifulSoup\n",
    "\n",
    "response = requests.get('https://en.wikipedia.org/wiki/Cat')\n",
    "#print(response.text)\n",
    "\n",
    "soup = BeautifulSoup(response.text, 'html.parser')\n",
    "\n",
    "#soup.find_all('img')  <-- print all img tags\n",
    "\n",
    "# iterate through img tags to grab src\n",
    "#for img in soup.find_all('img'):\n",
    "#    src = 'https://en.wikipedia.org'\n",
    "#    full_img = src + img['src']\n",
    "#    print(full_img)\n",
    "\n",
    "# need to debug above as img link not working\n",
    "\n",
    "# what link should look like: https://en.wikipedia.org/wiki/Cat#/media/File:Kittyply_edit1.jpg\n",
    "\n",
    "for img in soup.find_all('img'):\n",
    "    full_img = 'https:' + img['src']\n",
    "    print(full_img)\n"
   ]
  },
  {
   "cell_type": "code",
   "execution_count": null,
   "metadata": {},
   "outputs": [],
   "source": [
    "# Turn web address into images in notebook using IPython.display\n",
    "\n",
    "from IPython.display import Image\n",
    "\n",
    "Image('https://upload.wikimedia.org/wikipedia/commons/thumb/b/bb/Kittyply_edit1.jpg/220px-Kittyply_edit1.jpg', width = 100)"
   ]
  },
  {
   "cell_type": "code",
   "execution_count": null,
   "metadata": {},
   "outputs": [],
   "source": [
    "import requests\n",
    "from bs4 import BeautifulSoup\n",
    "from IPython.display import Image, display\n",
    "\n",
    "response = requests.get('https://en.wikipedia.org/wiki/Cat')\n",
    "#print(response.text)\n",
    "\n",
    "soup = BeautifulSoup(response.text, 'html.parser')\n",
    "\n",
    "#iterate and print all images\n",
    "# pass Image(full_img) to display() function from IPython library\n",
    "\n",
    "\n",
    "for img in soup.find_all('img'):\n",
    "    full_img = 'https:' + img['src']\n",
    "    if full_img.endswith('jpg'):\n",
    "        display(Image(full_img, width = 100))\n",
    "\n",
    "\n",
    "\n",
    "#for img in soup.find_all('img'):\n",
    "#    full_img = 'https:' + img['src']\n",
    "#    try:\n",
    "#        display(Image(full_img, width = 100))\n",
    "#    except Exception as e:\n",
    "#        print(e)\n"
   ]
  },
  {
   "cell_type": "code",
   "execution_count": null,
   "metadata": {},
   "outputs": [],
   "source": [
    "import mimetypes\n",
    "\n",
    "response = requests.get('https://en.wikipedia.org/wiki/Cat')\n",
    "\n",
    "soup = BeautifulSoup(response.text, 'html.parser')\n",
    "\n",
    "for img in soup.find_all('img'):\n",
    "    full_img = 'https:' + img['src']\n",
    "    mimetype = mimetypes.guess_type(full_img)\n",
    "    if mimetype[0] == 'image/jpeg':\n",
    "        display(Image(full_img, width = 100))\n",
    "        \n"
   ]
  },
  {
   "cell_type": "code",
   "execution_count": null,
   "metadata": {},
   "outputs": [],
   "source": [
    "# generalize to get all images & wrap this in a function\n",
    "import requests\n",
    "import mimetypes\n",
    "from bs4 import BeautifulSoup\n",
    "from IPython.display import Image, display\n",
    "\n",
    "def print_images(url, start=None, stop=None):\n",
    "    response = requests.get(url)\n",
    "    soup = BeautifulSoup(response.text, 'html.parser')\n",
    "    for img in soup.find_all('img')[start:stop]:\n",
    "        if img['src'].startswith('//'):\n",
    "            full_img = 'https:' + img['src']\n",
    "        else:\n",
    "            full_img = 'https://en.wikipedia.org' + img['src']\n",
    "        mimetype = mimetypes.guess_type(full_img)\n",
    "        if mimetype[0] is None:\n",
    "            continue\n",
    "        if mimetype[0].startswith('image'):\n",
    "            display(Image(full_img, width = 100))\n",
    "\n",
    "print_images('https://en.wikipedia.org/wiki/Cat')\n"
   ]
  },
  {
   "cell_type": "markdown",
   "metadata": {},
   "source": [
    "## Working with URLs with urllib\n",
    "\n",
    "Improving on our web scraping script above by:\n",
    "- removing hard coded strings\n",
    "- simplify conditional logic"
   ]
  },
  {
   "cell_type": "code",
   "execution_count": null,
   "metadata": {},
   "outputs": [],
   "source": [
    "from urllib.parse import urljoin \n",
    "\n",
    "# easily combine two web addresses\n",
    "url = 'https://en.wikipedia.org/wiki/PlayStation_5'\n",
    "path = '/static/images/footer/wikimedia-button.png'\n",
    "urljoin(url, path)\n",
    "\n",
    "url = 'https://en.wikipedia.org/wiki/PlayStation_5'\n",
    "path = '//upload.wikimedia.org/wikipedia/commons/thumb/4/47/Sound-icon.svg/20px-Sound-icon.svg.png'\n",
    "urljoin(url, path)"
   ]
  },
  {
   "cell_type": "code",
   "execution_count": null,
   "metadata": {},
   "outputs": [],
   "source": [
    "\n",
    "from urllib.parse import urljoin \n",
    "import mimetypes\n",
    "\n",
    "def print_images(url, start=None, stop=None):\n",
    "    response = requests.get(url)\n",
    "\n",
    "    soup = BeautifulSoup(response.text, 'html.parser')\n",
    "\n",
    "    for img in soup.find_all('img')[start:stop]:\n",
    "        # replace if-else logic above with urljoin\n",
    "        full_img = urljoin(url, img['src'])\n",
    "        mimetype = mimetypes.guess_type(full_img)\n",
    "        if mimetype[0] is None:\n",
    "            continue\n",
    "        print(mimetype[0])\n",
    "        if mimetype[0] in ['image/jpeg', 'image/png', 'image/gif']:\n",
    "            display(Image(full_img, width = 100))\n",
    "\n",
    "#print_images('https://en.wikipedia.org/wiki/Cat')\n",
    "#print_images(url)\n"
   ]
  },
  {
   "cell_type": "markdown",
   "metadata": {},
   "source": [
    "## Dates and times\n"
   ]
  },
  {
   "cell_type": "code",
   "execution_count": 15,
   "metadata": {},
   "outputs": [
    {
     "name": "stdout",
     "output_type": "stream",
     "text": [
      "2021-12-30 11:31:32.733424\n",
      "2022-01-01 00:00:00\n",
      "<class 'datetime.timedelta'>\n",
      "Days until 2022: 1\n",
      "Seconds until 2022: 44907\n",
      "Microseconds until 2022: 266576\n",
      "12\n",
      "27\n",
      "Time until 2022: 1 day, 12:28:27.266576\n",
      "1 12 28 27 266576\n"
     ]
    }
   ],
   "source": [
    "from datetime import datetime\n",
    "\n",
    "now = datetime.now()\n",
    "print(now)\n",
    "\n",
    "future = datetime(2022, 1, 1)\n",
    "print(future)\n",
    "\n",
    "print(type(future - now))\n",
    "time_diff = future - now\n",
    "print(f\"Days until 2022: {time_diff.days}\")\n",
    "print(f\"Seconds until 2022: {time_diff.seconds}\")\n",
    "print(f\"Microseconds until 2022: {time_diff.microseconds}\")\n",
    "\n",
    "# two forward slashes for integer dvision (rounds up)\n",
    "hours = time_diff.seconds // 3600\n",
    "print(hours)\n",
    "\n",
    "minutes = time_diff.seconds % 3600 // 60\n",
    "# to get remainder use modolo\n",
    "seconds = time_diff.seconds - (hours * 3600) - (minutes * 60)\n",
    "\n",
    "print(seconds)\n",
    "\n",
    "print(f'Time until 2022: {time_diff}')\n",
    "print(time_diff.days, hours, minutes, seconds, time_diff.microseconds)\n",
    "\n"
   ]
  },
  {
   "cell_type": "code",
   "execution_count": null,
   "metadata": {},
   "outputs": [],
   "source": [
    "# Using days, seconds and microseconds\n",
    "# Build out hours, minutes?"
   ]
  },
  {
   "cell_type": "code",
   "execution_count": 16,
   "metadata": {},
   "outputs": [
    {
     "name": "stdout",
     "output_type": "stream",
     "text": [
      "1 day, 12:28:19.659370\n"
     ]
    }
   ],
   "source": [
    "\n",
    "\n",
    "now = datetime.now()\n",
    "year = now.year\n",
    "future = datetime(year + 1, 1, 1)\n",
    "\n",
    "print(future - now)"
   ]
  },
  {
   "cell_type": "code",
   "execution_count": 19,
   "metadata": {},
   "outputs": [
    {
     "name": "stdout",
     "output_type": "stream",
     "text": [
      "time.struct_time(tm_year=1970, tm_mon=1, tm_mday=1, tm_hour=0, tm_min=0, tm_sec=0, tm_wday=3, tm_yday=1, tm_isdst=0)\n"
     ]
    },
    {
     "data": {
      "text/plain": [
       "1640838823.56873"
      ]
     },
     "execution_count": 19,
     "metadata": {},
     "output_type": "execute_result"
    }
   ],
   "source": [
    "# timesamps\n",
    "\n",
    "import time\n",
    "\n",
    "#  when the epoch started\n",
    "print(time.gmtime(0))\n",
    "\n",
    "# timestamps\n",
    "time.time()"
   ]
  },
  {
   "cell_type": "code",
   "execution_count": 24,
   "metadata": {},
   "outputs": [
    {
     "name": "stdout",
     "output_type": "stream",
     "text": [
      "3.8.5\n",
      "Nanoseconds since the epoch: 1640839056467075000\n"
     ]
    }
   ],
   "source": [
    "# check python version dynamically\n",
    "import time\n",
    "from platform import python_version\n",
    "\n",
    "version = python_version()\n",
    "print(version)\n",
    "\n",
    "if int(version[2]) >= 7:\n",
    "    print(\"Nanoseconds since the epoch:\", time.time_ns())"
   ]
  },
  {
   "cell_type": "code",
   "execution_count": 25,
   "metadata": {},
   "outputs": [
    {
     "name": "stdout",
     "output_type": "stream",
     "text": [
      "0:00:04.002507\n"
     ]
    }
   ],
   "source": [
    "\n",
    "# to simulate how long something takes\n",
    "\n",
    "before = datetime.now()\n",
    "\n",
    "time.sleep(4)\n",
    "\n",
    "after = datetime.now()\n",
    "\n",
    "print(after - before)"
   ]
  },
  {
   "cell_type": "markdown",
   "metadata": {},
   "source": [
    "## Copy"
   ]
  },
  {
   "cell_type": "code",
   "execution_count": 28,
   "metadata": {},
   "outputs": [
    {
     "name": "stdout",
     "output_type": "stream",
     "text": [
      "4495219520 4495219520\n",
      "6 5\n",
      "4495219552 4495219520\n"
     ]
    }
   ],
   "source": [
    "# understand difference between deep and shallow copy\n",
    "\n",
    "data1 = 5\n",
    "data2 = data1\n",
    "\n",
    "# initially point to same area in memory\n",
    "print(id(data1), id(data2))\n",
    "\n",
    "# now area in memory changes\n",
    "data1 = 6\n",
    "print(data1, data2)\n",
    "print(id(data1), id(data2))"
   ]
  },
  {
   "cell_type": "code",
   "execution_count": 29,
   "metadata": {},
   "outputs": [
    {
     "name": "stdout",
     "output_type": "stream",
     "text": [
      "140551295574208 140551295574208\n",
      "[6] [6]\n",
      "140551295574208 140551295574208\n"
     ]
    }
   ],
   "source": [
    "\n",
    "data1 = [5]\n",
    "data2 = data1\n",
    "\n",
    "# initially point to same area in memory\n",
    "print(id(data1), id(data2))\n",
    "\n",
    "# When working with Lists, now address in memory does NOT change\n",
    "data1[0] = 6\n",
    "\n",
    "print(data1, data2)\n",
    "print(id(data1), id(data2))"
   ]
  },
  {
   "cell_type": "markdown",
   "metadata": {},
   "source": [
    "When working with objects (e.g., Lists), we're creating an alias, data2 points to data1; they still have the same address in memory\n",
    "\n",
    "Primitives are immutable, if you change them, they're actually replaced \n",
    "\n",
    "Objects are different, you can change the data in the object, but the address in memory stays the same.\n",
    "\n"
   ]
  },
  {
   "cell_type": "markdown",
   "metadata": {},
   "source": [
    "### Shallow Copy"
   ]
  },
  {
   "cell_type": "code",
   "execution_count": 33,
   "metadata": {},
   "outputs": [
    {
     "name": "stdout",
     "output_type": "stream",
     "text": [
      "140551316382400 140551296846976\n",
      "[6] [5]\n",
      "140551316382400 140551296846976\n"
     ]
    }
   ],
   "source": [
    "from copy import copy\n",
    "\n",
    "data1 = [5]\n",
    "# copy data to put into memory\n",
    "# data2 = data1[:]\n",
    "# data2 = data1.copy()\n",
    "data2 = copy(data1)\n",
    "\n",
    "# initially point to same area in memory\n",
    "print(id(data1), id(data2))\n",
    "\n",
    "# When working with Lists, now address in memory does NOT change\n",
    "data1[0] = 6\n",
    "\n",
    "print(data1, data2)\n",
    "print(id(data1), id(data2))"
   ]
  },
  {
   "cell_type": "code",
   "execution_count": 35,
   "metadata": {},
   "outputs": [
    {
     "name": "stdout",
     "output_type": "stream",
     "text": [
      "140551316747648 140551316652288\n",
      "['0', 1, 2, 3, [6], {5}, {6: 7}] ['0', 1, 2, 3, [6], {5}, {6: 7}]\n",
      "140551316747648 140551316652288\n"
     ]
    }
   ],
   "source": [
    "# more complicated list\n",
    "\n",
    "from copy import copy\n",
    "\n",
    "data1 = ['0', 1, 2, 3, [4], {5}, {6:7}]\n",
    "# copy data to put into memory\n",
    "# data2 = data1[:]\n",
    "# data2 = data1.copy()\n",
    "data2 = copy(data1)\n",
    "\n",
    "\n",
    "# This change is only reflected in ONE list (the other one is a copy)\n",
    "# data1[0] = 6\n",
    "\n",
    "# to see changes in BOTH list\n",
    "# change a variable that's *in* a list '[4]'\n",
    "data1[4][0] = 6\n",
    "\n",
    "print(data1, data2)\n",
    "print(id(data1), id(data2))"
   ]
  },
  {
   "cell_type": "code",
   "execution_count": 36,
   "metadata": {},
   "outputs": [
    {
     "name": "stdout",
     "output_type": "stream",
     "text": [
      "140551255956208\n",
      "4495219392\n",
      "4495219424\n",
      "4495219456\n",
      "140551295574208\n",
      "140551297445216\n",
      "140551316744576\n",
      "\n",
      "140551255956208\n",
      "4495219392\n",
      "4495219424\n",
      "4495219456\n",
      "140551295574208\n",
      "140551297445216\n",
      "140551316744576\n",
      "\n"
     ]
    }
   ],
   "source": [
    "# with a shallow copy, it takes all the id from first list and copies to second list\n",
    "\n",
    "def print_list(data):\n",
    "    for d in data:\n",
    "        print(id(d))\n",
    "    print()\n",
    "\n",
    "data1 = ['0', 1, 2, 3, [4], {5}, {6:7}]\n",
    "data2 = copy(data1)\n",
    "\n",
    "print_list(data1)\n",
    "print_list(data2)"
   ]
  },
  {
   "cell_type": "code",
   "execution_count": 38,
   "metadata": {},
   "outputs": [
    {
     "name": "stdout",
     "output_type": "stream",
     "text": [
      "140551255956208\n",
      "4495219392\n",
      "4495219424\n",
      "4495219456\n",
      "140551316652224\n",
      "140551297442976\n",
      "140551316735232\n",
      "\n",
      "140551255956208\n",
      "4495219392\n",
      "4495219424\n",
      "4495219456\n",
      "140551316571328\n",
      "140551297445664\n",
      "140551297023488\n",
      "\n",
      "['0', 1, 2, 3, ['new'], {5}, {6: 7}] ['0', 1, 2, 3, [4], {5}, {6: 7}]\n"
     ]
    }
   ],
   "source": [
    "from copy import deepcopy\n",
    "\n",
    "def print_list(data):\n",
    "    for d in data:\n",
    "        print(id(d))\n",
    "    print()\n",
    "\n",
    "data1 = ['0', 1, 2, 3, [4], {5}, {6:7}]\n",
    "data2 = deepcopy(data1)\n",
    "\n",
    "print_list(data1)\n",
    "print_list(data2)\n",
    "\n",
    "data1[4][0] = 'new'\n",
    "print(data1, data2)"
   ]
  },
  {
   "cell_type": "code",
   "execution_count": 40,
   "metadata": {},
   "outputs": [
    {
     "name": "stdout",
     "output_type": "stream",
     "text": [
      "[0, 1, 2]\n"
     ]
    }
   ],
   "source": [
    "# changes value in object, not the object itself\n",
    "# if change from 'x[0] = 9000' to 'x = 9000', that will NOT persist\n",
    "def do_something(x):\n",
    "    x = 9000\n",
    "\n",
    "grades = [0, 1, 2]\n",
    "\n",
    "do_something(grades)\n",
    "print(grades)"
   ]
  },
  {
   "cell_type": "markdown",
   "metadata": {},
   "source": [
    "### when working with functions, you can only change the data in objects, not hte object itself"
   ]
  },
  {
   "cell_type": "markdown",
   "metadata": {},
   "source": [
    "## pprint"
   ]
  },
  {
   "cell_type": "code",
   "execution_count": 45,
   "metadata": {},
   "outputs": [
    {
     "name": "stdout",
     "output_type": "stream",
     "text": [
      "{1: {'math': [90, 90, 30, 20], 'science': [94, 93, 92, 91], 'history': [12, 23, 34, 54], 'reading': [54, 23, 23, 54]}, 2: {'math': [9, 9, 3, 2], 'science': [9, 9, 9, 9], 'history': [1, 2, 3, 5], 'reading': [5, 2, 2, 5]}, 3: {'math': [45, 44, 14, 88], 'science': [88, 93, 88, 91], 'history': [7, 23, 5, 54], 'reading': [54, 8, 23, 6]}}\n",
      "{1: {'history': [12, 23, 34, 54],\n",
      "     'math': [90, 90, 30, 20],\n",
      "     'reading': [54, 23, 23, 54],\n",
      "     'science': [94, 93, 92, 91]},\n",
      " 2: {'history': [1, 2, 3, 5],\n",
      "     'math': [9, 9, 3, 2],\n",
      "     'reading': [5, 2, 2, 5],\n",
      "     'science': [9, 9, 9, 9]},\n",
      " 3: {'history': [7, 23, 5, 54],\n",
      "     'math': [45, 44, 14, 88],\n",
      "     'reading': [54, 8, 23, 6],\n",
      "     'science': [88, 93, 88, 91]}}\n"
     ]
    }
   ],
   "source": [
    "from pprint import pprint\n",
    "\n",
    "grades = {\n",
    "    1: {\n",
    "        'math': [90, 90, 30, 20],\n",
    "        'science': [94, 93, 92, 91], \n",
    "        'history': [12, 23, 34, 54], \n",
    "        'reading': [54, 23, 23, 54]\n",
    "    }, \n",
    "    2: {\n",
    "        'math': [9, 9, 3, 2],\n",
    "        'science': [9, 9, 9, 9], \n",
    "        'history': [1, 2, 3, 5], \n",
    "        'reading': [5, 2, 2, 5]\n",
    "    }, \n",
    "    3: {\n",
    "        'math': [45, 44, 14, 88],\n",
    "        'science': [88, 93, 88, 91], \n",
    "        'history': [7, 23, 5, 54], \n",
    "        'reading': [54, 8, 23, 6]\n",
    "    }\n",
    "}\n",
    "\n",
    "print(grades)\n",
    "pprint(grades)"
   ]
  },
  {
   "cell_type": "code",
   "execution_count": 47,
   "metadata": {},
   "outputs": [
    {
     "name": "stdout",
     "output_type": "stream",
     "text": [
      "{\n",
      "    \"1\": {\n",
      "        \"math\": [\n",
      "            90,\n",
      "            90,\n",
      "            30,\n",
      "            20\n",
      "        ],\n",
      "        \"science\": [\n",
      "            94,\n",
      "            93,\n",
      "            92,\n",
      "            91\n",
      "        ],\n",
      "        \"history\": [\n",
      "            12,\n",
      "            23,\n",
      "            34,\n",
      "            54\n",
      "        ],\n",
      "        \"reading\": [\n",
      "            54,\n",
      "            23,\n",
      "            23,\n",
      "            54\n",
      "        ]\n",
      "    },\n",
      "    \"2\": {\n",
      "        \"math\": [\n",
      "            9,\n",
      "            9,\n",
      "            3,\n",
      "            2\n",
      "        ],\n",
      "        \"science\": [\n",
      "            9,\n",
      "            9,\n",
      "            9,\n",
      "            9\n",
      "        ],\n",
      "        \"history\": [\n",
      "            1,\n",
      "            2,\n",
      "            3,\n",
      "            5\n",
      "        ],\n",
      "        \"reading\": [\n",
      "            5,\n",
      "            2,\n",
      "            2,\n",
      "            5\n",
      "        ]\n",
      "    },\n",
      "    \"3\": {\n",
      "        \"math\": [\n",
      "            45,\n",
      "            44,\n",
      "            14,\n",
      "            88\n",
      "        ],\n",
      "        \"science\": [\n",
      "            88,\n",
      "            93,\n",
      "            88,\n",
      "            91\n",
      "        ],\n",
      "        \"history\": [\n",
      "            7,\n",
      "            23,\n",
      "            5,\n",
      "            54\n",
      "        ],\n",
      "        \"reading\": [\n",
      "            54,\n",
      "            8,\n",
      "            23,\n",
      "            6\n",
      "        ]\n",
      "    }\n",
      "}\n"
     ]
    }
   ],
   "source": [
    "import json \n",
    "\n",
    "print(json.dumps(grades, indent=4))"
   ]
  },
  {
   "cell_type": "code",
   "execution_count": 49,
   "metadata": {},
   "outputs": [],
   "source": [
    "# write a json file\n",
    "import json\n",
    "\n",
    "with open('data.json', 'w', encoding='utf-8') as f:\n",
    "    json.dump(grades, f, ensure_ascii=False, indent=4)"
   ]
  },
  {
   "cell_type": "code",
   "execution_count": 52,
   "metadata": {},
   "outputs": [
    {
     "name": "stdout",
     "output_type": "stream",
     "text": [
      "<class 'dict'>\n",
      "{'1': {'history': [12, 23, 34, 54],\n",
      "       'math': [90, 90, 30, 20],\n",
      "       'reading': [54, 23, 23, 54],\n",
      "       'science': [94, 93, 92, 91]},\n",
      " '2': {'history': [1, 2, 3, 5],\n",
      "       'math': [9, 9, 3, 2],\n",
      "       'reading': [5, 2, 2, 5],\n",
      "       'science': [9, 9, 9, 9]},\n",
      " '3': {'history': [7, 23, 5, 54],\n",
      "       'math': [45, 44, 14, 88],\n",
      "       'reading': [54, 8, 23, 6],\n",
      "       'science': [88, 93, 88, 91]}}\n"
     ]
    }
   ],
   "source": [
    "# read from json file\n",
    "with open('data.json') as f:\n",
    "    grades = json.load(f)\n",
    "\n",
    "print(type(grades))\n",
    "pprint(grades)"
   ]
  },
  {
   "cell_type": "markdown",
   "metadata": {},
   "source": [
    "## Arrays and Collections\n",
    "\n",
    "General note: Use Python Lists when you can, unless you have a specific need for an \"Array\""
   ]
  },
  {
   "cell_type": "code",
   "execution_count": 56,
   "metadata": {},
   "outputs": [
    {
     "name": "stdout",
     "output_type": "stream",
     "text": [
      "array('i', [1, 5, 23, 65, 23, 2])\n",
      "<class 'int'>\n",
      "<class 'int'>\n",
      "<class 'int'>\n",
      "<class 'int'>\n",
      "<class 'int'>\n",
      "<class 'int'>\n"
     ]
    }
   ],
   "source": [
    "from array import array \n",
    "\n",
    "# array is only allowed to have one data type, lists can have many\n",
    "# i = signed int\n",
    "data = array('i', [1, 5, 23, 65, 23, 2])\n",
    "print(data)\n",
    "\n",
    "# append a float, throws error\n",
    "# data.append(5.5)\n",
    "\n",
    "for d in data:\n",
    "    print(type(d))"
   ]
  },
  {
   "cell_type": "code",
   "execution_count": 60,
   "metadata": {},
   "outputs": [
    {
     "name": "stdout",
     "output_type": "stream",
     "text": [
      "[ 4  5  6 23 34 54 34  2]\n",
      "162\n",
      "[2.         2.23606798 2.44948974 4.79583152 5.83095189 7.34846923\n",
      " 5.83095189 1.41421356]\n"
     ]
    }
   ],
   "source": [
    "import numpy as np \n",
    "\n",
    "# numpy array is optimized for math \n",
    "data = np.array([4, 5, 6, 23, 34, 54, 34, 2])\n",
    "\n",
    "print(data)\n",
    "print(np.sum(data))\n",
    "print(np.sqrt(data))"
   ]
  },
  {
   "cell_type": "code",
   "execution_count": 64,
   "metadata": {},
   "outputs": [
    {
     "name": "stdout",
     "output_type": "stream",
     "text": [
      "[3, 4, 5, 6]\n",
      "[3, 4, 5]\n",
      "[6, 3, 4, 5]\n",
      "[3, 4, 5]\n"
     ]
    }
   ],
   "source": [
    "data = [3,4,5]\n",
    "# append add to end\n",
    "data.append(6)\n",
    "print(data)\n",
    "\n",
    "# pop from end\n",
    "data.pop()\n",
    "print(data)\n",
    "\n",
    "# add to beginning\n",
    "data.insert(0, 6)\n",
    "print(data)\n",
    "\n",
    "# pop from beginning\n",
    "data.pop(0)\n",
    "print(data)"
   ]
  },
  {
   "cell_type": "markdown",
   "metadata": {},
   "source": [
    "## If you need to work at both the beginning and end of a List, use doubly-linked List\n",
    "\n",
    "module `deque`"
   ]
  },
  {
   "cell_type": "code",
   "execution_count": 67,
   "metadata": {},
   "outputs": [
    {
     "name": "stdout",
     "output_type": "stream",
     "text": [
      "-7\n",
      "deque([1, 2, 3])\n"
     ]
    }
   ],
   "source": [
    "from collections import deque \n",
    "\n",
    "data = deque([1,2,3])\n",
    "\n",
    "data.appendleft(-7)\n",
    "print(data.popleft())\n",
    "\n",
    "print(data)\n",
    "\n"
   ]
  }
 ],
 "metadata": {
  "interpreter": {
   "hash": "aee8b7b246df8f9039afb4144a1f6fd8d2ca17a180786b69acc140d282b71a49"
  },
  "kernelspec": {
   "display_name": "Python 3.8.5 64-bit",
   "language": "python",
   "name": "python3"
  },
  "language_info": {
   "codemirror_mode": {
    "name": "ipython",
    "version": 3
   },
   "file_extension": ".py",
   "mimetype": "text/x-python",
   "name": "python",
   "nbconvert_exporter": "python",
   "pygments_lexer": "ipython3",
   "version": "3.8.5"
  },
  "orig_nbformat": 4
 },
 "nbformat": 4,
 "nbformat_minor": 2
}
