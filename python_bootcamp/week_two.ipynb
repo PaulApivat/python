{
 "cells": [
  {
   "cell_type": "code",
   "execution_count": null,
   "metadata": {},
   "outputs": [],
   "source": [
    "import requests\n",
    "\n",
    "response = requests.get('https://raw.githubusercontent.com/CalebCurry/python/master/netflix_titles.csv')\n",
    "\n",
    "#print(response.text)\n",
    "#data = response.text.split(',')\n",
    "\n",
    "data = response.text.split('\\r\\n')\n",
    "\n",
    "#print(data)\n",
    "\n",
    "for row in data:\n",
    "    for element in row.split(','):\n",
    "        print(element)"
   ]
  },
  {
   "cell_type": "markdown",
   "metadata": {},
   "source": [
    "## CSV Files\n",
    "\n",
    "Using `csv` module is easier than doing it manually above.\n",
    "Use `pwd` in terminal to find the path towards `netflix_titles.csv` and use that path."
   ]
  },
  {
   "cell_type": "code",
   "execution_count": null,
   "metadata": {},
   "outputs": [],
   "source": [
    "import csv\n",
    "\n",
    "with open('/Users/paulapivat/Desktop/RCode/python/python_bootcamp/netflix_titles.csv', newline='') as f:\n",
    "    reader = csv.reader(f)\n",
    "    for row in reader:\n",
    "        print(row[2])\n"
   ]
  },
  {
   "cell_type": "markdown",
   "metadata": {},
   "source": [
    "## Pandas\n",
    "\n",
    "Another option."
   ]
  },
  {
   "cell_type": "code",
   "execution_count": null,
   "metadata": {},
   "outputs": [],
   "source": [
    "import pandas as pd\n",
    "\n",
    "df = pd.read_csv('https://raw.githubusercontent.com/CalebCurry/python/master/netflix_titles.csv')\n",
    "\n",
    "df.head()"
   ]
  },
  {
   "cell_type": "markdown",
   "metadata": {},
   "source": [
    "## csv with requests.get()\n",
    "\n",
    "src - https://stackoverflow.com/questions/18897029/read-csv-file-from-url-into-python-3-x-csv-error-iterator-should-return-str"
   ]
  },
  {
   "cell_type": "markdown",
   "metadata": {},
   "source": [
    "## csv with requests.get()\n",
    "\n",
    "src - https://stackoverflow.com/questions/18897029/read-csv-file-from-url-into-python-3-x-csv-error-iterator-should-return-str"
   ]
  },
  {
   "cell_type": "code",
   "execution_count": null,
   "metadata": {},
   "outputs": [],
   "source": [
    "import csv\n",
    "import codecs\n",
    "\n",
    "response = requests.get('https://raw.githubusercontent.com/CalebCurry/python/master/netflix_titles.csv')\n",
    "r = response.iter_lines()\n",
    "\n",
    "reader = csv.reader(codecs.iterdecode(r, 'utf-8'))\n",
    "for row in reader:\n",
    "    print(row[2])"
   ]
  },
  {
   "cell_type": "markdown",
   "metadata": {},
   "source": [
    "## Web scraping - Beautiful Soup\n",
    "\n",
    "This is an option for working with websites when there is no API or the API does not give he needed options.\n",
    "Another tool is html requests."
   ]
  },
  {
   "cell_type": "code",
   "execution_count": null,
   "metadata": {},
   "outputs": [],
   "source": [
    "# we can try using requests before using beautiful soup\n",
    "# requests can help us get HTML\n",
    "# beautiful soup is used when working with html tags\n",
    "\n",
    "import requests\n",
    "from bs4 import BeautifulSoup\n",
    "\n",
    "response = requests.get('https://www.crummy.com/software/BeautifulSoup/bs4/doc/')\n",
    "#print(response.text)\n",
    "\n",
    "soup = BeautifulSoup(response.text, 'html.parser')\n",
    "\n",
    "# work with html tags\n",
    "\n",
    "#print(soup.p) <- first paragraph\n",
    "#print(soup.find_all('p'))  <- find all paragraphs\n",
    "#print(soup.title.string)\n",
    "#print(soup.h3)   <- specific tag\n",
    "\n",
    "# what Beautiful Soup returns is an iterable\n",
    "for p in soup.find_all('p'):\n",
    "    print(p)\n"
   ]
  },
  {
   "cell_type": "code",
   "execution_count": null,
   "metadata": {},
   "outputs": [],
   "source": [
    "# Grab any wikipedia article, parse, grab image and display\n",
    "\n",
    "import requests\n",
    "from bs4 import BeautifulSoup\n",
    "\n",
    "response = requests.get('https://en.wikipedia.org/wiki/Cat')\n",
    "#print(response.text)\n",
    "\n",
    "soup = BeautifulSoup(response.text, 'html.parser')\n",
    "\n",
    "#soup.find_all('img')  <-- print all img tags\n",
    "\n",
    "# iterate through img tags to grab src\n",
    "#for img in soup.find_all('img'):\n",
    "#    src = 'https://en.wikipedia.org'\n",
    "#    full_img = src + img['src']\n",
    "#    print(full_img)\n",
    "\n",
    "# need to debug above as img link not working\n",
    "\n",
    "# what link should look like: https://en.wikipedia.org/wiki/Cat#/media/File:Kittyply_edit1.jpg\n",
    "\n",
    "for img in soup.find_all('img'):\n",
    "    full_img = 'https:' + img['src']\n",
    "    print(full_img)\n"
   ]
  },
  {
   "cell_type": "code",
   "execution_count": null,
   "metadata": {},
   "outputs": [],
   "source": [
    "# Turn web address into images in notebook using IPython.display\n",
    "\n",
    "from IPython.display import Image\n",
    "\n",
    "Image('https://upload.wikimedia.org/wikipedia/commons/thumb/b/bb/Kittyply_edit1.jpg/220px-Kittyply_edit1.jpg', width = 100)"
   ]
  },
  {
   "cell_type": "code",
   "execution_count": null,
   "metadata": {},
   "outputs": [],
   "source": [
    "import requests\n",
    "from bs4 import BeautifulSoup\n",
    "from IPython.display import Image, display\n",
    "\n",
    "response = requests.get('https://en.wikipedia.org/wiki/Cat')\n",
    "#print(response.text)\n",
    "\n",
    "soup = BeautifulSoup(response.text, 'html.parser')\n",
    "\n",
    "#iterate and print all images\n",
    "# pass Image(full_img) to display() function from IPython library\n",
    "\n",
    "\n",
    "for img in soup.find_all('img'):\n",
    "    full_img = 'https:' + img['src']\n",
    "    if full_img.endswith('jpg'):\n",
    "        display(Image(full_img, width = 100))\n",
    "\n",
    "\n",
    "\n",
    "#for img in soup.find_all('img'):\n",
    "#    full_img = 'https:' + img['src']\n",
    "#    try:\n",
    "#        display(Image(full_img, width = 100))\n",
    "#    except Exception as e:\n",
    "#        print(e)\n"
   ]
  },
  {
   "cell_type": "code",
   "execution_count": null,
   "metadata": {},
   "outputs": [],
   "source": [
    "import mimetypes\n",
    "\n",
    "response = requests.get('https://en.wikipedia.org/wiki/Cat')\n",
    "\n",
    "soup = BeautifulSoup(response.text, 'html.parser')\n",
    "\n",
    "for img in soup.find_all('img'):\n",
    "    full_img = 'https:' + img['src']\n",
    "    mimetype = mimetypes.guess_type(full_img)\n",
    "    if mimetype[0] == 'image/jpeg':\n",
    "        display(Image(full_img, width = 100))\n",
    "        \n"
   ]
  },
  {
   "cell_type": "code",
   "execution_count": null,
   "metadata": {},
   "outputs": [],
   "source": [
    "# generalize to get all images & wrap this in a function\n",
    "import mimetypes\n",
    "\n",
    "def print_images(url, start=None, stop=None):\n",
    "    response = requests.get(url)\n",
    "    soup = BeautifulSoup(response.text, 'html.parser')\n",
    "    for img in soup.find_all('img')[start:stop]:\n",
    "        if img['src'].startswith('//'):\n",
    "            full_img = 'https:' + img['src']\n",
    "        else:\n",
    "            full_img = 'https://en.wikipedia.org' + img['src']\n",
    "        mimetype = mimetypes.guess_type(full_img)\n",
    "        if mimetype[0] is None:\n",
    "            continue\n",
    "        if mimetype[0].startswith('image'):\n",
    "            display(Image(full_img, width = 100))\n",
    "\n",
    "print_images('https://en.wikipedia.org/wiki/Cat')\n"
   ]
  }
 ],
 "metadata": {
  "interpreter": {
   "hash": "aee8b7b246df8f9039afb4144a1f6fd8d2ca17a180786b69acc140d282b71a49"
  },
  "kernelspec": {
   "display_name": "Python 3.8.5 64-bit",
   "language": "python",
   "name": "python3"
  },
  "language_info": {
   "codemirror_mode": {
    "name": "ipython",
    "version": 3
   },
   "file_extension": ".py",
   "mimetype": "text/x-python",
   "name": "python",
   "nbconvert_exporter": "python",
   "pygments_lexer": "ipython3",
   "version": "3.8.5"
  },
  "orig_nbformat": 4
 },
 "nbformat": 4,
 "nbformat_minor": 2
}
