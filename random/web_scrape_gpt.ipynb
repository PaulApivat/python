{
 "cells": [
  {
   "cell_type": "code",
   "execution_count": 1,
   "id": "faa2d9bc",
   "metadata": {},
   "outputs": [
    {
     "name": "stdout",
     "output_type": "stream",
     "text": [
      "<Response [200]>\n"
     ]
    }
   ],
   "source": [
    "import requests\n",
    "from bs4 import BeautifulSoup\n",
    "\n",
    "# send a GET request to the website\n",
    "url = 'https://de.fi/rekt-database'\n",
    "response = requests.get(url)\n",
    "\n",
    "print(response)"
   ]
  },
  {
   "cell_type": "code",
   "execution_count": 7,
   "id": "439b3475",
   "metadata": {},
   "outputs": [
    {
     "name": "stdout",
     "output_type": "stream",
     "text": [
      "<!DOCTYPE html>\n",
      "<html lang=\"en\"><head><meta charset=\"utf-8\"/><link crossorigin=\"use-credentials\" href=\"/manifest.webmanifest\" rel=\"manifest\"/><link href=\"/apple-touch-icon.png?v=1\" rel=\"apple-touch-icon\" sizes=\"180x180\"/><link href=\"/favicon-32x32.png?v=1\" rel=\"icon\" sizes=\"32x32\" type=\"image/png\"/><link href=\"/android-chrome-192x192.png?v=1\" rel=\"icon\" sizes=\"192x192\" type=\"image/png\"/><link href=\"/favicon-16x16.png?v=1\" rel=\"icon\" sizes=\"16x16\" type=\"image/png\"/><link color=\"#5bbad5\" href=\"/safari-pinned-tab.svg?v=1\" rel=\"mask-icon\"/><link href=\"/favicon.ico?v=1\" rel=\"shortcut icon\"/><meta content=\"De.Fi\" name=\"apple-mobile-web-app-title\"/><meta content=\"De.Fi\" name=\"application-name\"/><meta content=\"#da532c\" name=\"msapplication-TileColor\"/><meta content=\"#ffffff\" name=\"theme-color\"/><meta name=\"terra-wallet\"/><meta content=\"width=device-width,initial-scale=1\" name=\"viewport\"/><link href=\"https://cdn.jsdelivr.net/npm/semantic-ui@2/dist/semantic.min.css\" rel=\"stylesheet\"/><title>De.Fi - DeFi Investing &amp; Yield Farming Platform</title><meta content=\"Your gateway to Decentralized Finance | Manage assets across blockchains, generate returns from cryptocurrencies, access the best token swap rates and more\" name=\"description\"/><meta content=\"website\" property=\"og:type\"/><meta content=\"De.Fi - DeFi Investing &amp; Yield Farming Platform\" property=\"og:title\"/><meta content=\"Your gateway to Decentralized Finance | Manage assets across blockchains, generate returns from cryptocurrencies, access the best token swap rates and more\" property=\"og:description\"/><meta content=\"https://files.defiyield.app/preview/general.png\" property=\"og:image\"/><meta content=\"summary_large_image\" property=\"twitter:card\"/><meta content=\"De.Fi - DeFi Investing &amp; Yield Farming Platform\" property=\"twitter:title\"/><meta content=\"Your gateway to Decentralized Finance | Manage assets across blockchains, generate returns from cryptocurrencies, access the best token swap rates and more\" property=\"twitter:description\"/><meta content=\"https://files.defiyield.app/preview/general.png\" property=\"twitter:image\"/><script>window.prerenderReady=!1</script><script async=\"\" src=\"https://www.googletagmanager.com/gtag/js?id=G-2SNS7LDDHT\"></script><script>function gtag(){dataLayer.push(arguments)}window.dataLayer=window.dataLayer||[],gtag(\"js\",new Date),gtag(\"config\",\"G-2SNS7LDDHT\")</script><script defer=\"defer\" src=\"//check.defiyield.app/main.a554d9e4.js\"></script><script defer=\"defer\" src=\"//check.defiyield.app/remoteEntry.js\"></script></head><body><noscript>You need to enable JavaScript to run this app.</noscript><div id=\"root\"></div><script src=\"//check.defiyield.app/remoteEntry.js?v=1679416942684\"></script><script src=\"//sale.check.defiyield.app/remoteEntry.js?v=1679416942684\"></script><script src=\"//scanner.check.defiyield.app/remoteEntry.js?v=1679416942684\"></script><script src=\"//safe.check.defiyield.app/remoteEntry.js?v=1679416942684\"></script><script>!function(e,t,n,i,a,c){e.twq||(i=e.twq=function(){i.exe?i.exe.apply(i,arguments):i.queue.push(arguments)},i.version=\"1.1\",i.queue=[],(a=t.createElement(n)).async=!0,a.src=\"//static.ads-twitter.com/uwt.js\",(c=t.getElementsByTagName(n)[0]).parentNode.insertBefore(a,c))}(window,document,\"script\"),twq(\"init\",\"o63q7\"),twq(\"track\",\"PageView\")</script></body></html>\n"
     ]
    }
   ],
   "source": [
    "# Parse HTML content using BeautifulSoup\n",
    "soup = BeautifulSoup(response.content, 'html.parser')\n",
    "\n",
    "print(soup)"
   ]
  },
  {
   "cell_type": "code",
   "execution_count": null,
   "id": "765db771",
   "metadata": {},
   "outputs": [],
   "source": [
    "%pip install requests-html\n",
    "from requests_html import HTMLSession\n",
    "from bs4 import BeautifulSoup\n",
    "\n",
    "# Create an HTML session\n",
    "session = HTMLSession()\n",
    "\n",
    "print(session)"
   ]
  },
  {
   "cell_type": "code",
   "execution_count": 20,
   "id": "de254319",
   "metadata": {},
   "outputs": [
    {
     "name": "stdout",
     "output_type": "stream",
     "text": [
      "<Response [200]>\n"
     ]
    }
   ],
   "source": [
    "# Send a GET request to the website\n",
    "url = 'https://de.fi/rekt-database'\n",
    "response = session.get(url)\n",
    "\n",
    "print(response)"
   ]
  },
  {
   "cell_type": "code",
   "execution_count": 21,
   "id": "97b23f38",
   "metadata": {},
   "outputs": [
    {
     "ename": "RuntimeError",
     "evalue": "Cannot use HTMLSession within an existing event loop. Use AsyncHTMLSession instead.",
     "output_type": "error",
     "traceback": [
      "\u001b[0;31m---------------------------------------------------------------------------\u001b[0m",
      "\u001b[0;31mRuntimeError\u001b[0m                              Traceback (most recent call last)",
      "Input \u001b[0;32mIn [21]\u001b[0m, in \u001b[0;36m<cell line: 2>\u001b[0;34m()\u001b[0m\n\u001b[1;32m      1\u001b[0m \u001b[38;5;66;03m# Render the JavaScript on the page\u001b[39;00m\n\u001b[0;32m----> 2\u001b[0m \u001b[43mresponse\u001b[49m\u001b[38;5;241;43m.\u001b[39;49m\u001b[43mhtml\u001b[49m\u001b[38;5;241;43m.\u001b[39;49m\u001b[43mrender\u001b[49m\u001b[43m(\u001b[49m\u001b[43m)\u001b[49m\n",
      "File \u001b[0;32m~/opt/anaconda3/lib/python3.9/site-packages/requests_html.py:586\u001b[0m, in \u001b[0;36mHTML.render\u001b[0;34m(self, retries, script, wait, scrolldown, sleep, reload, timeout, keep_page)\u001b[0m\n\u001b[1;32m    541\u001b[0m \u001b[38;5;28;01mdef\u001b[39;00m \u001b[38;5;21mrender\u001b[39m(\u001b[38;5;28mself\u001b[39m, retries: \u001b[38;5;28mint\u001b[39m \u001b[38;5;241m=\u001b[39m \u001b[38;5;241m8\u001b[39m, script: \u001b[38;5;28mstr\u001b[39m \u001b[38;5;241m=\u001b[39m \u001b[38;5;28;01mNone\u001b[39;00m, wait: \u001b[38;5;28mfloat\u001b[39m \u001b[38;5;241m=\u001b[39m \u001b[38;5;241m0.2\u001b[39m, scrolldown\u001b[38;5;241m=\u001b[39m\u001b[38;5;28;01mFalse\u001b[39;00m, sleep: \u001b[38;5;28mint\u001b[39m \u001b[38;5;241m=\u001b[39m \u001b[38;5;241m0\u001b[39m, reload: \u001b[38;5;28mbool\u001b[39m \u001b[38;5;241m=\u001b[39m \u001b[38;5;28;01mTrue\u001b[39;00m, timeout: Union[\u001b[38;5;28mfloat\u001b[39m, \u001b[38;5;28mint\u001b[39m] \u001b[38;5;241m=\u001b[39m \u001b[38;5;241m8.0\u001b[39m, keep_page: \u001b[38;5;28mbool\u001b[39m \u001b[38;5;241m=\u001b[39m \u001b[38;5;28;01mFalse\u001b[39;00m):\n\u001b[1;32m    542\u001b[0m     \u001b[38;5;124;03m\"\"\"Reloads the response in Chromium, and replaces HTML content\u001b[39;00m\n\u001b[1;32m    543\u001b[0m \u001b[38;5;124;03m    with an updated version, with JavaScript executed.\u001b[39;00m\n\u001b[1;32m    544\u001b[0m \n\u001b[0;32m   (...)\u001b[0m\n\u001b[1;32m    583\u001b[0m \u001b[38;5;124;03m    Chromium into your home directory (``~/.pyppeteer``).\u001b[39;00m\n\u001b[1;32m    584\u001b[0m \u001b[38;5;124;03m    \"\"\"\u001b[39;00m\n\u001b[0;32m--> 586\u001b[0m     \u001b[38;5;28mself\u001b[39m\u001b[38;5;241m.\u001b[39mbrowser \u001b[38;5;241m=\u001b[39m \u001b[38;5;28;43mself\u001b[39;49m\u001b[38;5;241;43m.\u001b[39;49m\u001b[43msession\u001b[49m\u001b[38;5;241;43m.\u001b[39;49m\u001b[43mbrowser\u001b[49m  \u001b[38;5;66;03m# Automatically create a event loop and browser\u001b[39;00m\n\u001b[1;32m    587\u001b[0m     content \u001b[38;5;241m=\u001b[39m \u001b[38;5;28;01mNone\u001b[39;00m\n\u001b[1;32m    589\u001b[0m     \u001b[38;5;66;03m# Automatically set Reload to False, if example URL is being used.\u001b[39;00m\n",
      "File \u001b[0;32m~/opt/anaconda3/lib/python3.9/site-packages/requests_html.py:729\u001b[0m, in \u001b[0;36mHTMLSession.browser\u001b[0;34m(self)\u001b[0m\n\u001b[1;32m    727\u001b[0m     \u001b[38;5;28mself\u001b[39m\u001b[38;5;241m.\u001b[39mloop \u001b[38;5;241m=\u001b[39m asyncio\u001b[38;5;241m.\u001b[39mget_event_loop()\n\u001b[1;32m    728\u001b[0m     \u001b[38;5;28;01mif\u001b[39;00m \u001b[38;5;28mself\u001b[39m\u001b[38;5;241m.\u001b[39mloop\u001b[38;5;241m.\u001b[39mis_running():\n\u001b[0;32m--> 729\u001b[0m         \u001b[38;5;28;01mraise\u001b[39;00m \u001b[38;5;167;01mRuntimeError\u001b[39;00m(\u001b[38;5;124m\"\u001b[39m\u001b[38;5;124mCannot use HTMLSession within an existing event loop. Use AsyncHTMLSession instead.\u001b[39m\u001b[38;5;124m\"\u001b[39m)\n\u001b[1;32m    730\u001b[0m     \u001b[38;5;28mself\u001b[39m\u001b[38;5;241m.\u001b[39m_browser \u001b[38;5;241m=\u001b[39m \u001b[38;5;28mself\u001b[39m\u001b[38;5;241m.\u001b[39mloop\u001b[38;5;241m.\u001b[39mrun_until_complete(\u001b[38;5;28msuper\u001b[39m()\u001b[38;5;241m.\u001b[39mbrowser)\n\u001b[1;32m    731\u001b[0m \u001b[38;5;28;01mreturn\u001b[39;00m \u001b[38;5;28mself\u001b[39m\u001b[38;5;241m.\u001b[39m_browser\n",
      "\u001b[0;31mRuntimeError\u001b[0m: Cannot use HTMLSession within an existing event loop. Use AsyncHTMLSession instead."
     ]
    }
   ],
   "source": [
    "# Render the JavaScript on the page -- \n",
    "response.html.render()"
   ]
  },
  {
   "cell_type": "code",
   "execution_count": 22,
   "id": "12e3b4bc",
   "metadata": {},
   "outputs": [],
   "source": [
    "import asyncio\n",
    "from bs4 import BeautifulSoup\n",
    "from requests_html import AsyncHTMLSession"
   ]
  },
  {
   "cell_type": "code",
   "execution_count": 23,
   "id": "1e230397",
   "metadata": {},
   "outputs": [
    {
     "ename": "RuntimeError",
     "evalue": "asyncio.run() cannot be called from a running event loop",
     "output_type": "error",
     "traceback": [
      "\u001b[0;31m---------------------------------------------------------------------------\u001b[0m",
      "\u001b[0;31mRuntimeError\u001b[0m                              Traceback (most recent call last)",
      "Input \u001b[0;32mIn [23]\u001b[0m, in \u001b[0;36m<cell line: 48>\u001b[0;34m()\u001b[0m\n\u001b[1;32m     45\u001b[0m     \u001b[38;5;28;01mawait\u001b[39;00m session\u001b[38;5;241m.\u001b[39mclose()\n\u001b[1;32m     47\u001b[0m \u001b[38;5;66;03m# Run the main coroutine\u001b[39;00m\n\u001b[0;32m---> 48\u001b[0m \u001b[43masyncio\u001b[49m\u001b[38;5;241;43m.\u001b[39;49m\u001b[43mrun\u001b[49m\u001b[43m(\u001b[49m\u001b[43mmain\u001b[49m\u001b[43m(\u001b[49m\u001b[43m)\u001b[49m\u001b[43m)\u001b[49m\n",
      "File \u001b[0;32m~/opt/anaconda3/lib/python3.9/asyncio/runners.py:33\u001b[0m, in \u001b[0;36mrun\u001b[0;34m(main, debug)\u001b[0m\n\u001b[1;32m      9\u001b[0m \u001b[38;5;124;03m\"\"\"Execute the coroutine and return the result.\u001b[39;00m\n\u001b[1;32m     10\u001b[0m \n\u001b[1;32m     11\u001b[0m \u001b[38;5;124;03mThis function runs the passed coroutine, taking care of\u001b[39;00m\n\u001b[0;32m   (...)\u001b[0m\n\u001b[1;32m     30\u001b[0m \u001b[38;5;124;03m    asyncio.run(main())\u001b[39;00m\n\u001b[1;32m     31\u001b[0m \u001b[38;5;124;03m\"\"\"\u001b[39;00m\n\u001b[1;32m     32\u001b[0m \u001b[38;5;28;01mif\u001b[39;00m events\u001b[38;5;241m.\u001b[39m_get_running_loop() \u001b[38;5;129;01mis\u001b[39;00m \u001b[38;5;129;01mnot\u001b[39;00m \u001b[38;5;28;01mNone\u001b[39;00m:\n\u001b[0;32m---> 33\u001b[0m     \u001b[38;5;28;01mraise\u001b[39;00m \u001b[38;5;167;01mRuntimeError\u001b[39;00m(\n\u001b[1;32m     34\u001b[0m         \u001b[38;5;124m\"\u001b[39m\u001b[38;5;124masyncio.run() cannot be called from a running event loop\u001b[39m\u001b[38;5;124m\"\u001b[39m)\n\u001b[1;32m     36\u001b[0m \u001b[38;5;28;01mif\u001b[39;00m \u001b[38;5;129;01mnot\u001b[39;00m coroutines\u001b[38;5;241m.\u001b[39miscoroutine(main):\n\u001b[1;32m     37\u001b[0m     \u001b[38;5;28;01mraise\u001b[39;00m \u001b[38;5;167;01mValueError\u001b[39;00m(\u001b[38;5;124m\"\u001b[39m\u001b[38;5;124ma coroutine was expected, got \u001b[39m\u001b[38;5;132;01m{!r}\u001b[39;00m\u001b[38;5;124m\"\u001b[39m\u001b[38;5;241m.\u001b[39mformat(main))\n",
      "\u001b[0;31mRuntimeError\u001b[0m: asyncio.run() cannot be called from a running event loop"
     ]
    }
   ],
   "source": [
    "async def main():\n",
    "    # Create an asynchronous HTML session\n",
    "    session = AsyncHTMLSession()\n",
    "    print(\"session =\", session)\n",
    "\n",
    "    # Send a GET request to the website\n",
    "    url = 'https://de.fi/rekt-database'\n",
    "    response = await session.get(url)\n",
    "    print(\"response =\", response)\n",
    "\n",
    "    # Render the JavaScript on the page\n",
    "    await response.html.arender()\n",
    "\n",
    "    # Get the updated HTML content\n",
    "    html = response.html.html\n",
    "    print(\"html =\", html)\n",
    "\n",
    "    # Parse the HTML content using BeautifulSoup\n",
    "    soup = BeautifulSoup(html, 'html.parser')\n",
    "    print(\"soup =\", soup)\n",
    "\n",
    "    # Find the body tag\n",
    "    body = soup.find('body')\n",
    "    print(\"body =\", body)\n",
    "\n",
    "    # Find all nested divs with class 'scam-database-table'\n",
    "    scam_tables = body.find_all('div', class_='scam-database-table')\n",
    "    print(\"scam_tables =\", scam_tables)\n",
    "\n",
    "    # Extract the table headers and rows for each table\n",
    "    for scam_table in scam_tables:\n",
    "        headers = [th.text.strip() for th in scam_table.find_all('th')]\n",
    "        rows = []\n",
    "        for tr in scam_table.find_all('tr')[1:]:\n",
    "            row = [td.text.strip() for td in tr.find_all('td')]\n",
    "            rows.append(row)\n",
    "\n",
    "        # Print the table data\n",
    "        print(headers)\n",
    "        for row in rows:\n",
    "            print(row)\n",
    "        print('\\n')  # Print a newline between each table\n",
    "\n",
    "    # Close the HTML session\n",
    "    await session.close()\n",
    "\n",
    "# Run the main coroutine\n",
    "asyncio.run(main())\n"
   ]
  },
  {
   "cell_type": "code",
   "execution_count": null,
   "id": "98d56e94",
   "metadata": {},
   "outputs": [],
   "source": []
  }
 ],
 "metadata": {
  "kernelspec": {
   "display_name": "Python 3 (ipykernel)",
   "language": "python",
   "name": "python3"
  },
  "language_info": {
   "codemirror_mode": {
    "name": "ipython",
    "version": 3
   },
   "file_extension": ".py",
   "mimetype": "text/x-python",
   "name": "python",
   "nbconvert_exporter": "python",
   "pygments_lexer": "ipython3",
   "version": "3.9.12"
  }
 },
 "nbformat": 4,
 "nbformat_minor": 5
}
