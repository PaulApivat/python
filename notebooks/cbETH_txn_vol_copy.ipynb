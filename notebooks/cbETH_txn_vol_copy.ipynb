{
 "cells": [
  {
   "cell_type": "code",
   "execution_count": 1,
   "id": "0390d8d5",
   "metadata": {},
   "outputs": [],
   "source": [
    "import pandas as pd\n",
    "import matplotlib.pyplot as plt\n",
    "from datetime import datetime\n"
   ]
  },
  {
   "cell_type": "code",
   "execution_count": 2,
   "id": "4051634c",
   "metadata": {},
   "outputs": [],
   "source": [
    "# Sample data\n",
    "data = {'Date': ['2023-01-01', '2023-01-02', '2023-01-03', '2023-01-04', '2023-01-05'],\n",
    "        'Value': [10, 15, 8, 12, 20]}\n",
    "\n",
    "# Convert the 'Date' column to datetime type\n",
    "df = pd.DataFrame(data)\n",
    "df['Date'] = pd.to_datetime(df['Date'])\n",
    "df.set_index('Date', inplace=True)\n"
   ]
  },
  {
   "cell_type": "code",
   "execution_count": 3,
   "id": "4d0763dd",
   "metadata": {},
   "outputs": [
    {
     "data": {
      "image/png": "[encoded data removed]",
      "text/plain": [
       "<Figure size 720x432 with 1 Axes>"
      ]
     },
     "metadata": {
      "needs_background": "light"
     },
     "output_type": "display_data"
    }
   ],
   "source": [
    "# Plotting the bar chart\n",
    "plt.figure(figsize=(10, 6))\n",
    "plt.bar(df.index, df['Value'])\n",
    "plt.xlabel('Date')\n",
    "plt.ylabel('Value')\n",
    "plt.title('Time Series Bar Chart')\n",
    "plt.show()\n"
   ]
  },
  {
   "cell_type": "code",
   "execution_count": 85,
   "id": "5121451e",
   "metadata": {},
   "outputs": [
    {
     "name": "stdout",
     "output_type": "stream",
     "text": [
      "                  snapped_at        price  market_cap  total_volume\n",
      "0    2022-08-25 00:00:00 UTC  1606.501536         0.0  6.531625e+06\n",
      "1    2022-08-26 00:00:00 UTC  1606.501536         0.0  6.531625e+06\n",
      "2    2022-08-27 00:00:00 UTC  1393.335112         0.0  1.376611e+07\n",
      "3    2022-08-28 00:00:00 UTC  1414.894039         0.0  6.086034e+06\n",
      "4    2022-08-29 00:00:00 UTC  1355.547887         0.0  6.574837e+06\n",
      "..                       ...          ...         ...           ...\n",
      "303  2023-06-24 00:00:00 UTC  1965.675539         0.0  3.238391e+06\n",
      "304  2023-06-25 00:00:00 UTC  1948.688262         0.0  2.740575e+06\n",
      "305  2023-06-26 00:00:00 UTC  1976.421354         0.0  2.075557e+06\n",
      "306  2023-06-27 00:00:00 UTC  1932.622111         0.0  2.786998e+06\n",
      "307  2023-06-28 00:00:00 UTC  1965.780683         0.0  3.156557e+06\n",
      "\n",
      "[308 rows x 4 columns]\n"
     ]
    }
   ],
   "source": [
    "# Coingecko Coinbase Wrapped Staked ETH USD (Historical Data), 90 days\n",
    "\n",
    "txn_vol_csv = 'cbeth-usd-max.csv'\n",
    "cbeth_df = pd.read_csv(txn_vol_csv)\n",
    "print(cbeth_df)"
   ]
  },
  {
   "cell_type": "code",
   "execution_count": 86,
   "id": "0deed2fe",
   "metadata": {},
   "outputs": [
    {
     "data": {
      "text/plain": [
       "Index(['snapped_at', 'price', 'market_cap', 'total_volume'], dtype='object')"
      ]
     },
     "execution_count": 86,
     "metadata": {},
     "output_type": "execute_result"
    }
   ],
   "source": [
    "cbeth_df.columns"
   ]
  },
  {
   "cell_type": "code",
   "execution_count": 89,
   "id": "37408f93",
   "metadata": {},
   "outputs": [
    {
     "name": "stdout",
     "output_type": "stream",
     "text": [
      "                  snapped_at        price  market_cap  total_volume\n",
      "0    2022-08-25 00:00:00 UTC  1606.501536         0.0       6531624\n",
      "1    2022-08-26 00:00:00 UTC  1606.501536         0.0       6531624\n",
      "2    2022-08-27 00:00:00 UTC  1393.335112         0.0      13766112\n",
      "3    2022-08-28 00:00:00 UTC  1414.894039         0.0       6086033\n",
      "4    2022-08-29 00:00:00 UTC  1355.547887         0.0       6574836\n",
      "..                       ...          ...         ...           ...\n",
      "303  2023-06-24 00:00:00 UTC  1965.675539         0.0       3238391\n",
      "304  2023-06-25 00:00:00 UTC  1948.688262         0.0       2740575\n",
      "305  2023-06-26 00:00:00 UTC  1976.421354         0.0       2075556\n",
      "306  2023-06-27 00:00:00 UTC  1932.622111         0.0       2786998\n",
      "307  2023-06-28 00:00:00 UTC  1965.780683         0.0       3156557\n",
      "\n",
      "[308 rows x 4 columns]\n"
     ]
    }
   ],
   "source": [
    "# change total_volume to integer instead of scientific notation\n",
    "cbeth_df['total_volume'] = cbeth_df['total_volume'].astype(int)\n",
    "\n",
    "print(cbeth_df)"
   ]
  },
  {
   "cell_type": "code",
   "execution_count": 90,
   "id": "6858826e",
   "metadata": {},
   "outputs": [
    {
     "name": "stdout",
     "output_type": "stream",
     "text": [
      "                        date        price  market_cap  total_volume\n",
      "0    2022-08-25 00:00:00 UTC  1606.501536         0.0       6531624\n",
      "1    2022-08-26 00:00:00 UTC  1606.501536         0.0       6531624\n",
      "2    2022-08-27 00:00:00 UTC  1393.335112         0.0      13766112\n",
      "3    2022-08-28 00:00:00 UTC  1414.894039         0.0       6086033\n",
      "4    2022-08-29 00:00:00 UTC  1355.547887         0.0       6574836\n",
      "..                       ...          ...         ...           ...\n",
      "303  2023-06-24 00:00:00 UTC  1965.675539         0.0       3238391\n",
      "304  2023-06-25 00:00:00 UTC  1948.688262         0.0       2740575\n",
      "305  2023-06-26 00:00:00 UTC  1976.421354         0.0       2075556\n",
      "306  2023-06-27 00:00:00 UTC  1932.622111         0.0       2786998\n",
      "307  2023-06-28 00:00:00 UTC  1965.780683         0.0       3156557\n",
      "\n",
      "[308 rows x 4 columns]\n",
      "                        date        price  market_cap  total_volume\n",
      "278  2023-05-30 00:00:00 UTC  1964.617443         0.0      12824879\n",
      "279  2023-05-31 00:00:00 UTC  1973.776739         0.0      11926553\n",
      "280  2023-06-01 00:00:00 UTC  1944.448743         0.0      43835053\n",
      "281  2023-06-02 00:00:00 UTC  1931.774780         0.0       9574382\n",
      "282  2023-06-03 00:00:00 UTC  1979.473229         0.0      11771150\n",
      "283  2023-06-04 00:00:00 UTC  1962.742570         0.0       3054692\n",
      "284  2023-06-05 00:00:00 UTC  1961.387266         0.0       2311597\n",
      "285  2023-06-06 00:00:00 UTC  1884.174653         0.0       9775032\n",
      "286  2023-06-07 00:00:00 UTC  1952.936529         0.0      10174107\n",
      "287  2023-06-08 00:00:00 UTC  1900.240371         0.0       6070704\n",
      "288  2023-06-09 00:00:00 UTC  1915.318814         0.0      13845554\n",
      "289  2023-06-10 00:00:00 UTC  1908.357070         0.0       9771125\n",
      "290  2023-06-11 00:00:00 UTC  1818.188513         0.0      25747366\n",
      "291  2023-06-12 00:00:00 UTC  1816.629391         0.0       4069845\n",
      "292  2023-06-13 00:00:00 UTC  1809.183140         0.0      10591555\n",
      "293  2023-06-14 00:00:00 UTC  1802.248790         0.0       8066670\n",
      "294  2023-06-15 00:00:00 UTC  1715.381385         0.0      13511430\n",
      "295  2023-06-16 00:00:00 UTC  1730.591636         0.0      10732613\n",
      "296  2023-06-17 00:00:00 UTC  1785.226092         0.0       7623905\n",
      "297  2023-06-18 00:00:00 UTC  1794.699580         0.0       3906074\n",
      "298  2023-06-19 00:00:00 UTC  1787.547165         0.0        594658\n",
      "299  2023-06-20 00:00:00 UTC  1802.407151         0.0       3865267\n",
      "300  2023-06-21 00:00:00 UTC  1861.005370         0.0       2788534\n",
      "301  2023-06-22 00:00:00 UTC  1967.546543         0.0       7558739\n",
      "302  2023-06-23 00:00:00 UTC  1948.673733         0.0       5819549\n",
      "303  2023-06-24 00:00:00 UTC  1965.675539         0.0       3238391\n",
      "304  2023-06-25 00:00:00 UTC  1948.688262         0.0       2740575\n",
      "305  2023-06-26 00:00:00 UTC  1976.421354         0.0       2075556\n",
      "306  2023-06-27 00:00:00 UTC  1932.622111         0.0       2786998\n",
      "307  2023-06-28 00:00:00 UTC  1965.780683         0.0       3156557\n"
     ]
    }
   ],
   "source": [
    "# Change column name\n",
    "new_column = 'date'\n",
    "cbeth_df.rename(columns={'snapped_at': new_column}, inplace=True)\n",
    "print(cbeth_df)\n",
    "\n",
    "\n",
    "\n",
    "# Filter for the last 30 days\n",
    "filter30_cbeth_df = cbeth_df[-30:]\n",
    "print(filter30_cbeth_df)"
   ]
  },
  {
   "cell_type": "code",
   "execution_count": 91,
   "id": "e50535e1",
   "metadata": {},
   "outputs": [
    {
     "name": "stdout",
     "output_type": "stream",
     "text": [
      "           date        price  market_cap  total_volume\n",
      "278  2023-05-30  1964.617443         0.0    12824879.0\n",
      "279  2023-05-31  1973.776739         0.0    11926553.0\n",
      "280  2023-06-01  1944.448743         0.0    43835053.0\n",
      "281  2023-06-02  1931.774780         0.0     9574382.0\n",
      "282  2023-06-03  1979.473229         0.0    11771150.0\n",
      "283  2023-06-04  1962.742570         0.0     3054692.0\n",
      "284  2023-06-05  1961.387266         0.0     2311597.0\n",
      "285  2023-06-06  1884.174653         0.0     9775032.0\n",
      "286  2023-06-07  1952.936529         0.0    10174107.0\n",
      "287  2023-06-08  1900.240371         0.0     6070704.0\n",
      "288  2023-06-09  1915.318814         0.0    13845554.0\n",
      "289  2023-06-10  1908.357070         0.0     9771125.0\n",
      "290  2023-06-11  1818.188513         0.0    25747366.0\n",
      "291  2023-06-12  1816.629391         0.0     4069845.0\n",
      "292  2023-06-13  1809.183140         0.0    10591555.0\n",
      "293  2023-06-14  1802.248790         0.0     8066670.0\n",
      "294  2023-06-15  1715.381385         0.0    13511430.0\n",
      "295  2023-06-16  1730.591636         0.0    10732613.0\n",
      "296  2023-06-17  1785.226092         0.0     7623905.0\n",
      "297  2023-06-18  1794.699580         0.0     3906074.0\n",
      "298  2023-06-19  1787.547165         0.0      594658.0\n",
      "299  2023-06-20  1802.407151         0.0     3865267.0\n",
      "300  2023-06-21  1861.005370         0.0     2788534.0\n",
      "301  2023-06-22  1967.546543         0.0     7558739.0\n",
      "302  2023-06-23  1948.673733         0.0     5819549.0\n",
      "303  2023-06-24  1965.675539         0.0     3238391.0\n",
      "304  2023-06-25  1948.688262         0.0     2740575.0\n",
      "305  2023-06-26  1976.421354         0.0     2075556.0\n",
      "306  2023-06-27  1932.622111         0.0     2786998.0\n",
      "307  2023-06-28  1965.780683         0.0     3156557.0\n"
     ]
    },
    {
     "name": "stderr",
     "output_type": "stream",
     "text": [
      "/var/folders/v0/71tqdwzx1_11vzpcg1y_4mj80000gn/T/ipykernel_24607/2425882917.py:11: SettingWithCopyWarning: \n",
      "A value is trying to be set on a copy of a slice from a DataFrame.\n",
      "Try using .loc[row_indexer,col_indexer] = value instead\n",
      "\n",
      "See the caveats in the documentation: https://pandas.pydata.org/pandas-docs/stable/user_guide/indexing.html#returning-a-view-versus-a-copy\n",
      "  filter30_cbeth_df['date'] = filter30_cbeth_df['date'].apply(lambda x: format_date(str(x)))\n",
      "/var/folders/v0/71tqdwzx1_11vzpcg1y_4mj80000gn/T/ipykernel_24607/2425882917.py:14: SettingWithCopyWarning: \n",
      "A value is trying to be set on a copy of a slice from a DataFrame.\n",
      "Try using .loc[row_indexer,col_indexer] = value instead\n",
      "\n",
      "See the caveats in the documentation: https://pandas.pydata.org/pandas-docs/stable/user_guide/indexing.html#returning-a-view-versus-a-copy\n",
      "  filter30_cbeth_df['total_volume'] = filter30_cbeth_df['total_volume'].astype(float)\n"
     ]
    }
   ],
   "source": [
    "from datetime import datetime\n",
    "\n",
    "# Define the conversion function\n",
    "# convert from string\n",
    "def format_date(date):\n",
    "    datetime_obj = datetime.strptime(date, '%Y-%m-%d %H:%M:%S %Z')\n",
    "    formatted_date = datetime_obj.strftime('%Y-%m-%d')\n",
    "    return formatted_date\n",
    "\n",
    "# Apply conversion function to the date column\n",
    "filter30_cbeth_df['date'] = filter30_cbeth_df['date'].apply(lambda x: format_date(str(x)))\n",
    "\n",
    "# Convert total_volume column to float\n",
    "filter30_cbeth_df['total_volume'] = filter30_cbeth_df['total_volume'].astype(float)\n",
    "\n",
    "# print\n",
    "print(filter30_cbeth_df)"
   ]
  },
  {
   "cell_type": "code",
   "execution_count": 93,
   "id": "0d3538d8",
   "metadata": {},
   "outputs": [
    {
     "name": "stdout",
     "output_type": "stream",
     "text": [
      "           date        price  market_cap  total_volume\n",
      "278  2023-05-30  1964.617443         0.0    12824879.0\n",
      "279  2023-05-31  1973.776739         0.0    11926553.0\n",
      "280  2023-06-01  1944.448743         0.0    43835053.0\n",
      "281  2023-06-02  1931.774780         0.0     9574382.0\n",
      "282  2023-06-03  1979.473229         0.0    11771150.0\n",
      "283  2023-06-04  1962.742570         0.0     3054692.0\n",
      "284  2023-06-05  1961.387266         0.0     2311597.0\n",
      "285  2023-06-06  1884.174653         0.0     9775032.0\n",
      "286  2023-06-07  1952.936529         0.0    10174107.0\n",
      "287  2023-06-08  1900.240371         0.0     6070704.0\n",
      "288  2023-06-09  1915.318814         0.0    13845554.0\n",
      "289  2023-06-10  1908.357070         0.0     9771125.0\n",
      "290  2023-06-11  1818.188513         0.0    25747366.0\n",
      "291  2023-06-12  1816.629391         0.0     4069845.0\n",
      "292  2023-06-13  1809.183140         0.0    10591555.0\n",
      "293  2023-06-14  1802.248790         0.0     8066670.0\n",
      "294  2023-06-15  1715.381385         0.0    13511430.0\n",
      "295  2023-06-16  1730.591636         0.0    10732613.0\n",
      "296  2023-06-17  1785.226092         0.0     7623905.0\n",
      "297  2023-06-18  1794.699580         0.0     3906074.0\n",
      "298  2023-06-19  1787.547165         0.0      594658.0\n",
      "299  2023-06-20  1802.407151         0.0     3865267.0\n",
      "300  2023-06-21  1861.005370         0.0     2788534.0\n",
      "301  2023-06-22  1967.546543         0.0     7558739.0\n",
      "302  2023-06-23  1948.673733         0.0     5819549.0\n",
      "303  2023-06-24  1965.675539         0.0     3238391.0\n",
      "304  2023-06-25  1948.688262         0.0     2740575.0\n",
      "305  2023-06-26  1976.421354         0.0     2075556.0\n",
      "306  2023-06-27  1932.622111         0.0     2786998.0\n",
      "307  2023-06-28  1965.780683         0.0     3156557.0\n"
     ]
    }
   ],
   "source": [
    "print(filter30_cbeth_df)"
   ]
  },
  {
   "cell_type": "code",
   "execution_count": 94,
   "id": "45f9623b",
   "metadata": {},
   "outputs": [
    {
     "data": {
      "image/png": "[encoded data removed]",
      "text/plain": [
       "<Figure size 1440x432 with 1 Axes>"
      ]
     },
     "metadata": {
      "needs_background": "light"
     },
     "output_type": "display_data"
    }
   ],
   "source": [
    "# Plotting the bar chart\n",
    "plt.figure(figsize=(20, 6))\n",
    "plt.bar(filter30_cbeth_df['date'], filter30_cbeth_df['total_volume'])\n",
    "plt.xticks(rotation=45)\n",
    "# Disable scientific noation on y-axis\n",
    "plt.ticklabel_format(style='plain', axis='y')\n",
    "# adjust tick frequency\n",
    "#plt.gca().xaxis.set_major_locator(plt.MaxNLocator(20))  # Set the number of ticks you want to display\n",
    "plt.xlabel('Daily Transaction Volume')\n",
    "plt.ylabel('$USD')\n",
    "plt.title('cbETH Transaction Volume')\n",
    "plt.show()"
   ]
  },
  {
   "cell_type": "code",
   "execution_count": 97,
   "id": "3bfecf20",
   "metadata": {},
   "outputs": [
    {
     "data": {
      "image/png": "[encoded data removed]",
      "text/plain": [
       "<Figure size 1440x432 with 1 Axes>"
      ]
     },
     "metadata": {
      "needs_background": "light"
     },
     "output_type": "display_data"
    }
   ],
   "source": [
    "import matplotlib.pyplot as plt\n",
    "import matplotlib.ticker as ticker\n",
    "\n",
    "# Define the formatter function \n",
    "def currency_formatter(x, pos):\n",
    "    \"\"\"Formats the tick label as $USD format with commas\"\"\"\n",
    "    return f'${x:,.0f}'\n",
    "\n",
    "# create the formatter\n",
    "formatter = ticker.FuncFormatter(currency_formatter)\n",
    "\n",
    "# Apply the formatter to the y-axis\n",
    "\n",
    "\n",
    "# Plotting the bar chart\n",
    "plt.figure(figsize=(20, 6))\n",
    "plt.bar(filter30_cbeth_df['date'], filter30_cbeth_df['total_volume'])\n",
    "plt.xticks(rotation=45)\n",
    "# Disable scientific noation on y-axis\n",
    "plt.ticklabel_format(style='plain', axis='y')\n",
    "# Apply the formatter to the y-axis\n",
    "plt.gca().yaxis.set_major_formatter(formatter)\n",
    "\n",
    "# adjust tick frequency\n",
    "#plt.gca().xaxis.set_major_locator(plt.MaxNLocator(20))  # Set the number of ticks you want to display\n",
    "plt.xlabel('Daily Transaction Volume')\n",
    "plt.ylabel('$USD')\n",
    "plt.title('cbETH Transaction Volume in $USD (30-days)', fontweight='bold', fontsize=16)\n",
    "plt.show()"
   ]
  },
  {
   "cell_type": "code",
   "execution_count": 101,
   "id": "cb1e82b2",
   "metadata": {},
   "outputs": [
    {
     "name": "stdout",
     "output_type": "stream",
     "text": [
      "           date        price  market_cap  total_volume\n",
      "278  2023-05-30  1964.617443         0.0    12824879.0\n",
      "279  2023-05-31  1973.776739         0.0    11926553.0\n",
      "280  2023-06-01  1944.448743         0.0    43835053.0\n",
      "281  2023-06-02  1931.774780         0.0     9574382.0\n",
      "282  2023-06-03  1979.473229         0.0    11771150.0\n",
      "283  2023-06-04  1962.742570         0.0     3054692.0\n",
      "284  2023-06-05  1961.387266         0.0     2311597.0\n",
      "285  2023-06-06  1884.174653         0.0     9775032.0\n",
      "286  2023-06-07  1952.936529         0.0    10174107.0\n",
      "287  2023-06-08  1900.240371         0.0     6070704.0\n",
      "288  2023-06-09  1915.318814         0.0    13845554.0\n",
      "289  2023-06-10  1908.357070         0.0     9771125.0\n",
      "290  2023-06-11  1818.188513         0.0    25747366.0\n",
      "291  2023-06-12  1816.629391         0.0     4069845.0\n",
      "292  2023-06-13  1809.183140         0.0    10591555.0\n",
      "293  2023-06-14  1802.248790         0.0     8066670.0\n",
      "294  2023-06-15  1715.381385         0.0    13511430.0\n",
      "295  2023-06-16  1730.591636         0.0    10732613.0\n",
      "296  2023-06-17  1785.226092         0.0     7623905.0\n",
      "297  2023-06-18  1794.699580         0.0     3906074.0\n",
      "298  2023-06-19  1787.547165         0.0      594658.0\n",
      "299  2023-06-20  1802.407151         0.0     3865267.0\n",
      "300  2023-06-21  1861.005370         0.0     2788534.0\n",
      "301  2023-06-22  1967.546543         0.0     7558739.0\n",
      "302  2023-06-23  1948.673733         0.0     5819549.0\n",
      "303  2023-06-24  1965.675539         0.0     3238391.0\n",
      "304  2023-06-25  1948.688262         0.0     2740575.0\n",
      "305  2023-06-26  1976.421354         0.0     2075556.0\n",
      "306  2023-06-27  1932.622111         0.0     2786998.0\n",
      "307  2023-06-28  1965.780683         0.0     3156557.0\n",
      "43835053.0\n",
      "594658.0\n",
      "8793637.0\n"
     ]
    }
   ],
   "source": [
    "print(filter30_cbeth_df)\n",
    "\n",
    "print(filter30_cbeth_df['total_volume'].max())\n",
    "print(filter30_cbeth_df['total_volume'].min())\n",
    "print(filter30_cbeth_df['total_volume'].mean())"
   ]
  },
  {
   "cell_type": "code",
   "execution_count": null,
   "id": "7b3baadb",
   "metadata": {},
   "outputs": [],
   "source": []
  }
 ],
 "metadata": {
  "kernelspec": {
   "display_name": "Python 3 (ipykernel)",
   "language": "python",
   "name": "python3"
  },
  "language_info": {
   "codemirror_mode": {
    "name": "ipython",
    "version": 3
   },
   "file_extension": ".py",
   "mimetype": "text/x-python",
   "name": "python",
   "nbconvert_exporter": "python",
   "pygments_lexer": "ipython3",
   "version": "3.9.12"
  }
 },
 "nbformat": 4,
 "nbformat_minor": 5
}
