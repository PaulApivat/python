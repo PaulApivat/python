{
 "cells": [
  {
   "cell_type": "code",
   "execution_count": 1,
   "id": "14466142",
   "metadata": {},
   "outputs": [],
   "source": [
    "import pandas as pd\n"
   ]
  },
  {
   "cell_type": "code",
   "execution_count": 3,
   "id": "c5899f27",
   "metadata": {},
   "outputs": [
    {
     "name": "stdout",
     "output_type": "stream",
     "text": [
      "         Date Transaction Volume USD   Velocity\n",
      "0         NaN                    NaN        NaN\n",
      "1   5/27/2023           $40,616,722    3.651233\n",
      "2   5/28/2023           $70,802,744    4.961693\n",
      "3   5/29/2023           $44,348,141    4.574330\n",
      "4   5/30/2023           $54,893,744    4.531372\n",
      "5   5/31/2023          $492,404,779    6.568536\n",
      "6    6/1/2023          $208,542,257    4.426043\n",
      "7    6/2/2023          $158,496,434    3.444111\n",
      "8    6/3/2023           $28,568,445    3.450173\n",
      "9    6/4/2023           $37,760,137    3.162623\n",
      "10   6/5/2023          $121,754,721    3.174051\n",
      "11   6/6/2023          $338,158,027    7.736210\n",
      "12   6/7/2023          $221,056,459    3.681698\n",
      "13   6/8/2023          $147,364,879    4.693614\n",
      "14   6/9/2023          $744,116,512    3.251231\n",
      "15  6/10/2023          $200,389,584    8.800269\n",
      "16  6/11/2023           $33,050,375   13.483608\n",
      "17  6/12/2023          $137,312,193    5.978008\n",
      "18  6/13/2023           $55,812,516   15.212172\n",
      "19  6/14/2023           $88,286,377    4.442563\n",
      "20  6/15/2023           $74,518,984    3.177753\n",
      "21  6/16/2023           $35,848,545    4.935228\n",
      "22  6/17/2023           $21,852,581    4.079583\n",
      "23  6/18/2023           $20,415,115    3.567205\n",
      "24  6/19/2023           $31,700,230    5.557787\n",
      "25  6/20/2023           $13,978,669   10.046125\n",
      "26  6/21/2023          $109,315,772    5.475366\n",
      "27  6/22/2023           $85,207,145    3.682260\n",
      "28  6/23/2023           $40,623,372    4.341799\n",
      "29  6/24/2023           $28,819,440    4.453112\n",
      "30  6/25/2023           $34,420,026    3.258318\n",
      "31  6/26/2023           $68,595,467    3.425708\n",
      "32  6/27/2023           $34,366,420    5.771880\n"
     ]
    }
   ],
   "source": [
    "df = pd.read_csv(\"onchain_txn.csv\")\n",
    "print(df)"
   ]
  },
  {
   "cell_type": "code",
   "execution_count": 4,
   "id": "7f10ec3c",
   "metadata": {},
   "outputs": [
    {
     "data": {
      "text/plain": [
       "Index(['Date', 'Transaction Volume USD', 'Velocity'], dtype='object')"
      ]
     },
     "execution_count": 4,
     "metadata": {},
     "output_type": "execute_result"
    }
   ],
   "source": [
    "df.columns\n"
   ]
  },
  {
   "cell_type": "code",
   "execution_count": 6,
   "id": "0f30f82d",
   "metadata": {},
   "outputs": [
    {
     "data": {
      "text/plain": [
       "str"
      ]
     },
     "execution_count": 6,
     "metadata": {},
     "output_type": "execute_result"
    }
   ],
   "source": [
    "type(df['Transaction Volume USD'][1])"
   ]
  },
  {
   "cell_type": "code",
   "execution_count": 10,
   "id": "5908478f",
   "metadata": {},
   "outputs": [
    {
     "name": "stdout",
     "output_type": "stream",
     "text": [
      "         Date Transaction Volume USD   Velocity\n",
      "1   5/27/2023           $40,616,722    3.651233\n",
      "2   5/28/2023           $70,802,744    4.961693\n",
      "3   5/29/2023           $44,348,141    4.574330\n",
      "4   5/30/2023           $54,893,744    4.531372\n",
      "5   5/31/2023          $492,404,779    6.568536\n",
      "6    6/1/2023          $208,542,257    4.426043\n",
      "7    6/2/2023          $158,496,434    3.444111\n",
      "8    6/3/2023           $28,568,445    3.450173\n",
      "9    6/4/2023           $37,760,137    3.162623\n",
      "10   6/5/2023          $121,754,721    3.174051\n",
      "11   6/6/2023          $338,158,027    7.736210\n",
      "12   6/7/2023          $221,056,459    3.681698\n",
      "13   6/8/2023          $147,364,879    4.693614\n",
      "14   6/9/2023          $744,116,512    3.251231\n",
      "15  6/10/2023          $200,389,584    8.800269\n",
      "16  6/11/2023           $33,050,375   13.483608\n",
      "17  6/12/2023          $137,312,193    5.978008\n",
      "18  6/13/2023           $55,812,516   15.212172\n",
      "19  6/14/2023           $88,286,377    4.442563\n",
      "20  6/15/2023           $74,518,984    3.177753\n",
      "21  6/16/2023           $35,848,545    4.935228\n",
      "22  6/17/2023           $21,852,581    4.079583\n",
      "23  6/18/2023           $20,415,115    3.567205\n",
      "24  6/19/2023           $31,700,230    5.557787\n",
      "25  6/20/2023           $13,978,669   10.046125\n",
      "26  6/21/2023          $109,315,772    5.475366\n",
      "27  6/22/2023           $85,207,145    3.682260\n",
      "28  6/23/2023           $40,623,372    4.341799\n",
      "29  6/24/2023           $28,819,440    4.453112\n",
      "30  6/25/2023           $34,420,026    3.258318\n",
      "31  6/26/2023           $68,595,467    3.425708\n",
      "32  6/27/2023           $34,366,420    5.771880\n"
     ]
    }
   ],
   "source": [
    "# remove first row\n",
    "\n",
    "df = df.iloc[1:]\n",
    "print(df)"
   ]
  },
  {
   "cell_type": "code",
   "execution_count": 11,
   "id": "8e7de25c",
   "metadata": {},
   "outputs": [
    {
     "name": "stdout",
     "output_type": "stream",
     "text": [
      "         Date  Transaction Volume USD   Velocity\n",
      "1   5/27/2023                40616722   3.651233\n",
      "2   5/28/2023                70802744   4.961693\n",
      "3   5/29/2023                44348141   4.574330\n",
      "4   5/30/2023                54893744   4.531372\n",
      "5   5/31/2023               492404779   6.568536\n",
      "6    6/1/2023               208542257   4.426043\n",
      "7    6/2/2023               158496434   3.444111\n",
      "8    6/3/2023                28568445   3.450173\n",
      "9    6/4/2023                37760137   3.162623\n",
      "10   6/5/2023               121754721   3.174051\n",
      "11   6/6/2023               338158027   7.736210\n",
      "12   6/7/2023               221056459   3.681698\n",
      "13   6/8/2023               147364879   4.693614\n",
      "14   6/9/2023               744116512   3.251231\n",
      "15  6/10/2023               200389584   8.800269\n",
      "16  6/11/2023                33050375  13.483608\n",
      "17  6/12/2023               137312193   5.978008\n",
      "18  6/13/2023                55812516  15.212172\n",
      "19  6/14/2023                88286377   4.442563\n",
      "20  6/15/2023                74518984   3.177753\n",
      "21  6/16/2023                35848545   4.935228\n",
      "22  6/17/2023                21852581   4.079583\n",
      "23  6/18/2023                20415115   3.567205\n",
      "24  6/19/2023                31700230   5.557787\n",
      "25  6/20/2023                13978669  10.046125\n",
      "26  6/21/2023               109315772   5.475366\n",
      "27  6/22/2023                85207145   3.682260\n",
      "28  6/23/2023                40623372   4.341799\n",
      "29  6/24/2023                28819440   4.453112\n",
      "30  6/25/2023                34420026   3.258318\n",
      "31  6/26/2023                68595467   3.425708\n",
      "32  6/27/2023                34366420   5.771880\n"
     ]
    },
    {
     "name": "stderr",
     "output_type": "stream",
     "text": [
      "/var/folders/v0/71tqdwzx1_11vzpcg1y_4mj80000gn/T/ipykernel_95077/1783522229.py:1: FutureWarning: The default value of regex will change from True to False in a future version. In addition, single character regular expressions will *not* be treated as literal strings when regex=True.\n",
      "  df['Transaction Volume USD'] = df['Transaction Volume USD'].str.replace('$', '').str.replace(',', '').astype(int)\n"
     ]
    }
   ],
   "source": [
    "df['Transaction Volume USD'] = df['Transaction Volume USD'].str.replace('$', '').str.replace(',', '').astype(int)\n",
    "\n",
    "print(df)"
   ]
  },
  {
   "cell_type": "code",
   "execution_count": 12,
   "id": "8ab49c1f",
   "metadata": {},
   "outputs": [
    {
     "name": "stdout",
     "output_type": "stream",
     "text": [
      "Average: 119481150.375\n",
      "Minimum: 13978669\n",
      "Maximum: 744116512\n"
     ]
    }
   ],
   "source": [
    "# Calculate average, min, max\n",
    "\n",
    "\n",
    "column_avg = df['Transaction Volume USD'].mean()\n",
    "column_min = df['Transaction Volume USD'].min()\n",
    "column_max = df['Transaction Volume USD'].max()\n",
    "\n",
    "print(f\"Average: {column_avg}\")\n",
    "print(f\"Minimum: {column_min}\")\n",
    "print(f\"Maximum: {column_max}\")"
   ]
  },
  {
   "cell_type": "code",
   "execution_count": null,
   "id": "ac3cb249",
   "metadata": {},
   "outputs": [],
   "source": []
  }
 ],
 "metadata": {
  "kernelspec": {
   "display_name": "Python 3 (ipykernel)",
   "language": "python",
   "name": "python3"
  },
  "language_info": {
   "codemirror_mode": {
    "name": "ipython",
    "version": 3
   },
   "file_extension": ".py",
   "mimetype": "text/x-python",
   "name": "python",
   "nbconvert_exporter": "python",
   "pygments_lexer": "ipython3",
   "version": "3.9.12"
  }
 },
 "nbformat": 4,
 "nbformat_minor": 5
}
