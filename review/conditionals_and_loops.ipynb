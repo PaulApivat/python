{
 "cells": [
  {
   "cell_type": "code",
   "execution_count": 1,
   "metadata": {},
   "outputs": [
    {
     "name": "stdout",
     "output_type": "stream",
     "text": [
      "good bye\n"
     ]
    }
   ],
   "source": [
    "# Basic if-statements\n",
    "\n",
    "x = 3\n",
    "y = 2\n",
    "if x < y:\n",
    "  print('hello')\n",
    "else:\n",
    "  print('good bye')"
   ]
  },
  {
   "cell_type": "code",
   "execution_count": 3,
   "metadata": {},
   "outputs": [
    {
     "name": "stdout",
     "output_type": "stream",
     "text": [
      "good bye\n"
     ]
    }
   ],
   "source": [
    "# if-statement one liner\n",
    "\n",
    "print('hello') if x < y else print('good bye')"
   ]
  },
  {
   "cell_type": "code",
   "execution_count": 14,
   "metadata": {},
   "outputs": [
    {
     "name": "stdout",
     "output_type": "stream",
     "text": [
      "enter your weight.\n",
      "99\n",
      "men\n"
     ]
    }
   ],
   "source": [
    "# user input fed into if-statement\n",
    "\n",
    "weight = int(input('enter your weight.\\n'))\n",
    "\n",
    "if weight < 60:\n",
    "  print('women')\n",
    "else:\n",
    "  print('men')"
   ]
  },
  {
   "cell_type": "code",
   "execution_count": 10,
   "metadata": {},
   "outputs": [
    {
     "name": "stdout",
     "output_type": "stream",
     "text": [
      "66\n",
      "men\n"
     ]
    }
   ],
   "source": [
    "# one-liner, user input fed into if-statement\n",
    "\n",
    "weight = int(input())\n",
    "\n",
    "print('women') if weight < 60 else print('men')"
   ]
  },
  {
   "cell_type": "code",
   "execution_count": 15,
   "metadata": {},
   "outputs": [
    {
     "name": "stdout",
     "output_type": "stream",
     "text": [
      "how much is that thing?\n",
      "one hundred dollar\n"
     ]
    },
    {
     "data": {
      "text/plain": [
       "'wrong data type'"
      ]
     },
     "execution_count": 15,
     "metadata": {},
     "output_type": "execute_result"
    }
   ],
   "source": [
    "# multiple if-statements\n",
    "# you can have multiple if-else flows in one function\n",
    "\n",
    "def howmuch():\n",
    "  mywallet = 100\n",
    "  pricetag = input('how much is that thing?\\n')\n",
    "    \n",
    "  if pricetag.isdigit():\n",
    "    pricetag = int(pricetag)\n",
    "  else: \n",
    "    return \"wrong data type\"\n",
    "\n",
    "  if mywallet < pricetag:\n",
    "    return \"Sorry, may be next time.\"\n",
    "  else:\n",
    "    return \"Could I have one, please.\"\n",
    "\n",
    "howmuch()"
   ]
  },
  {
   "cell_type": "code",
   "execution_count": 19,
   "metadata": {},
   "outputs": [
    {
     "name": "stdout",
     "output_type": "stream",
     "text": [
      "paul\n",
      "apivat\n",
      "marvin\n",
      "pim\n",
      "milin\n"
     ]
    }
   ],
   "source": [
    "## For Loop ##\n",
    "\n",
    "## Basic loop through list of string ##\n",
    "\n",
    "name_list = ['paul', 'apivat', 'marvin', 'pim', 'milin']\n",
    "\n",
    "for name in name_list:\n",
    "    print(name)"
   ]
  },
  {
   "cell_type": "code",
   "execution_count": 25,
   "metadata": {},
   "outputs": [
    {
     "name": "stdout",
     "output_type": "stream",
     "text": [
      "3\n",
      "4\n",
      "5\n",
      "2\n",
      "5\n",
      "6\n",
      "7\n",
      "5\n"
     ]
    }
   ],
   "source": [
    "## loop through list of integers ##\n",
    "\n",
    "int_list = [3,4,5,2,5,6,7,5]\n",
    "\n",
    "for num in int_list:\n",
    "    print(num)\n"
   ]
  },
  {
   "cell_type": "code",
   "execution_count": 27,
   "metadata": {},
   "outputs": [
    {
     "name": "stdout",
     "output_type": "stream",
     "text": [
      "hello hello hello \n",
      "hello hello hello hello \n",
      "hello hello hello hello hello \n",
      "hello hello \n",
      "hello hello hello hello hello \n",
      "hello hello hello hello hello hello \n",
      "hello hello hello hello hello hello hello \n",
      "hello hello hello hello hello \n"
     ]
    }
   ],
   "source": [
    "## use loop-through-integers to print strings several times ##\n",
    "\n",
    "int_list = [3,4,5,2,5,6,7,5]\n",
    "\n",
    "for num in int_list:\n",
    "    print(\"hello \"*num)"
   ]
  },
  {
   "cell_type": "code",
   "execution_count": 23,
   "metadata": {},
   "outputs": [
    {
     "name": "stdout",
     "output_type": "stream",
     "text": [
      "brand\n",
      "model\n",
      "year\n"
     ]
    }
   ],
   "source": [
    "## looping through dictionary (keys) ##\n",
    "## loops through key ##\n",
    "\n",
    "thisdict = {\n",
    "  \"brand\": \"Ford\",\n",
    "  \"model\": \"Mustang\",\n",
    "  \"year\": 1964\n",
    "}\n",
    "\n",
    "for key in thisdict:\n",
    "    print(key)\n"
   ]
  },
  {
   "cell_type": "code",
   "execution_count": 24,
   "metadata": {},
   "outputs": [
    {
     "name": "stdout",
     "output_type": "stream",
     "text": [
      "brand -> Ford\n",
      "model -> Mustang\n",
      "year -> 1964\n"
     ]
    }
   ],
   "source": [
    "## loop through dictionary (values) ##\n",
    "\n",
    "thisdict = {\n",
    "  \"brand\": \"Ford\",\n",
    "  \"model\": \"Mustang\",\n",
    "  \"year\": 1964\n",
    "}\n",
    "\n",
    "for key in thisdict:\n",
    "    print(key, '->', thisdict[key])"
   ]
  },
  {
   "cell_type": "code",
   "execution_count": 32,
   "metadata": {},
   "outputs": [
    {
     "name": "stdout",
     "output_type": "stream",
     "text": [
      "('brand', 'Ford')\n",
      "('model', 'Mustang')\n",
      "('year', 1964)\n"
     ]
    }
   ],
   "source": [
    "## loop through dictionary using .items() ##\n",
    "## .items() is a built-in method\n",
    "## get both key and value\n",
    "\n",
    "thisdict = {\n",
    "  \"brand\": \"Ford\",\n",
    "  \"model\": \"Mustang\",\n",
    "  \"year\": 1964\n",
    "}\n",
    "\n",
    "\n",
    "these_items = thisdict.items()\n",
    "these_items\n",
    "\n",
    "for item in these_items:\n",
    "    print(item)"
   ]
  },
  {
   "cell_type": "code",
   "execution_count": 34,
   "metadata": {},
   "outputs": [
    {
     "name": "stdout",
     "output_type": "stream",
     "text": [
      "Ford\n",
      "Mustang\n",
      "1964\n"
     ]
    }
   ],
   "source": [
    "## alternative: loop through key and values ##\n",
    "\n",
    "thisdict = {\n",
    "  \"brand\": \"Ford\",\n",
    "  \"model\": \"Mustang\",\n",
    "  \"year\": 1964\n",
    "}\n",
    "\n",
    "#for key in thisdict:\n",
    "#    print(key)\n",
    "    \n",
    "#for value in thisdict:\n",
    "#    print(thisdict[value])\n",
    "\n",
    "## use .key() and .values() to loop\n"
   ]
  }
 ],
 "metadata": {
  "kernelspec": {
   "display_name": "Python 3",
   "language": "python",
   "name": "python3"
  },
  "language_info": {
   "codemirror_mode": {
    "name": "ipython",
    "version": 3
   },
   "file_extension": ".py",
   "mimetype": "text/x-python",
   "name": "python",
   "nbconvert_exporter": "python",
   "pygments_lexer": "ipython3",
   "version": "3.8.3"
  }
 },
 "nbformat": 4,
 "nbformat_minor": 4
}
