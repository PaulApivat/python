{
 "cells": [
  {
   "cell_type": "code",
   "execution_count": 1,
   "metadata": {},
   "outputs": [
    {
     "name": "stdout",
     "output_type": "stream",
     "text": [
      "good bye\n"
     ]
    }
   ],
   "source": [
    "# Basic if-statements\n",
    "\n",
    "x = 3\n",
    "y = 2\n",
    "if x < y:\n",
    "  print('hello')\n",
    "else:\n",
    "  print('good bye')"
   ]
  },
  {
   "cell_type": "code",
   "execution_count": 3,
   "metadata": {},
   "outputs": [
    {
     "name": "stdout",
     "output_type": "stream",
     "text": [
      "good bye\n"
     ]
    }
   ],
   "source": [
    "# if-statement one liner\n",
    "\n",
    "print('hello') if x < y else print('good bye')"
   ]
  },
  {
   "cell_type": "code",
   "execution_count": 14,
   "metadata": {},
   "outputs": [
    {
     "name": "stdout",
     "output_type": "stream",
     "text": [
      "enter your weight.\n",
      "99\n",
      "men\n"
     ]
    }
   ],
   "source": [
    "# user input fed into if-statement\n",
    "\n",
    "weight = int(input('enter your weight.\\n'))\n",
    "\n",
    "if weight < 60:\n",
    "  print('women')\n",
    "else:\n",
    "  print('men')"
   ]
  },
  {
   "cell_type": "code",
   "execution_count": 10,
   "metadata": {},
   "outputs": [
    {
     "name": "stdout",
     "output_type": "stream",
     "text": [
      "66\n",
      "men\n"
     ]
    }
   ],
   "source": [
    "# one-liner, user input fed into if-statement\n",
    "\n",
    "weight = int(input())\n",
    "\n",
    "print('women') if weight < 60 else print('men')"
   ]
  },
  {
   "cell_type": "code",
   "execution_count": 15,
   "metadata": {},
   "outputs": [
    {
     "name": "stdout",
     "output_type": "stream",
     "text": [
      "how much is that thing?\n",
      "one hundred dollar\n"
     ]
    },
    {
     "data": {
      "text/plain": [
       "'wrong data type'"
      ]
     },
     "execution_count": 15,
     "metadata": {},
     "output_type": "execute_result"
    }
   ],
   "source": [
    "# multiple if-statements\n",
    "# you can have multiple if-else flows in one function\n",
    "\n",
    "def howmuch():\n",
    "  mywallet = 100\n",
    "  pricetag = input('how much is that thing?\\n')\n",
    "    \n",
    "  if pricetag.isdigit():\n",
    "    pricetag = int(pricetag)\n",
    "  else: \n",
    "    return \"wrong data type\"\n",
    "\n",
    "  if mywallet < pricetag:\n",
    "    return \"Sorry, may be next time.\"\n",
    "  else:\n",
    "    return \"Could I have one, please.\"\n",
    "\n",
    "howmuch()"
   ]
  },
  {
   "cell_type": "code",
   "execution_count": 19,
   "metadata": {},
   "outputs": [
    {
     "name": "stdout",
     "output_type": "stream",
     "text": [
      "paul\n",
      "apivat\n",
      "marvin\n",
      "pim\n",
      "milin\n"
     ]
    }
   ],
   "source": [
    "## For Loop ##\n",
    "\n",
    "## Basic loop through list of string ##\n",
    "\n",
    "name_list = ['paul', 'apivat', 'marvin', 'pim', 'milin']\n",
    "\n",
    "for name in name_list:\n",
    "    print(name)"
   ]
  },
  {
   "cell_type": "code",
   "execution_count": 25,
   "metadata": {},
   "outputs": [
    {
     "name": "stdout",
     "output_type": "stream",
     "text": [
      "3\n",
      "4\n",
      "5\n",
      "2\n",
      "5\n",
      "6\n",
      "7\n",
      "5\n"
     ]
    }
   ],
   "source": [
    "## loop through list of integers ##\n",
    "\n",
    "int_list = [3,4,5,2,5,6,7,5]\n",
    "\n",
    "for num in int_list:\n",
    "    print(num)\n"
   ]
  },
  {
   "cell_type": "code",
   "execution_count": 27,
   "metadata": {},
   "outputs": [
    {
     "name": "stdout",
     "output_type": "stream",
     "text": [
      "hello hello hello \n",
      "hello hello hello hello \n",
      "hello hello hello hello hello \n",
      "hello hello \n",
      "hello hello hello hello hello \n",
      "hello hello hello hello hello hello \n",
      "hello hello hello hello hello hello hello \n",
      "hello hello hello hello hello \n"
     ]
    }
   ],
   "source": [
    "## use loop-through-integers to print strings several times ##\n",
    "\n",
    "int_list = [3,4,5,2,5,6,7,5]\n",
    "\n",
    "for num in int_list:\n",
    "    print(\"hello \"*num)"
   ]
  },
  {
   "cell_type": "code",
   "execution_count": 38,
   "metadata": {},
   "outputs": [
    {
     "name": "stdout",
     "output_type": "stream",
     "text": [
      "3\n",
      "six\n",
      "6\n",
      "seven\n",
      "23\n",
      "True\n"
     ]
    }
   ],
   "source": [
    "## loop through list of several data types ##\n",
    "\n",
    "varied_list = [3,'six', 6, 'seven', 23, True]\n",
    "\n",
    "for item in varied_list:\n",
    "    print(item)"
   ]
  },
  {
   "cell_type": "code",
   "execution_count": 23,
   "metadata": {},
   "outputs": [
    {
     "name": "stdout",
     "output_type": "stream",
     "text": [
      "brand\n",
      "model\n",
      "year\n"
     ]
    }
   ],
   "source": [
    "## looping through dictionary (keys) ##\n",
    "## loops through key ##\n",
    "\n",
    "thisdict = {\n",
    "  \"brand\": \"Ford\",\n",
    "  \"model\": \"Mustang\",\n",
    "  \"year\": 1964\n",
    "}\n",
    "\n",
    "for key in thisdict:\n",
    "    print(key)\n"
   ]
  },
  {
   "cell_type": "code",
   "execution_count": 24,
   "metadata": {},
   "outputs": [
    {
     "name": "stdout",
     "output_type": "stream",
     "text": [
      "brand -> Ford\n",
      "model -> Mustang\n",
      "year -> 1964\n"
     ]
    }
   ],
   "source": [
    "## loop through dictionary (values) ##\n",
    "\n",
    "thisdict = {\n",
    "  \"brand\": \"Ford\",\n",
    "  \"model\": \"Mustang\",\n",
    "  \"year\": 1964\n",
    "}\n",
    "\n",
    "for key in thisdict:\n",
    "    print(key, '->', thisdict[key])"
   ]
  },
  {
   "cell_type": "code",
   "execution_count": 32,
   "metadata": {},
   "outputs": [
    {
     "name": "stdout",
     "output_type": "stream",
     "text": [
      "('brand', 'Ford')\n",
      "('model', 'Mustang')\n",
      "('year', 1964)\n"
     ]
    }
   ],
   "source": [
    "## loop through dictionary using .items() ##\n",
    "## .items() is a built-in method\n",
    "## get both key and value\n",
    "\n",
    "thisdict = {\n",
    "  \"brand\": \"Ford\",\n",
    "  \"model\": \"Mustang\",\n",
    "  \"year\": 1964\n",
    "}\n",
    "\n",
    "\n",
    "these_items = thisdict.items()\n",
    "these_items\n",
    "\n",
    "for item in these_items:\n",
    "    print(item)"
   ]
  },
  {
   "cell_type": "code",
   "execution_count": 36,
   "metadata": {},
   "outputs": [
    {
     "name": "stdout",
     "output_type": "stream",
     "text": [
      "Ford\n",
      "Mustang\n",
      "1964\n",
      "brand\n",
      "model\n",
      "year\n"
     ]
    }
   ],
   "source": [
    "## alternative: loop through key and values ##\n",
    "\n",
    "thisdict = {\n",
    "  \"brand\": \"Ford\",\n",
    "  \"model\": \"Mustang\",\n",
    "  \"year\": 1964\n",
    "}\n",
    "\n",
    "#for key in thisdict:\n",
    "#    print(key)\n",
    "    \n",
    "#for value in thisdict:\n",
    "#    print(thisdict[value])\n",
    "\n",
    "## use .key() and .values() to loop\n",
    "\n",
    "values = thisdict.values()\n",
    "keys = thisdict.keys()\n",
    "\n",
    "for value in values:\n",
    "    print(value)\n",
    "    \n",
    "for key in keys:\n",
    "    print(key)"
   ]
  },
  {
   "cell_type": "code",
   "execution_count": 37,
   "metadata": {},
   "outputs": [
    {
     "name": "stdout",
     "output_type": "stream",
     "text": [
      "apple\n",
      "banana\n",
      "cherry\n"
     ]
    }
   ],
   "source": [
    "## loop through tuple ##\n",
    "\n",
    "thistuple = (\"apple\", \"banana\", \"cherry\")\n",
    "\n",
    "for tuple in thistuple:\n",
    "    print(tuple)\n",
    "    \n"
   ]
  },
  {
   "cell_type": "code",
   "execution_count": 41,
   "metadata": {},
   "outputs": [
    {
     "name": "stdout",
     "output_type": "stream",
     "text": [
      "('r1', 'c1', 11, 11)\n",
      "('r1', 'c2', 12, 12)\n",
      "('r2', 'c1', 21, 21)\n",
      "('r2', 'c2', 22, 22)\n"
     ]
    }
   ],
   "source": [
    "## construct LIST of tuples\n",
    "## loop through list of tuples\n",
    "\n",
    "data = [\n",
    "    ('r1', 'c1', 11, 11),\n",
    "    ('r1', 'c2', 12, 12),\n",
    "    ('r2', 'c1', 21, 21),\n",
    "    ('r2', 'c2', 22, 22)\n",
    "]\n",
    "\n",
    "for d in data:\n",
    "    print(d)\n",
    "    \n"
   ]
  },
  {
   "cell_type": "code",
   "execution_count": 43,
   "metadata": {},
   "outputs": [
    {
     "data": {
      "text/html": [
       "<div>\n",
       "<style scoped>\n",
       "    .dataframe tbody tr th:only-of-type {\n",
       "        vertical-align: middle;\n",
       "    }\n",
       "\n",
       "    .dataframe tbody tr th {\n",
       "        vertical-align: top;\n",
       "    }\n",
       "\n",
       "    .dataframe thead th {\n",
       "        text-align: right;\n",
       "    }\n",
       "</style>\n",
       "<table border=\"1\" class=\"dataframe\">\n",
       "  <thead>\n",
       "    <tr style=\"text-align: right;\">\n",
       "      <th></th>\n",
       "      <th>R_Number</th>\n",
       "      <th>C_Number</th>\n",
       "      <th>Avg</th>\n",
       "      <th>Std</th>\n",
       "    </tr>\n",
       "  </thead>\n",
       "  <tbody>\n",
       "    <tr>\n",
       "      <th>0</th>\n",
       "      <td>r1</td>\n",
       "      <td>c1</td>\n",
       "      <td>11</td>\n",
       "      <td>11</td>\n",
       "    </tr>\n",
       "    <tr>\n",
       "      <th>1</th>\n",
       "      <td>r1</td>\n",
       "      <td>c2</td>\n",
       "      <td>12</td>\n",
       "      <td>12</td>\n",
       "    </tr>\n",
       "    <tr>\n",
       "      <th>2</th>\n",
       "      <td>r2</td>\n",
       "      <td>c1</td>\n",
       "      <td>21</td>\n",
       "      <td>21</td>\n",
       "    </tr>\n",
       "    <tr>\n",
       "      <th>3</th>\n",
       "      <td>r2</td>\n",
       "      <td>c2</td>\n",
       "      <td>22</td>\n",
       "      <td>22</td>\n",
       "    </tr>\n",
       "  </tbody>\n",
       "</table>\n",
       "</div>"
      ],
      "text/plain": [
       "  R_Number C_Number  Avg  Std\n",
       "0       r1       c1   11   11\n",
       "1       r1       c2   12   12\n",
       "2       r2       c1   21   21\n",
       "3       r2       c2   22   22"
      ]
     },
     "execution_count": 43,
     "metadata": {},
     "output_type": "execute_result"
    }
   ],
   "source": [
    "## convert List of Tuples into Pandas DataFrame\n",
    "\n",
    "import pandas as pd\n",
    "\n",
    "df = pd.DataFrame(data, columns=['R_Number', 'C_Number', 'Avg', 'Std'])\n",
    "df"
   ]
  },
  {
   "cell_type": "code",
   "execution_count": 47,
   "metadata": {},
   "outputs": [
    {
     "name": "stdout",
     "output_type": "stream",
     "text": [
      "R_Number\n",
      "C_Number\n",
      "Avg\n",
      "Std\n"
     ]
    }
   ],
   "source": [
    "## loop through newly created Pandas DataFrame ##\n",
    "\n",
    "## loop through column names\n",
    "## basic loop goes for the column name first\n",
    "for col_names in df:\n",
    "    print(col_names)\n",
    "    "
   ]
  },
  {
   "cell_type": "code",
   "execution_count": 53,
   "metadata": {},
   "outputs": [
    {
     "name": "stdout",
     "output_type": "stream",
     "text": [
      "r1\n",
      "r1\n",
      "r2\n",
      "r2\n"
     ]
    }
   ],
   "source": [
    "## loop through one column in a Pandas DataFrame ##\n",
    "\n",
    "#df['R_Number']\n",
    "\n",
    "for items in df['R_Number']:\n",
    "    print(items)"
   ]
  },
  {
   "cell_type": "code",
   "execution_count": 56,
   "metadata": {},
   "outputs": [
    {
     "name": "stdout",
     "output_type": "stream",
     "text": [
      "r1\n",
      "c2\n",
      "12\n",
      "12\n"
     ]
    }
   ],
   "source": [
    "## loop through one row in a Pandas DataFrame ##\n",
    "\n",
    "#df.iloc[1]\n",
    "\n",
    "for items in df.iloc[1]:\n",
    "    print(items)"
   ]
  },
  {
   "cell_type": "code",
   "execution_count": 58,
   "metadata": {},
   "outputs": [
    {
     "data": {
      "text/plain": [
       "12"
      ]
     },
     "execution_count": 58,
     "metadata": {},
     "output_type": "execute_result"
    }
   ],
   "source": [
    "# iloc is row-first, column-second\n",
    "df.iloc[1,2]"
   ]
  },
  {
   "cell_type": "code",
   "execution_count": null,
   "metadata": {},
   "outputs": [],
   "source": []
  }
 ],
 "metadata": {
  "kernelspec": {
   "display_name": "Python 3",
   "language": "python",
   "name": "python3"
  },
  "language_info": {
   "codemirror_mode": {
    "name": "ipython",
    "version": 3
   },
   "file_extension": ".py",
   "mimetype": "text/x-python",
   "name": "python",
   "nbconvert_exporter": "python",
   "pygments_lexer": "ipython3",
   "version": "3.8.3"
  }
 },
 "nbformat": 4,
 "nbformat_minor": 4
}
