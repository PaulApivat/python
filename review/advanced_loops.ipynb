{
 "cells": [
  {
   "cell_type": "code",
   "execution_count": 1,
   "metadata": {},
   "outputs": [
    {
     "name": "stdout",
     "output_type": "stream",
     "text": [
      "index 0: 10\n",
      "index 1: 20\n",
      "index 2: 30\n",
      "index 3: 40\n",
      "index 4: 50\n"
     ]
    }
   ],
   "source": [
    "# Review: Tuples\n",
    "\n",
    "# loop through tuple AND print index of each item\n",
    "\n",
    "x = (10,20,30,40,50)\n",
    "for var in x:\n",
    "    print(\"index \" + str(x.index(var)) + \":\", var)"
   ]
  },
  {
   "cell_type": "code",
   "execution_count": 2,
   "metadata": {},
   "outputs": [
    {
     "name": "stdout",
     "output_type": "stream",
     "text": [
      "1 plus 2 equals 3\n",
      "3 plus 4 equals 7\n",
      "5 plus 6 equals 11\n"
     ]
    }
   ],
   "source": [
    "# List of Tuples\n",
    "# accessing all items in the tuple\n",
    "# two parameters in the loop (a, b), instead of one\n",
    "\n",
    "x = [(1,2), (3,4), (5,6)]\n",
    "\n",
    "for a, b in x:\n",
    "    print(a, \"plus\", b, \"equals\", a+b)"
   ]
  },
  {
   "cell_type": "code",
   "execution_count": 3,
   "metadata": {},
   "outputs": [
    {
     "name": "stdout",
     "output_type": "stream",
     "text": [
      "AAPL : 187.31\n",
      "MSFT : 124.06\n",
      "FB : 183.5\n"
     ]
    }
   ],
   "source": [
    "# Loop through Dictionary, accessing both Key + Values (at the same time)\n",
    "\n",
    "stocks = {\n",
    "        'AAPL': 187.31,\n",
    "        'MSFT': 124.06,\n",
    "        'FB': 183.50\n",
    "        }\n",
    "\n",
    "for key, value in stocks.items():\n",
    "    print(key + \" : \" + str(value))"
   ]
  },
  {
   "cell_type": "code",
   "execution_count": 8,
   "metadata": {},
   "outputs": [
    {
     "name": "stdout",
     "output_type": "stream",
     "text": [
      "187.31\n",
      "124.06\n",
      "183.5\n",
      "AAPL\n",
      "MSFT\n",
      "FB\n",
      "('AAPL', 187.31)\n",
      "('MSFT', 124.06)\n",
      "('FB', 183.5)\n"
     ]
    }
   ],
   "source": [
    "stocks = {\n",
    "        'AAPL': 187.31,\n",
    "        'MSFT': 124.06,\n",
    "        'FB': 183.50\n",
    "        }\n",
    "\n",
    "values = stocks.values()\n",
    "\n",
    "for val in values:\n",
    "    print(val)\n",
    "    \n",
    "keys = stocks.keys()\n",
    "\n",
    "for key in keys:\n",
    "    print(key)\n",
    "    \n",
    "items = stocks.items()\n",
    "\n",
    "for item in items:\n",
    "    print(item)"
   ]
  },
  {
   "cell_type": "code",
   "execution_count": 12,
   "metadata": {},
   "outputs": [
    {
     "name": "stdout",
     "output_type": "stream",
     "text": [
      "5\n",
      "0\n",
      "3\n",
      "3\n",
      "7\n",
      "9\n"
     ]
    }
   ],
   "source": [
    "# LOOPS with NUMPY ARRAYS\n",
    "\n",
    "import numpy as np\n",
    "np.random.seed(0) # seed for reproducibility\n",
    "\n",
    "x = np.random.randint(10, size=6)\n",
    "y = np.random.randint(10, size=6)\n",
    "\n",
    "for val in x:\n",
    "    print(val)"
   ]
  },
  {
   "cell_type": "code",
   "execution_count": 13,
   "metadata": {},
   "outputs": [
    {
     "name": "stdout",
     "output_type": "stream",
     "text": [
      "[5 0 3 3 7 9]\n",
      "[3 5 2 4 7 6]\n"
     ]
    }
   ],
   "source": [
    "# Loop through 2-dimensional array\n",
    "# 2-dimentional array built from x and y\n",
    "\n",
    "z = np.array([x,y])\n",
    "\n",
    "for val in z:\n",
    "    print(val)"
   ]
  },
  {
   "cell_type": "code",
   "execution_count": 14,
   "metadata": {},
   "outputs": [
    {
     "name": "stdout",
     "output_type": "stream",
     "text": [
      "5\n",
      "0\n",
      "3\n",
      "3\n",
      "7\n",
      "9\n",
      "3\n",
      "5\n",
      "2\n",
      "4\n",
      "7\n",
      "6\n"
     ]
    }
   ],
   "source": [
    "# instead of looping through the array,\n",
    "# visit every element using .nditer()\n",
    "\n",
    "for val in np.nditer(z):\n",
    "    print(val)"
   ]
  },
  {
   "cell_type": "code",
   "execution_count": null,
   "metadata": {},
   "outputs": [],
   "source": [
    "# NOTE: \n",
    "\n",
    "# When looping through different data structures, dictionaries require a method, \n",
    "# while numpy array requires a function"
   ]
  },
  {
   "cell_type": "code",
   "execution_count": 16,
   "metadata": {},
   "outputs": [
    {
     "data": {
      "text/html": [
       "<div>\n",
       "<style scoped>\n",
       "    .dataframe tbody tr th:only-of-type {\n",
       "        vertical-align: middle;\n",
       "    }\n",
       "\n",
       "    .dataframe tbody tr th {\n",
       "        vertical-align: top;\n",
       "    }\n",
       "\n",
       "    .dataframe thead th {\n",
       "        text-align: right;\n",
       "    }\n",
       "</style>\n",
       "<table border=\"1\" class=\"dataframe\">\n",
       "  <thead>\n",
       "    <tr style=\"text-align: right;\">\n",
       "      <th></th>\n",
       "      <th>Capital</th>\n",
       "      <th>GDP ($US Trillion)</th>\n",
       "      <th>Population</th>\n",
       "    </tr>\n",
       "    <tr>\n",
       "      <th>Country</th>\n",
       "      <th></th>\n",
       "      <th></th>\n",
       "      <th></th>\n",
       "    </tr>\n",
       "  </thead>\n",
       "  <tbody>\n",
       "    <tr>\n",
       "      <th>Ireland</th>\n",
       "      <td>Dublin</td>\n",
       "      <td>0.3337</td>\n",
       "      <td>4784000</td>\n",
       "    </tr>\n",
       "    <tr>\n",
       "      <th>United Kingdom</th>\n",
       "      <td>London</td>\n",
       "      <td>2.6220</td>\n",
       "      <td>66040000</td>\n",
       "    </tr>\n",
       "    <tr>\n",
       "      <th>United States</th>\n",
       "      <td>Washington, D.C.</td>\n",
       "      <td>19.3900</td>\n",
       "      <td>327200000</td>\n",
       "    </tr>\n",
       "    <tr>\n",
       "      <th>China</th>\n",
       "      <td>Beijing</td>\n",
       "      <td>12.2400</td>\n",
       "      <td>1386000000</td>\n",
       "    </tr>\n",
       "    <tr>\n",
       "      <th>India</th>\n",
       "      <td>New Delhi</td>\n",
       "      <td>2.5970</td>\n",
       "      <td>1339000000</td>\n",
       "    </tr>\n",
       "  </tbody>\n",
       "</table>\n",
       "</div>"
      ],
      "text/plain": [
       "                         Capital  GDP ($US Trillion)  Population \n",
       "Country                                                          \n",
       "Ireland                   Dublin              0.3337      4784000\n",
       "United Kingdom            London              2.6220     66040000\n",
       "United States   Washington, D.C.             19.3900    327200000\n",
       "China                    Beijing             12.2400   1386000000\n",
       "India                  New Delhi              2.5970   1339000000"
      ]
     },
     "execution_count": 16,
     "metadata": {},
     "output_type": "execute_result"
    }
   ],
   "source": [
    "import pandas as pd\n",
    "\n",
    "# index_col = 0 makes the 1st column the index (?)\n",
    "df = pd.read_csv(\"gdp.csv\", index_col = 0)\n",
    "df.head()"
   ]
  },
  {
   "cell_type": "code",
   "execution_count": 17,
   "metadata": {},
   "outputs": [
    {
     "name": "stdout",
     "output_type": "stream",
     "text": [
      "Capital\n",
      "GDP ($US Trillion)\n",
      "Population \n"
     ]
    }
   ],
   "source": [
    "# Looping through column names\n",
    "\n",
    "for col in df:\n",
    "    print(col)"
   ]
  },
  {
   "cell_type": "code",
   "execution_count": 24,
   "metadata": {},
   "outputs": [
    {
     "name": "stdout",
     "output_type": "stream",
     "text": [
      "row label: Ireland \n",
      "\n",
      "rows:\n",
      " Capital                Dublin\n",
      "GDP ($US Trillion)     0.3337\n",
      "Population            4784000\n",
      "Name: Ireland, dtype: object \n",
      "\n",
      "row label: United Kingdom \n",
      "\n",
      "rows:\n",
      " Capital                 London\n",
      "GDP ($US Trillion)       2.622\n",
      "Population            66040000\n",
      "Name: United Kingdom, dtype: object \n",
      "\n",
      "row label: United States \n",
      "\n",
      "rows:\n",
      " Capital               Washington, D.C.\n",
      "GDP ($US Trillion)               19.39\n",
      "Population                   327200000\n",
      "Name: United States, dtype: object \n",
      "\n",
      "row label: China \n",
      "\n",
      "rows:\n",
      " Capital                  Beijing\n",
      "GDP ($US Trillion)         12.24\n",
      "Population            1386000000\n",
      "Name: China, dtype: object \n",
      "\n",
      "row label: India \n",
      "\n",
      "rows:\n",
      " Capital                New Delhi\n",
      "GDP ($US Trillion)         2.597\n",
      "Population            1339000000\n",
      "Name: India, dtype: object \n",
      "\n",
      "row label: Germany \n",
      "\n",
      "rows:\n",
      " Capital                 Berlin\n",
      "GDP ($US Trillion)       3.677\n",
      "Population            82790000\n",
      "Name: Germany, dtype: object \n",
      "\n"
     ]
    }
   ],
   "source": [
    "# Looping through ROWS - need to call .iterrows() function\n",
    "\n",
    "for label, row in df.iterrows():\n",
    "    print(\"row label:\", label, \"\\n\")\n",
    "    print(\"rows:\\n\", row, \"\\n\")"
   ]
  },
  {
   "cell_type": "code",
   "execution_count": 38,
   "metadata": {},
   "outputs": [
    {
     "name": "stdout",
     "output_type": "stream",
     "text": [
      "Ireland : Dublin\n",
      "United Kingdom : London\n",
      "United States : Washington, D.C.\n",
      "China : Beijing\n",
      "India : New Delhi\n",
      "Germany : Berlin\n",
      "4784000\n",
      "66040000\n",
      "327200000\n",
      "1386000000\n",
      "1339000000\n",
      "82790000\n"
     ]
    }
   ],
   "source": [
    "# access specific values from a Pandas Series (column)\n",
    "\n",
    "for label, row in df.iterrows():\n",
    "    print(label + \" : \" + row[\"Capital\"])\n",
    "\n",
    "# need to use row[2] instead of row['Population']\n",
    "# TypeError: 'str' object cannot be interpreted as an integer\n",
    "for label, row in df.iterrows():\n",
    "    print(row[2])"
   ]
  },
  {
   "cell_type": "code",
   "execution_count": 41,
   "metadata": {},
   "outputs": [
    {
     "name": "stdout",
     "output_type": "stream",
     "text": [
      "                         Capital  GDP ($US Trillion)  Population   \\\n",
      "Country                                                             \n",
      "Ireland                   Dublin              0.3337      4784000   \n",
      "United Kingdom            London              2.6220     66040000   \n",
      "United States   Washington, D.C.             19.3900    327200000   \n",
      "China                    Beijing             12.2400   1386000000   \n",
      "India                  New Delhi              2.5970   1339000000   \n",
      "Germany                   Berlin              3.6770     82790000   \n",
      "\n",
      "                 gdp_per_cap  \n",
      "Country                       \n",
      "Ireland         69753.344482  \n",
      "United Kingdom  39703.210176  \n",
      "United States   59260.391198  \n",
      "China            8831.168831  \n",
      "India            1939.507095  \n",
      "Germany         44413.576519  \n"
     ]
    }
   ],
   "source": [
    "# Use loop to ADD another column\n",
    "# this would be done with mutate in tidyverse\n",
    "\n",
    "for label, row in df.iterrows():\n",
    "    df.loc[label, 'gdp_per_cap'] = row[1]/row[2] * 1000000000000\n",
    "print(df)"
   ]
  },
  {
   "cell_type": "code",
   "execution_count": 44,
   "metadata": {},
   "outputs": [
    {
     "name": "stdout",
     "output_type": "stream",
     "text": [
      "                         Capital  GDP ($US Trillion)  Population   \\\n",
      "Country                                                             \n",
      "Ireland                   Dublin              0.3337      4784000   \n",
      "United Kingdom            London              2.6220     66040000   \n",
      "United States   Washington, D.C.             19.3900    327200000   \n",
      "China                    Beijing             12.2400   1386000000   \n",
      "India                  New Delhi              2.5970   1339000000   \n",
      "Germany                   Berlin              3.6770     82790000   \n",
      "\n",
      "                 gdp_per_cap  \n",
      "Country                       \n",
      "Ireland         69753.344482  \n",
      "United Kingdom  39703.210176  \n",
      "United States   59260.391198  \n",
      "China            8831.168831  \n",
      "India            1939.507095  \n",
      "Germany         44413.576519  \n"
     ]
    }
   ],
   "source": [
    "# NOTE: my previous error was not including the space after 'Population '\n",
    "\n",
    "for label, row in df.iterrows():\n",
    "    df.loc[label,'gdp_per_cap'] = row['GDP ($US Trillion)']/row['Population '] * 1000000000000\n",
    "print(df)"
   ]
  },
  {
   "cell_type": "code",
   "execution_count": 5,
   "metadata": {},
   "outputs": [
    {
     "name": "stdout",
     "output_type": "stream",
     "text": [
      "range(stop): 0\n",
      "range(stop): 1\n",
      "range(stop): 2\n",
      "range(start,stop): 1\n",
      "range(start,stop): 2\n",
      "range(start,stop): 3\n",
      "range(start,stop): 4\n",
      "range(start,stop): 5\n",
      "range(start,stop): 6\n",
      "range(start,stop): 7\n",
      "range(start,stop,step): 3\n",
      "range(start,stop,step): 6\n",
      "range(start,stop,step): 9\n",
      "range(start,stop,step): 12\n",
      "range(start,stop,step): 15\n"
     ]
    }
   ],
   "source": [
    "#### The range() function ####\n",
    "\n",
    "# Three ways to write range() #\n",
    "\n",
    "#### range(stop) ####\n",
    "#### range(start, stop) ####\n",
    "#### range(start, stop, step) ####\n",
    "\n",
    "# range(stop)\n",
    "for i in range(3):\n",
    "    print(\"range(stop):\", i)\n",
    "\n",
    "for i in range(1,8):\n",
    "    print(\"range(start,stop):\", i)\n",
    "    \n",
    "for i in range(3, 16, 3):\n",
    "    print(\"range(start,stop,step):\", i)"
   ]
  },
  {
   "cell_type": "code",
   "execution_count": 10,
   "metadata": {},
   "outputs": [
    {
     "name": "stdout",
     "output_type": "stream",
     "text": [
      "Language: Spanish\n",
      "Language: English\n",
      "Language: French\n",
      "Language: German\n",
      "Language: Irish\n",
      "Language: Chinese\n"
     ]
    }
   ],
   "source": [
    "# List version\n",
    "\n",
    "languages = ['Spanish', 'English',  'French', 'German', 'Irish', 'Chinese']\n",
    "\n",
    "for lang in languages:\n",
    "    print('Language:', lang)"
   ]
  },
  {
   "cell_type": "code",
   "execution_count": 12,
   "metadata": {},
   "outputs": [
    {
     "name": "stdout",
     "output_type": "stream",
     "text": [
      "Language: Spanish\n",
      "Language: English\n",
      "Language: French\n",
      "Language: German\n",
      "Language: Irish\n",
      "Language: Chinese\n",
      "re-write: Spanish\n",
      "re-write: English\n",
      "re-write: French\n",
      "re-write: German\n",
      "re-write: Irish\n",
      "re-write: Chinese\n"
     ]
    }
   ],
   "source": [
    "# Using range() to loop through Lists - using len() and list[index]\n",
    "\n",
    "languages = ['Spanish', 'English',  'French', 'German', 'Irish', 'Chinese']\n",
    "\n",
    "#range(len(languages)) --> range(0, 6) // start at 0 index, stop at 6 index\n",
    "\n",
    "for index in range(len(languages)):\n",
    "    print('Language:', languages[index])\n",
    "    \n",
    "# re-write: languages happen to have 6 items\n",
    "for index in range(6):\n",
    "    print(\"re-write:\", languages[index])"
   ]
  },
  {
   "cell_type": "code",
   "execution_count": 13,
   "metadata": {},
   "outputs": [
    {
     "data": {
      "text/html": [
       "<div>\n",
       "<style scoped>\n",
       "    .dataframe tbody tr th:only-of-type {\n",
       "        vertical-align: middle;\n",
       "    }\n",
       "\n",
       "    .dataframe tbody tr th {\n",
       "        vertical-align: top;\n",
       "    }\n",
       "\n",
       "    .dataframe thead th {\n",
       "        text-align: right;\n",
       "    }\n",
       "</style>\n",
       "<table border=\"1\" class=\"dataframe\">\n",
       "  <thead>\n",
       "    <tr style=\"text-align: right;\">\n",
       "      <th></th>\n",
       "      <th>sepal_length</th>\n",
       "      <th>sepal_width</th>\n",
       "      <th>petal_length</th>\n",
       "      <th>petal_width</th>\n",
       "      <th>species</th>\n",
       "    </tr>\n",
       "  </thead>\n",
       "  <tbody>\n",
       "    <tr>\n",
       "      <th>0</th>\n",
       "      <td>5.1</td>\n",
       "      <td>3.5</td>\n",
       "      <td>1.4</td>\n",
       "      <td>0.2</td>\n",
       "      <td>setosa</td>\n",
       "    </tr>\n",
       "    <tr>\n",
       "      <th>1</th>\n",
       "      <td>4.9</td>\n",
       "      <td>3.0</td>\n",
       "      <td>1.4</td>\n",
       "      <td>0.2</td>\n",
       "      <td>setosa</td>\n",
       "    </tr>\n",
       "    <tr>\n",
       "      <th>2</th>\n",
       "      <td>4.7</td>\n",
       "      <td>3.2</td>\n",
       "      <td>1.3</td>\n",
       "      <td>0.2</td>\n",
       "      <td>setosa</td>\n",
       "    </tr>\n",
       "    <tr>\n",
       "      <th>3</th>\n",
       "      <td>4.6</td>\n",
       "      <td>3.1</td>\n",
       "      <td>1.5</td>\n",
       "      <td>0.2</td>\n",
       "      <td>setosa</td>\n",
       "    </tr>\n",
       "    <tr>\n",
       "      <th>4</th>\n",
       "      <td>5.0</td>\n",
       "      <td>3.6</td>\n",
       "      <td>1.4</td>\n",
       "      <td>0.2</td>\n",
       "      <td>setosa</td>\n",
       "    </tr>\n",
       "  </tbody>\n",
       "</table>\n",
       "</div>"
      ],
      "text/plain": [
       "   sepal_length  sepal_width  petal_length  petal_width species\n",
       "0           5.1          3.5           1.4          0.2  setosa\n",
       "1           4.9          3.0           1.4          0.2  setosa\n",
       "2           4.7          3.2           1.3          0.2  setosa\n",
       "3           4.6          3.1           1.5          0.2  setosa\n",
       "4           5.0          3.6           1.4          0.2  setosa"
      ]
     },
     "execution_count": 13,
     "metadata": {},
     "output_type": "execute_result"
    }
   ],
   "source": [
    "#### PLOTTING with For Loops ####\n",
    "\n",
    "import pandas as pd\n",
    "import matplotlib.pyplot as plt\n",
    "\n",
    "df = pd.read_csv(\"iris.csv\")\n",
    "df.head()"
   ]
  },
  {
   "cell_type": "code",
   "execution_count": 16,
   "metadata": {},
   "outputs": [
    {
     "data": {
      "text/plain": [
       "Text(0, 0.5, 'sepal_width')"
      ]
     },
     "execution_count": 16,
     "metadata": {},
     "output_type": "execute_result"
    },
    {
     "data": {
      "image/png": "[encoded data removed]",
      "text/plain": [
       "<Figure size 432x288 with 1 Axes>"
      ]
     },
     "metadata": {
      "needs_background": "light"
     },
     "output_type": "display_data"
    }
   ],
   "source": [
    "# create figure with axis\n",
    "\n",
    "fig, ax = plt.subplots()\n",
    "\n",
    "# Scatter plot of sepal_length and sepal_width\n",
    "ax.scatter(df['sepal_length'], df['sepal_width'])\n",
    "\n",
    "# set title, labels\n",
    "ax.set_title(\"Iris Dataset\")\n",
    "ax.set_xlabel(\"sepal_length\")\n",
    "ax.set_ylabel(\"sepal_width\")"
   ]
  },
  {
   "cell_type": "code",
   "execution_count": 23,
   "metadata": {},
   "outputs": [
    {
     "data": {
      "text/plain": [
       "Text(0, 0.5, 'sepal_width')"
      ]
     },
     "execution_count": 23,
     "metadata": {},
     "output_type": "execute_result"
    },
    {
     "data": {
      "image/png": "[encoded data removed]",
      "text/plain": [
       "<Figure size 432x288 with 1 Axes>"
      ]
     },
     "metadata": {
      "needs_background": "light"
     },
     "output_type": "display_data"
    }
   ],
   "source": [
    "## Use a For Loop, pass respective color to the dots\n",
    "\n",
    "# create color dictionary - note: r = red, g = green, b = blue\n",
    "colors = {'setosa':'r', 'versicolor':'g', 'virginica':'b'}\n",
    "\n",
    "# create a figure and axis\n",
    "fig, ax = plt.subplots()\n",
    "\n",
    "# plot each data point\n",
    "for i in range(len(df['sepal_length'])):\n",
    "    ax.scatter(df['sepal_length'][i], df['sepal_width'][i], color=colors[df['species'][i]])\n",
    "\n",
    "# set a title and labels\n",
    "ax.set_title('Iris Dataset')\n",
    "ax.set_xlabel('sepal_length')\n",
    "ax.set_ylabel('sepal_width')"
   ]
  }
 ],
 "metadata": {
  "kernelspec": {
   "display_name": "Python 3",
   "language": "python",
   "name": "python3"
  },
  "language_info": {
   "codemirror_mode": {
    "name": "ipython",
    "version": 3
   },
   "file_extension": ".py",
   "mimetype": "text/x-python",
   "name": "python",
   "nbconvert_exporter": "python",
   "pygments_lexer": "ipython3",
   "version": "3.8.3"
  }
 },
 "nbformat": 4,
 "nbformat_minor": 4
}
