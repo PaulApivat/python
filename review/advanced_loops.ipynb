{
 "cells": [
  {
   "cell_type": "code",
   "execution_count": 1,
   "metadata": {},
   "outputs": [
    {
     "name": "stdout",
     "output_type": "stream",
     "text": [
      "index 0: 10\n",
      "index 1: 20\n",
      "index 2: 30\n",
      "index 3: 40\n",
      "index 4: 50\n"
     ]
    }
   ],
   "source": [
    "# Review: Tuples\n",
    "\n",
    "# loop through tuple AND print index of each item\n",
    "\n",
    "x = (10,20,30,40,50)\n",
    "for var in x:\n",
    "    print(\"index \" + str(x.index(var)) + \":\", var)"
   ]
  },
  {
   "cell_type": "code",
   "execution_count": 2,
   "metadata": {},
   "outputs": [
    {
     "name": "stdout",
     "output_type": "stream",
     "text": [
      "1 plus 2 equals 3\n",
      "3 plus 4 equals 7\n",
      "5 plus 6 equals 11\n"
     ]
    }
   ],
   "source": [
    "# List of Tuples\n",
    "# accessing all items in the tuple\n",
    "# two parameters in the loop (a, b), instead of one\n",
    "\n",
    "x = [(1,2), (3,4), (5,6)]\n",
    "\n",
    "for a, b in x:\n",
    "    print(a, \"plus\", b, \"equals\", a+b)"
   ]
  },
  {
   "cell_type": "code",
   "execution_count": 3,
   "metadata": {},
   "outputs": [
    {
     "name": "stdout",
     "output_type": "stream",
     "text": [
      "AAPL : 187.31\n",
      "MSFT : 124.06\n",
      "FB : 183.5\n"
     ]
    }
   ],
   "source": [
    "# Loop through Dictionary, accessing both Key + Values (at the same time)\n",
    "\n",
    "stocks = {\n",
    "        'AAPL': 187.31,\n",
    "        'MSFT': 124.06,\n",
    "        'FB': 183.50\n",
    "        }\n",
    "\n",
    "for key, value in stocks.items():\n",
    "    print(key + \" : \" + str(value))"
   ]
  },
  {
   "cell_type": "code",
   "execution_count": 8,
   "metadata": {},
   "outputs": [
    {
     "name": "stdout",
     "output_type": "stream",
     "text": [
      "187.31\n",
      "124.06\n",
      "183.5\n",
      "AAPL\n",
      "MSFT\n",
      "FB\n",
      "('AAPL', 187.31)\n",
      "('MSFT', 124.06)\n",
      "('FB', 183.5)\n"
     ]
    }
   ],
   "source": [
    "stocks = {\n",
    "        'AAPL': 187.31,\n",
    "        'MSFT': 124.06,\n",
    "        'FB': 183.50\n",
    "        }\n",
    "\n",
    "values = stocks.values()\n",
    "\n",
    "for val in values:\n",
    "    print(val)\n",
    "    \n",
    "keys = stocks.keys()\n",
    "\n",
    "for key in keys:\n",
    "    print(key)\n",
    "    \n",
    "items = stocks.items()\n",
    "\n",
    "for item in items:\n",
    "    print(item)"
   ]
  },
  {
   "cell_type": "code",
   "execution_count": 12,
   "metadata": {},
   "outputs": [
    {
     "name": "stdout",
     "output_type": "stream",
     "text": [
      "5\n",
      "0\n",
      "3\n",
      "3\n",
      "7\n",
      "9\n"
     ]
    }
   ],
   "source": [
    "# LOOPS with NUMPY ARRAYS\n",
    "\n",
    "import numpy as np\n",
    "np.random.seed(0) # seed for reproducibility\n",
    "\n",
    "x = np.random.randint(10, size=6)\n",
    "y = np.random.randint(10, size=6)\n",
    "\n",
    "for val in x:\n",
    "    print(val)"
   ]
  },
  {
   "cell_type": "code",
   "execution_count": 13,
   "metadata": {},
   "outputs": [
    {
     "name": "stdout",
     "output_type": "stream",
     "text": [
      "[5 0 3 3 7 9]\n",
      "[3 5 2 4 7 6]\n"
     ]
    }
   ],
   "source": [
    "# Loop through 2-dimensional array\n",
    "# 2-dimentional array built from x and y\n",
    "\n",
    "z = np.array([x,y])\n",
    "\n",
    "for val in z:\n",
    "    print(val)"
   ]
  },
  {
   "cell_type": "code",
   "execution_count": 14,
   "metadata": {},
   "outputs": [
    {
     "name": "stdout",
     "output_type": "stream",
     "text": [
      "5\n",
      "0\n",
      "3\n",
      "3\n",
      "7\n",
      "9\n",
      "3\n",
      "5\n",
      "2\n",
      "4\n",
      "7\n",
      "6\n"
     ]
    }
   ],
   "source": [
    "# instead of looping through the array,\n",
    "# visit every element using .nditer()\n",
    "\n",
    "for val in np.nditer(z):\n",
    "    print(val)"
   ]
  },
  {
   "cell_type": "code",
   "execution_count": null,
   "metadata": {},
   "outputs": [],
   "source": [
    "# NOTE: When looping through different data structures, dictionaries require a method, \n",
    "# while numpy array requires a function"
   ]
  }
 ],
 "metadata": {
  "kernelspec": {
   "display_name": "Python 3",
   "language": "python",
   "name": "python3"
  },
  "language_info": {
   "codemirror_mode": {
    "name": "ipython",
    "version": 3
   },
   "file_extension": ".py",
   "mimetype": "text/x-python",
   "name": "python",
   "nbconvert_exporter": "python",
   "pygments_lexer": "ipython3",
   "version": "3.8.3"
  }
 },
 "nbformat": 4,
 "nbformat_minor": 4
}
